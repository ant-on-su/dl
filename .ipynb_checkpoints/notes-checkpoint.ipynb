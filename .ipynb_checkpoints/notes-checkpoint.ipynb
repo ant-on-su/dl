{
 "cells": [
  {
   "cell_type": "code",
   "execution_count": 1,
   "id": "161388e9-7a1e-4564-8b8f-f9d79355308a",
   "metadata": {},
   "outputs": [],
   "source": [
    "import tensorflow as tf"
   ]
  },
  {
   "cell_type": "code",
   "execution_count": 2,
   "id": "0c40624d-ccb5-4f21-98ef-7acc54c41053",
   "metadata": {},
   "outputs": [
    {
     "data": {
      "text/plain": [
       "'2.7.0'"
      ]
     },
     "execution_count": 2,
     "metadata": {},
     "output_type": "execute_result"
    }
   ],
   "source": [
    "tf.__version__"
   ]
  },
  {
   "cell_type": "code",
   "execution_count": 14,
   "id": "a1f39c5c-565e-4573-a9b2-b8e59d0b36f6",
   "metadata": {},
   "outputs": [],
   "source": [
    "A = tf.constant([[4,3],[6,1]])\n",
    "B = tf.constant([[4,3],[6,1]])"
   ]
  },
  {
   "cell_type": "code",
   "execution_count": 15,
   "id": "ae5ef14e-dad7-42bf-8a29-7a723cb163bb",
   "metadata": {},
   "outputs": [
    {
     "data": {
      "text/plain": [
       "<tf.Tensor: shape=(2, 2), dtype=int32, numpy=\n",
       "array([[4, 3],\n",
       "       [6, 1]])>"
      ]
     },
     "execution_count": 15,
     "metadata": {},
     "output_type": "execute_result"
    }
   ],
   "source": [
    "A"
   ]
  },
  {
   "cell_type": "code",
   "execution_count": 16,
   "id": "8803e265-b4ef-40c2-8654-bb2279966991",
   "metadata": {},
   "outputs": [],
   "source": [
    "V = tf.Variable([[3,1],[5,2]])"
   ]
  },
  {
   "cell_type": "code",
   "execution_count": 17,
   "id": "51b2f9b6-6566-4156-b510-aef182ce82f8",
   "metadata": {},
   "outputs": [
    {
     "data": {
      "text/plain": [
       "<tf.Variable 'Variable:0' shape=(2, 2) dtype=int32, numpy=\n",
       "array([[3, 1],\n",
       "       [5, 2]])>"
      ]
     },
     "execution_count": 17,
     "metadata": {},
     "output_type": "execute_result"
    }
   ],
   "source": [
    "V"
   ]
  },
  {
   "cell_type": "code",
   "execution_count": 19,
   "id": "30f61cb2-bfaa-493f-9d4e-a75424db2a0e",
   "metadata": {},
   "outputs": [],
   "source": [
    "  AB = tf.concat(values=[A, B], axis=1)"
   ]
  },
  {
   "cell_type": "code",
   "execution_count": 20,
   "id": "f3600452-a7a5-45e2-be0f-f45a3a012ab9",
   "metadata": {},
   "outputs": [
    {
     "data": {
      "text/plain": [
       "<tf.Tensor: shape=(2, 4), dtype=int32, numpy=\n",
       "array([[4, 3, 4, 3],\n",
       "       [6, 1, 6, 1]])>"
      ]
     },
     "execution_count": 20,
     "metadata": {},
     "output_type": "execute_result"
    }
   ],
   "source": [
    "AB"
   ]
  },
  {
   "cell_type": "code",
   "execution_count": 21,
   "id": "1c8689f1-218a-4a48-9621-299fe572b121",
   "metadata": {},
   "outputs": [
    {
     "data": {
      "text/plain": [
       "<tf.Tensor: shape=(2, 2), dtype=int32, numpy=\n",
       "array([[34, 15],\n",
       "       [30, 19]])>"
      ]
     },
     "execution_count": 21,
     "metadata": {},
     "output_type": "execute_result"
    }
   ],
   "source": [
    "tf.matmul(A,B)"
   ]
  },
  {
   "cell_type": "code",
   "execution_count": 22,
   "id": "6d27d17f-4594-4fb3-bc99-56fc5d091713",
   "metadata": {},
   "outputs": [
    {
     "data": {
      "text/plain": [
       "<tf.Tensor: shape=(2, 2), dtype=int32, numpy=\n",
       "array([[16,  9],\n",
       "       [36,  1]])>"
      ]
     },
     "execution_count": 22,
     "metadata": {},
     "output_type": "execute_result"
    }
   ],
   "source": [
    "tf.multiply(A,B)"
   ]
  },
  {
   "cell_type": "code",
   "execution_count": 23,
   "id": "8baa8b38-f5df-4705-9f73-bb512fa3891b",
   "metadata": {},
   "outputs": [
    {
     "data": {
      "text/plain": [
       "TensorShape([2, 2])"
      ]
     },
     "execution_count": 23,
     "metadata": {},
     "output_type": "execute_result"
    }
   ],
   "source": [
    "A.shape"
   ]
  },
  {
   "cell_type": "code",
   "execution_count": null,
   "id": "d51c6678-cb85-4d0a-be6c-c974ced43931",
   "metadata": {},
   "outputs": [],
   "source": []
  }
 ],
 "metadata": {
  "kernelspec": {
   "display_name": "Python [conda env:gdd-dl] *",
   "language": "python",
   "name": "conda-env-gdd-dl-py"
  },
  "language_info": {
   "codemirror_mode": {
    "name": "ipython",
    "version": 3
   },
   "file_extension": ".py",
   "mimetype": "text/x-python",
   "name": "python",
   "nbconvert_exporter": "python",
   "pygments_lexer": "ipython3",
   "version": "3.8.12"
  }
 },
 "nbformat": 4,
 "nbformat_minor": 5
}
