{
 "cells": [
  {
   "cell_type": "code",
   "execution_count": 1,
   "metadata": {},
   "outputs": [
    {
     "data": {
      "text/html": [
       "<link rel=\"stylesheet\" type=\"text/css\" href=\"../css/custom.css\">\n"
      ],
      "text/plain": [
       "<IPython.core.display.HTML object>"
      ]
     },
     "metadata": {},
     "output_type": "display_data"
    }
   ],
   "source": [
    "%%HTML\n",
    "<link rel=\"stylesheet\" type=\"text/css\" href=\"../css/custom.css\">"
   ]
  },
  {
   "cell_type": "markdown",
   "metadata": {},
   "source": [
    "# Build your first convolutional neural network with Keras\n",
    "\n",
    "![keras center third](../images/keras_basics/keras.png)\n",
    "![footer_logo](../images/logo.png)\n",
    "\n",
    "## Goal\n",
    "The goal of this notebook is to let you build your first convolutional neural network. The example we will be working with is digit classification. Use layers such as convolutions, pooling, dropout and batch normalization for image recognition. \n",
    "\n",
    "## Program\n",
    "\n",
    "- [The MNIST Dataset]()\n",
    "- [Data Preprocessing]()\n",
    "- [Building the model]()\n",
    "- [Training and evaluating the model]()"
   ]
  },
  {
   "cell_type": "code",
   "execution_count": 2,
   "metadata": {},
   "outputs": [],
   "source": [
    "import os\n",
    "import random\n",
    "\n",
    "import matplotlib.pyplot as plt\n",
    "import numpy as np\n",
    "import pandas as pd\n",
    "import seaborn as sns\n",
    "\n",
    "from tensorflow.keras import datasets\n",
    "from tensorflow.keras import layers\n",
    "from tensorflow.keras.models import Sequential\n",
    "from tensorflow.keras.utils import to_categorical\n",
    "\n",
    "np.random.seed(707)\n",
    "\n",
    "%matplotlib inline"
   ]
  },
  {
   "cell_type": "code",
   "execution_count": 3,
   "metadata": {},
   "outputs": [],
   "source": [
    "plt.rcParams[\"figure.figsize\"] = 15, 6"
   ]
  },
  {
   "cell_type": "markdown",
   "metadata": {},
   "source": [
    "---\n",
    "## MNIST \n",
    "\n",
    "Like many other libraries, such as scikit-learn, `keras` includes some standard datasets to play around with. Let's load the MNIST dataset and explore what it contains: "
   ]
  },
  {
   "cell_type": "code",
   "execution_count": 4,
   "metadata": {},
   "outputs": [
    {
     "name": "stdout",
     "output_type": "stream",
     "text": [
      "Downloading data from https://storage.googleapis.com/tensorflow/tf-keras-datasets/mnist.npz\n",
      "11493376/11490434 [==============================] - 1s 0us/step\n",
      "11501568/11490434 [==============================] - 1s 0us/step\n"
     ]
    }
   ],
   "source": [
    "(X_train, y_train), (X_test, y_test) = datasets.mnist.load_data()"
   ]
  },
  {
   "cell_type": "markdown",
   "metadata": {},
   "source": [
    "Later, when you have read this Notebook and made sense of the model, try loading the CIFAR10 dataset:"
   ]
  },
  {
   "cell_type": "code",
   "execution_count": 5,
   "metadata": {},
   "outputs": [],
   "source": [
    "# (X_train, y_train), (X_test, y_test) = datasets.cifar10.load_data()"
   ]
  },
  {
   "cell_type": "markdown",
   "metadata": {},
   "source": [
    "Some summary statistics on data size, type and range:"
   ]
  },
  {
   "cell_type": "code",
   "execution_count": 6,
   "metadata": {
    "scrolled": true
   },
   "outputs": [
    {
     "name": "stdout",
     "output_type": "stream",
     "text": [
      "Train:\tX shape:(60000, 28, 28)\tY shape:(60000,)\tType (X, y): (uint8, uint8)\tX values (max, min): (0, 255)\n",
      "Test:\tX shape:(10000, 28, 28)\tY shape:(10000,)\tType (X, y): (uint8, uint8)\tX values (max, min): (0, 255)\n"
     ]
    }
   ],
   "source": [
    "print(\n",
    "    f\"Train:\\tX shape:{X_train.shape}\\tY shape:{y_train.shape}\\tType (X, y): ({X_train.dtype}, {y_train.dtype})\\tX values (max, min): ({X_train.min()}, {X_train.max()})\"\n",
    ")\n",
    "print(\n",
    "    f\"Test:\\tX shape:{X_test.shape}\\tY shape:{y_test.shape}\\tType (X, y): ({X_test.dtype}, {y_test.dtype})\\tX values (max, min): ({X_test.min()}, {X_test.max()})\"\n",
    ")"
   ]
  },
  {
   "cell_type": "markdown",
   "metadata": {},
   "source": [
    "Show some example images:"
   ]
  },
  {
   "cell_type": "code",
   "execution_count": 7,
   "metadata": {
    "scrolled": true
   },
   "outputs": [
    {
     "data": {
      "text/plain": [
       "[<matplotlib.image.AxesImage at 0x28044cda190>,\n",
       " <matplotlib.image.AxesImage at 0x28044d0dc10>,\n",
       " <matplotlib.image.AxesImage at 0x28044d0dfd0>,\n",
       " <matplotlib.image.AxesImage at 0x28044d22430>,\n",
       " <matplotlib.image.AxesImage at 0x28044d22820>,\n",
       " <matplotlib.image.AxesImage at 0x28044d22c10>]"
      ]
     },
     "execution_count": 7,
     "metadata": {},
     "output_type": "execute_result"
    },
    {
     "data": {
      "image/png": "[encoded data removed]",
      "text/plain": [
       "<Figure size 1080x432 with 6 Axes>"
      ]
     },
     "metadata": {
      "needs_background": "light"
     },
     "output_type": "display_data"
    }
   ],
   "source": [
    "[ax.imshow(random.choice(X_train), cmap=\"gray\") for ax in plt.subplots(1, 6)[1]] "
   ]
  },
  {
   "cell_type": "markdown",
   "metadata": {},
   "source": [
    "### <mark>Exercise: Dataset summary\n",
    ">\n",
    "> - How many training examples do we have?\n",
    "> - How many color channels does each picture have?\n",
    "> - What will the input size to the Deep Neural Network (DNN) be?\n",
    "> - What will the output size of the DNN be? "
   ]
  },
  {
   "cell_type": "markdown",
   "metadata": {},
   "source": [
    "## Data Preprocessing\n",
    "\n",
    "We have to do some preprocessing on our data:\n",
    "\n",
    "- Rescale pixel values between 0 and 1\n",
    "- Input type should be float\n",
    "- There are 10 classes so in order to compute the cross entropy loss function we need to one-hot encoded vectors."
   ]
  },
  {
   "cell_type": "code",
   "execution_count": 8,
   "metadata": {},
   "outputs": [],
   "source": [
    "if len(X_train.shape) != 4:\n",
    "    X_train = np.expand_dims(X_train, axis=3)\n",
    "if len(X_test.shape) != 4:\n",
    "    X_test = np.expand_dims(X_test, axis=3)\n",
    "\n",
    "X_train, X_test = X_train.astype(\"float\") / 255, X_test.astype(\"float\") / 255\n",
    "y_train_onehot, y_test_onehot = to_categorical(y_train), to_categorical(y_test)\n"
   ]
  },
  {
   "cell_type": "markdown",
   "metadata": {},
   "source": [
    "Check the resulting dimensions and types:"
   ]
  },
  {
   "cell_type": "code",
   "execution_count": 9,
   "metadata": {},
   "outputs": [
    {
     "name": "stdout",
     "output_type": "stream",
     "text": [
      "Train:\tX shape:(60000, 28, 28, 1)\tY shape:(60000, 10)\tType (X, y): (float64, float32)\tX values (min, max): (0.0, 1.0)\n",
      "Test:\tX shape:(10000, 28, 28, 1)\tY shape:(10000, 10)\tType (X, y): (float64, float32)\tX values (min, max): (0.0, 1.0)\n"
     ]
    }
   ],
   "source": [
    "print(\n",
    "    f\"Train:\\tX shape:{X_train.shape}\\tY shape:{y_train_onehot.shape}\\tType (X, y): ({X_train.dtype}, {y_train_onehot.dtype})\\tX values (min, max): ({X_train.min()}, {X_train.max()})\"\n",
    ")\n",
    "print(\n",
    "    f\"Test:\\tX shape:{X_test.shape}\\tY shape:{y_test_onehot.shape}\\tType (X, y): ({X_test.dtype}, {y_test_onehot.dtype})\\tX values (min, max): ({X_test.min()}, {X_test.max()})\"\n",
    ")"
   ]
  },
  {
   "cell_type": "code",
   "execution_count": 10,
   "metadata": {
    "tags": []
   },
   "outputs": [
    {
     "data": {
      "text/plain": [
       "7"
      ]
     },
     "execution_count": 10,
     "metadata": {},
     "output_type": "execute_result"
    }
   ],
   "source": [
    "y_test[0]"
   ]
  },
  {
   "cell_type": "code",
   "execution_count": 11,
   "metadata": {},
   "outputs": [
    {
     "data": {
      "text/plain": [
       "array([0., 0., 0., 0., 0., 0., 0., 1., 0., 0.], dtype=float32)"
      ]
     },
     "execution_count": 11,
     "metadata": {},
     "output_type": "execute_result"
    }
   ],
   "source": [
    "y_test_onehot[0]"
   ]
  },
  {
   "cell_type": "markdown",
   "metadata": {},
   "source": [
    "### <mark>Exercise: Model input & output\n",
    "> - Are the input and output sizes correct from what you thought?\n",
    "> - What does the fourth dimension of X represent?"
   ]
  },
  {
   "cell_type": "markdown",
   "metadata": {},
   "source": [
    "---\n",
    "## Model\n",
    "\n",
    "Now that we have our data prepared, we can start building a model.\n",
    "We will use some new layers for our model."
   ]
  },
  {
   "cell_type": "markdown",
   "metadata": {},
   "source": [
    "### <mark> Exercise: Model construction\n",
    "\n",
    "Construct a model with the instructions:\n",
    " \n",
    "> - inputs are normalized using `BatchNormalization` followed by a `Dropout` layer with a rate of 0.3\n",
    ">   - specify the right input_shape for `BatchNormalization`\n",
    "> - then add a [2D convolutional layer](https://keras.io/layers/convolutional/) with a kernel of 3x3\n",
    ">   - also use `'same'` as `padding`, `32` `filters`, and `relu` as `activation`\n",
    "> - output from the convolutional layer goes through a [`MaxPooling` layer](https://keras.io/layers/pooling/)\n",
    "> - then `Flatten` the output and add a `Dropout` layer with a rate of 0.3\n",
    "> - connect the output to a `Dense` layer with the right amount of `units` for our classification problem\n",
    "> - followed by a `BatchNormalization` and `relu` activation function\n",
    "> - then a `DropoutLayer`\n",
    "> - and finally connect to the output layer with an `softmax` activation function\n",
    "\n",
    "Don't forget to:\n",
    "> - use the `relu` activation function or others\n",
    "> - use `Dropout` layers"
   ]
  },
  {
   "cell_type": "code",
   "execution_count": null,
   "metadata": {},
   "outputs": [],
   "source": [
    "# NBVAL_RAISES_EXCEPTION\n",
    "def make_cnn_model():\n",
    "    model = Sequential()\n",
    "    # input layer transformation (BatchNormalization + Dropout)\n",
    "\n",
    "    # convolutional layer (Conv2D + MaxPooling2D + Flatten + Dropout)\n",
    "\n",
    "    # fully connected layer (Dense + BatchNormalization + Activation + Dropout)\n",
    "\n",
    "    # output layer (Dense + BatchNormalization + Activation)\n",
    "\n",
    "    return model\n",
    "\n",
    "\n",
    "model = make_cnn_model()\n",
    "model.summary()"
   ]
  },
  {
   "cell_type": "code",
   "execution_count": 15,
   "metadata": {},
   "outputs": [
    {
     "name": "stdout",
     "output_type": "stream",
     "text": [
      "Model: \"sequential\"\n",
      "_________________________________________________________________\n",
      " Layer (type)                Output Shape              Param #   \n",
      "=================================================================\n",
      " batch_normalization (BatchN  (None, 28, 28, 1)        4         \n",
      " ormalization)                                                   \n",
      "                                                                 \n",
      " dropout (Dropout)           (None, 28, 28, 1)         0         \n",
      "                                                                 \n",
      " conv2d (Conv2D)             (None, 28, 28, 32)        320       \n",
      "                                                                 \n",
      " max_pooling2d (MaxPooling2D  (None, 14, 14, 32)       0         \n",
      " )                                                               \n",
      "                                                                 \n",
      " flatten (Flatten)           (None, 6272)              0         \n",
      "                                                                 \n",
      " dropout_1 (Dropout)         (None, 6272)              0         \n",
      "                                                                 \n",
      " dense (Dense)               (None, 150)               940950    \n",
      "                                                                 \n",
      " batch_normalization_1 (Batc  (None, 150)              600       \n",
      " hNormalization)                                                 \n",
      "                                                                 \n",
      " activation (Activation)     (None, 150)               0         \n",
      "                                                                 \n",
      " dropout_2 (Dropout)         (None, 150)               0         \n",
      "                                                                 \n",
      " dense_1 (Dense)             (None, 10)                1510      \n",
      "                                                                 \n",
      " batch_normalization_2 (Batc  (None, 10)               40        \n",
      " hNormalization)                                                 \n",
      "                                                                 \n",
      " activation_1 (Activation)   (None, 10)                0         \n",
      "                                                                 \n",
      "=================================================================\n",
      "Total params: 943,424\n",
      "Trainable params: 943,102\n",
      "Non-trainable params: 322\n",
      "_________________________________________________________________\n"
     ]
    }
   ],
   "source": [
    "# %load ../answers/keras_basics_cnn.py\n",
    "from tensorflow.keras import layers\n",
    "\n",
    "\n",
    "def make_cnn_model():\n",
    "    model = Sequential()\n",
    "    \n",
    "    # input layer transformation (BatchNormalization + Dropout)\n",
    "    model.add(layers.BatchNormalization(input_shape=(28, 28, 1)))  # difference between rescale earlier?\n",
    "    model.add(layers.Dropout(rate=0.3))\n",
    "\n",
    "    # convolutional layer (Conv2D + MaxPooling2D + Flatten + Dropout)\n",
    "    # learns 32 filters with 3x3 + 1 bias parameters.\n",
    "    model.add(\n",
    "        layers.Conv2D(filters=32, kernel_size=(3, 3), activation=\"relu\", padding=\"same\")\n",
    "    ) # why relu?\n",
    "    model.add(layers.MaxPooling2D())\n",
    "    model.add(layers.Flatten()) # add extra channel dimension?\n",
    "    model.add(layers.Dropout(rate=0.3))\n",
    "\n",
    "    # fully connected layer (Dense + BatchNormalization + Activation + Dropout)\n",
    "    model.add(layers.Dense(150))\n",
    "    model.add(layers.BatchNormalization()) # why here?\n",
    "    model.add(layers.Activation(\"relu\"))\n",
    "    model.add(layers.Dropout(rate=0.3))\n",
    "\n",
    "    # output layer (Dense + BatchNormalization + Activation)\n",
    "    model.add(layers.Dense(units=10))\n",
    "    model.add(layers.BatchNormalization())\n",
    "    model.add(layers.Activation(\"softmax\"))\n",
    "\n",
    "    return model\n",
    "\n",
    "\n",
    "model = make_cnn_model()\n",
    "model.summary()\n"
   ]
  },
  {
   "cell_type": "markdown",
   "metadata": {},
   "source": [
    "### <mark>Question:\n",
    "> can you explain where are the number of parameters for each layer coming from?"
   ]
  },
  {
   "cell_type": "markdown",
   "metadata": {},
   "source": [
    "## Training and evaluating the model\n",
    "\n",
    "Train the model and make sure your accuracy reaches 88%:"
   ]
  },
  {
   "cell_type": "code",
   "execution_count": 16,
   "metadata": {},
   "outputs": [
    {
     "name": "stdout",
     "output_type": "stream",
     "text": [
      "Epoch 1/4\n",
      "10/10 [==============================] - 13s 1s/step - loss: 1.2540 - accuracy: 0.6853 - val_loss: 1.5394 - val_accuracy: 0.7492\n",
      "Epoch 2/4\n",
      "10/10 [==============================] - 12s 1s/step - loss: 0.8102 - accuracy: 0.8658 - val_loss: 1.4277 - val_accuracy: 0.8836\n",
      "Epoch 3/4\n",
      "10/10 [==============================] - 12s 1s/step - loss: 0.7299 - accuracy: 0.8867 - val_loss: 1.4088 - val_accuracy: 0.9212\n",
      "Epoch 4/4\n",
      "10/10 [==============================] - 13s 1s/step - loss: 0.6795 - accuracy: 0.9011 - val_loss: 1.4239 - val_accuracy: 0.8976\n"
     ]
    },
    {
     "data": {
      "text/plain": [
       "<keras.callbacks.History at 0x280415f3820>"
      ]
     },
     "execution_count": 16,
     "metadata": {},
     "output_type": "execute_result"
    }
   ],
   "source": [
    "model = make_cnn_model()\n",
    "model.compile(optimizer=\"Adam\", loss=\"categorical_crossentropy\", metrics=[\"accuracy\"])\n",
    "model.fit(\n",
    "    X_train,\n",
    "    y_train_onehot,\n",
    "    batch_size=5000,\n",
    "    epochs=4,\n",
    "    validation_split=0.2,\n",
    "    verbose=1\n",
    ")"
   ]
  },
  {
   "cell_type": "code",
   "execution_count": 17,
   "metadata": {},
   "outputs": [
    {
     "name": "stdout",
     "output_type": "stream",
     "text": [
      "Test loss: 1.4331119060516357\n",
      "Test accuracy: 0.8984000086784363\n"
     ]
    }
   ],
   "source": [
    "score = model.evaluate(X_test, y_test_onehot, verbose=0)\n",
    "print(\"Test loss:\", score[0])\n",
    "print(\"Test accuracy:\", score[1])"
   ]
  },
  {
   "cell_type": "code",
   "execution_count": 18,
   "metadata": {},
   "outputs": [
    {
     "data": {
      "text/plain": [
       "array([7, 2, 1, ..., 4, 5, 6], dtype=int16)"
      ]
     },
     "execution_count": 18,
     "metadata": {},
     "output_type": "execute_result"
    }
   ],
   "source": [
    "y_hat_onehot = model.predict(X_test)\n",
    "y_hat = np.argmax(y_hat_onehot, axis=1).astype(np.int16)\n",
    "y_hat"
   ]
  },
  {
   "cell_type": "code",
   "execution_count": 19,
   "metadata": {},
   "outputs": [
    {
     "data": {
      "text/html": [
       "<div>\n",
       "<style scoped>\n",
       "    .dataframe tbody tr th:only-of-type {\n",
       "        vertical-align: middle;\n",
       "    }\n",
       "\n",
       "    .dataframe tbody tr th {\n",
       "        vertical-align: top;\n",
       "    }\n",
       "\n",
       "    .dataframe thead th {\n",
       "        text-align: right;\n",
       "    }\n",
       "</style>\n",
       "<table border=\"1\" class=\"dataframe\">\n",
       "  <thead>\n",
       "    <tr style=\"text-align: right;\">\n",
       "      <th></th>\n",
       "      <th>Prediction 0</th>\n",
       "      <th>Prediction 1</th>\n",
       "      <th>Prediction 2</th>\n",
       "      <th>Prediction 3</th>\n",
       "      <th>Prediction 4</th>\n",
       "      <th>Prediction 5</th>\n",
       "      <th>Prediction 6</th>\n",
       "      <th>Prediction 7</th>\n",
       "      <th>Prediction 8</th>\n",
       "      <th>Prediction 9</th>\n",
       "    </tr>\n",
       "  </thead>\n",
       "  <tbody>\n",
       "    <tr>\n",
       "      <th>True 0</th>\n",
       "      <td>964</td>\n",
       "      <td>3</td>\n",
       "      <td>0</td>\n",
       "      <td>0</td>\n",
       "      <td>0</td>\n",
       "      <td>5</td>\n",
       "      <td>4</td>\n",
       "      <td>2</td>\n",
       "      <td>2</td>\n",
       "      <td>0</td>\n",
       "    </tr>\n",
       "    <tr>\n",
       "      <th>True 1</th>\n",
       "      <td>0</td>\n",
       "      <td>1132</td>\n",
       "      <td>3</td>\n",
       "      <td>0</td>\n",
       "      <td>0</td>\n",
       "      <td>0</td>\n",
       "      <td>0</td>\n",
       "      <td>0</td>\n",
       "      <td>0</td>\n",
       "      <td>0</td>\n",
       "    </tr>\n",
       "    <tr>\n",
       "      <th>True 2</th>\n",
       "      <td>9</td>\n",
       "      <td>68</td>\n",
       "      <td>909</td>\n",
       "      <td>6</td>\n",
       "      <td>11</td>\n",
       "      <td>0</td>\n",
       "      <td>2</td>\n",
       "      <td>21</td>\n",
       "      <td>5</td>\n",
       "      <td>1</td>\n",
       "    </tr>\n",
       "    <tr>\n",
       "      <th>True 3</th>\n",
       "      <td>7</td>\n",
       "      <td>59</td>\n",
       "      <td>25</td>\n",
       "      <td>850</td>\n",
       "      <td>2</td>\n",
       "      <td>28</td>\n",
       "      <td>1</td>\n",
       "      <td>27</td>\n",
       "      <td>7</td>\n",
       "      <td>4</td>\n",
       "    </tr>\n",
       "    <tr>\n",
       "      <th>True 4</th>\n",
       "      <td>0</td>\n",
       "      <td>24</td>\n",
       "      <td>4</td>\n",
       "      <td>0</td>\n",
       "      <td>930</td>\n",
       "      <td>0</td>\n",
       "      <td>3</td>\n",
       "      <td>1</td>\n",
       "      <td>0</td>\n",
       "      <td>20</td>\n",
       "    </tr>\n",
       "    <tr>\n",
       "      <th>True 5</th>\n",
       "      <td>8</td>\n",
       "      <td>24</td>\n",
       "      <td>2</td>\n",
       "      <td>8</td>\n",
       "      <td>6</td>\n",
       "      <td>829</td>\n",
       "      <td>6</td>\n",
       "      <td>5</td>\n",
       "      <td>1</td>\n",
       "      <td>3</td>\n",
       "    </tr>\n",
       "    <tr>\n",
       "      <th>True 6</th>\n",
       "      <td>13</td>\n",
       "      <td>36</td>\n",
       "      <td>6</td>\n",
       "      <td>0</td>\n",
       "      <td>14</td>\n",
       "      <td>26</td>\n",
       "      <td>861</td>\n",
       "      <td>2</td>\n",
       "      <td>0</td>\n",
       "      <td>0</td>\n",
       "    </tr>\n",
       "    <tr>\n",
       "      <th>True 7</th>\n",
       "      <td>1</td>\n",
       "      <td>59</td>\n",
       "      <td>9</td>\n",
       "      <td>0</td>\n",
       "      <td>16</td>\n",
       "      <td>0</td>\n",
       "      <td>0</td>\n",
       "      <td>923</td>\n",
       "      <td>0</td>\n",
       "      <td>20</td>\n",
       "    </tr>\n",
       "    <tr>\n",
       "      <th>True 8</th>\n",
       "      <td>16</td>\n",
       "      <td>134</td>\n",
       "      <td>27</td>\n",
       "      <td>10</td>\n",
       "      <td>29</td>\n",
       "      <td>34</td>\n",
       "      <td>4</td>\n",
       "      <td>17</td>\n",
       "      <td>686</td>\n",
       "      <td>17</td>\n",
       "    </tr>\n",
       "    <tr>\n",
       "      <th>True 9</th>\n",
       "      <td>7</td>\n",
       "      <td>28</td>\n",
       "      <td>5</td>\n",
       "      <td>7</td>\n",
       "      <td>31</td>\n",
       "      <td>8</td>\n",
       "      <td>0</td>\n",
       "      <td>22</td>\n",
       "      <td>1</td>\n",
       "      <td>900</td>\n",
       "    </tr>\n",
       "  </tbody>\n",
       "</table>\n",
       "</div>"
      ],
      "text/plain": [
       "        Prediction 0  Prediction 1  Prediction 2  Prediction 3  Prediction 4  \\\n",
       "True 0           964             3             0             0             0   \n",
       "True 1             0          1132             3             0             0   \n",
       "True 2             9            68           909             6            11   \n",
       "True 3             7            59            25           850             2   \n",
       "True 4             0            24             4             0           930   \n",
       "True 5             8            24             2             8             6   \n",
       "True 6            13            36             6             0            14   \n",
       "True 7             1            59             9             0            16   \n",
       "True 8            16           134            27            10            29   \n",
       "True 9             7            28             5             7            31   \n",
       "\n",
       "        Prediction 5  Prediction 6  Prediction 7  Prediction 8  Prediction 9  \n",
       "True 0             5             4             2             2             0  \n",
       "True 1             0             0             0             0             0  \n",
       "True 2             0             2            21             5             1  \n",
       "True 3            28             1            27             7             4  \n",
       "True 4             0             3             1             0            20  \n",
       "True 5           829             6             5             1             3  \n",
       "True 6            26           861             2             0             0  \n",
       "True 7             0             0           923             0            20  \n",
       "True 8            34             4            17           686            17  \n",
       "True 9             8             0            22             1           900  "
      ]
     },
     "execution_count": 19,
     "metadata": {},
     "output_type": "execute_result"
    }
   ],
   "source": [
    "from sklearn.metrics import confusion_matrix, multilabel_confusion_matrix\n",
    "\n",
    "labels=[0,1,2,3,4,5,6,7,8,9]\n",
    "\n",
    "\n",
    "confusion_df = pd.DataFrame(confusion_matrix(y_test, y_hat, labels=labels), \n",
    "                            columns=[\"Prediction \" + str(label) for label in labels], \n",
    "                            index=[\"True \" + str(label) for label in labels])\n",
    "confusion_df"
   ]
  },
  {
   "cell_type": "code",
   "execution_count": null,
   "metadata": {},
   "outputs": [],
   "source": [
    "print(multilabel_confusion_matrix(y_test, y_hat, labels=labels))"
   ]
  },
  {
   "cell_type": "markdown",
   "metadata": {},
   "source": [
    "### <mark>Questions: layers\n",
    "\n",
    "> - You've used layers like the convolutional and max-pooling layers. Can you explain what every layer does?\n",
    "> - What is the difference betwen max-pooling and average-pooling?\n",
    "> - What does batch normalization do? Why should it happen before the activation function?\n",
    "> - What is a drop out layer?"
   ]
  },
  {
   "cell_type": "markdown",
   "metadata": {},
   "source": [
    "---\n",
    "## Summary\n",
    "\n",
    "In this exercise, we've used a convolution neural network to classify images.\n",
    "Layers like `Conv2D`, `MaxPooling2D` and `Flatten` are the building blocks for any networks working on images."
   ]
  }
 ],
 "metadata": {
  "kernelspec": {
   "display_name": "Python 3 (ipykernel)",
   "language": "python",
   "name": "python3"
  },
  "language_info": {
   "codemirror_mode": {
    "name": "ipython",
    "version": 3
   },
   "file_extension": ".py",
   "mimetype": "text/x-python",
   "name": "python",
   "nbconvert_exporter": "python",
   "pygments_lexer": "ipython3",
   "version": "3.8.12"
  }
 },
 "nbformat": 4,
 "nbformat_minor": 4
}
