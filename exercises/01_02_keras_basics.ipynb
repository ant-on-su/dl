{
 "cells": [
  {
   "cell_type": "code",
   "execution_count": 1,
   "metadata": {},
   "outputs": [
    {
     "data": {
      "text/html": [
       "<link rel=\"stylesheet\" type=\"text/css\" href=\"../css/custom.css\">\n"
      ],
      "text/plain": [
       "<IPython.core.display.HTML object>"
      ]
     },
     "metadata": {},
     "output_type": "display_data"
    }
   ],
   "source": [
    "%%HTML\n",
    "<link rel=\"stylesheet\" type=\"text/css\" href=\"../css/custom.css\">"
   ]
  },
  {
   "cell_type": "markdown",
   "metadata": {},
   "source": [
    "# Keras Basics\n",
    "\n",
    "![footer_logo](../images/logo.png)\n",
    "\n",
    "## Goal\n",
    "The goal of this notebook is to familiarize yourself with the Keras sequential API and build your first feed forward neural network. \n",
    "\n",
    "## Program\n",
    "\n",
    "We first discuss the Keras library, provide an example of a basic workflow and take a look at what layers and optimizers are available from the library.\n",
    "\n",
    "- [The Keras library]()\n",
    "- [A basic example]()\n",
    "- [Keras layers and optimizers]()\n",
    "\n",
    "Aftewards we will build a Keras model, train it on a dataset and evaluate the predictions.\n",
    "\n",
    "- [Building a model]()\n",
    "- [Training and evaluating]()\n",
    "\n",
    "We will then build and train deeper models that contain more layers.\n",
    "\n",
    "- [The explicit creation of layers]()\n",
    "- [Training deeper models]()\n",
    "    - [<mark> Exercise]()"
   ]
  },
  {
   "cell_type": "code",
   "execution_count": 2,
   "metadata": {},
   "outputs": [],
   "source": [
    "import os\n",
    "\n",
    "import matplotlib.pyplot as plt\n",
    "import numpy as np\n",
    "import pandas as pd\n",
    "import seaborn as sns\n",
    "\n",
    "%matplotlib inline"
   ]
  },
  {
   "cell_type": "code",
   "execution_count": 3,
   "metadata": {},
   "outputs": [],
   "source": [
    "plt.rcParams[\"figure.figsize\"] = 15, 6"
   ]
  },
  {
   "cell_type": "markdown",
   "metadata": {
    "tags": []
   },
   "source": [
    "---\n",
    "## The Keras Library\n",
    "\n",
    "Keras is a high-level Python API for neural networks run on TensorFlow by Google. It was developed with a focus on enabling fast experimentation and runs seamlessly on CPU and GPU. \n",
    "\n",
    "The core data structures of Keras are **layers** and **models**. There are three ways of constructing the model: the [sequential API](https://keras.io/getting-started/sequential-model-guide/), the [functional API](https://keras.io/getting-started/functional-api-guide/) or by [subclassing](https://keras.io/models/about-keras-models/) a keras class. In this notebook, we will focus on the `Sequential` model -- a linear stack of layers.\n",
    "\n",
    "There are many different layers that can be added to the model, including but not limited to Dropout and Dense. The biggest challenge for beginners is to determine which type of layers to use in your model and with what hyperparametes (e.g. number of neurons for your fully-connected Dense layer, or the keep probability of your Dropout layer). This is a topic that we will cover later; for this notebook, the focus is familiarising yourself with the Keras API. \n",
    "\n",
    "Once your model is constructed with all the layers in place, you can compile, train and evaluate it. This is the time to decide your model's hyperparameters, such as the correct loss, optimizer and number of epochs to train for. "
   ]
  },
  {
   "cell_type": "markdown",
   "metadata": {},
   "source": [
    "## Example of a basic workflow\n",
    "\n",
    "For our basic example, we first generate some random data and then experience the process of creating, defining, compiling, training and evaluating the model. \n",
    "\n",
    "Here's an example of the flow:\n",
    "\n",
    "```python\n",
    "# Define the model.\n",
    "model = Sequential()\n",
    "\n",
    "# Add layers.\n",
    "model.add(Dense(64, activation='relu', input_dim=20))\n",
    "model.add(Dropout(0.5))\n",
    "model.add(Dense(10, activation='softmax'))\n",
    "\n",
    "# Compile by setting the loss, optimizer and metrics to report.\n",
    "model.compile(loss='categorical_crossentropy',\n",
    "              optimizer='adam',\n",
    "              metrics=['accuracy'])\n",
    "\n",
    "# Start training.\n",
    "model.fit(x_train, y_train,\n",
    "          epochs=20,\n",
    "          batch_size=128)\n",
    "\n",
    "# Evaluate.\n",
    "score = model.evaluate(x_test, y_test, batch_size=128)\n",
    "```"
   ]
  },
  {
   "cell_type": "markdown",
   "metadata": {},
   "source": [
    "## Keras layers and optimizers\n",
    "\n",
    "Before we dive into creating our model, let's have a look at what's available. \n",
    "Let's start with our imports and look what layers and optimizers are available: "
   ]
  },
  {
   "cell_type": "markdown",
   "metadata": {},
   "source": [
    "Import `Sequential` model API class:"
   ]
  },
  {
   "cell_type": "code",
   "execution_count": 4,
   "metadata": {},
   "outputs": [],
   "source": [
    "from tensorflow.keras.models import Sequential"
   ]
  },
  {
   "cell_type": "markdown",
   "metadata": {},
   "source": [
    "Import predefined `layers` module and see what's available:"
   ]
  },
  {
   "cell_type": "code",
   "execution_count": 5,
   "metadata": {
    "scrolled": true
   },
   "outputs": [
    {
     "data": {
      "text/plain": [
       "['AbstractRNNCell',\n",
       " 'Activation',\n",
       " 'ActivityRegularization',\n",
       " 'Add',\n",
       " 'AdditiveAttention',\n",
       " 'AlphaDropout',\n",
       " 'Attention',\n",
       " 'Average',\n",
       " 'AveragePooling1D',\n",
       " 'AveragePooling2D',\n",
       " 'AveragePooling3D',\n",
       " 'AvgPool1D',\n",
       " 'AvgPool2D',\n",
       " 'AvgPool3D',\n",
       " 'BatchNormalization',\n",
       " 'Bidirectional',\n",
       " 'CategoryEncoding',\n",
       " 'CenterCrop',\n",
       " 'Concatenate',\n",
       " 'Conv1D',\n",
       " 'Conv1DTranspose',\n",
       " 'Conv2D',\n",
       " 'Conv2DTranspose',\n",
       " 'Conv3D',\n",
       " 'Conv3DTranspose',\n",
       " 'ConvLSTM1D',\n",
       " 'ConvLSTM2D',\n",
       " 'ConvLSTM3D',\n",
       " 'Convolution1D',\n",
       " 'Convolution1DTranspose',\n",
       " 'Convolution2D',\n",
       " 'Convolution2DTranspose',\n",
       " 'Convolution3D',\n",
       " 'Convolution3DTranspose',\n",
       " 'Cropping1D',\n",
       " 'Cropping2D',\n",
       " 'Cropping3D',\n",
       " 'Dense',\n",
       " 'DenseFeatures',\n",
       " 'DepthwiseConv1D',\n",
       " 'DepthwiseConv2D',\n",
       " 'Discretization',\n",
       " 'Dot',\n",
       " 'Dropout',\n",
       " 'ELU',\n",
       " 'Embedding',\n",
       " 'Flatten',\n",
       " 'GRU',\n",
       " 'GRUCell',\n",
       " 'GaussianDropout',\n",
       " 'GaussianNoise',\n",
       " 'GlobalAveragePooling1D',\n",
       " 'GlobalAveragePooling2D',\n",
       " 'GlobalAveragePooling3D',\n",
       " 'GlobalAvgPool1D',\n",
       " 'GlobalAvgPool2D',\n",
       " 'GlobalAvgPool3D',\n",
       " 'GlobalMaxPool1D',\n",
       " 'GlobalMaxPool2D',\n",
       " 'GlobalMaxPool3D',\n",
       " 'GlobalMaxPooling1D',\n",
       " 'GlobalMaxPooling2D',\n",
       " 'GlobalMaxPooling3D',\n",
       " 'Hashing',\n",
       " 'Input',\n",
       " 'InputLayer',\n",
       " 'InputSpec',\n",
       " 'IntegerLookup',\n",
       " 'LSTM',\n",
       " 'LSTMCell',\n",
       " 'Lambda',\n",
       " 'Layer',\n",
       " 'LayerNormalization',\n",
       " 'LeakyReLU',\n",
       " 'LocallyConnected1D',\n",
       " 'LocallyConnected2D',\n",
       " 'Masking',\n",
       " 'MaxPool1D',\n",
       " 'MaxPool2D',\n",
       " 'MaxPool3D',\n",
       " 'MaxPooling1D',\n",
       " 'MaxPooling2D',\n",
       " 'MaxPooling3D',\n",
       " 'Maximum',\n",
       " 'Minimum',\n",
       " 'MultiHeadAttention',\n",
       " 'Multiply',\n",
       " 'Normalization',\n",
       " 'PReLU',\n",
       " 'Permute',\n",
       " 'RNN',\n",
       " 'RandomContrast',\n",
       " 'RandomCrop',\n",
       " 'RandomFlip',\n",
       " 'RandomHeight',\n",
       " 'RandomRotation',\n",
       " 'RandomTranslation',\n",
       " 'RandomWidth',\n",
       " 'RandomZoom',\n",
       " 'ReLU',\n",
       " 'RepeatVector',\n",
       " 'Rescaling',\n",
       " 'Reshape',\n",
       " 'Resizing',\n",
       " 'SeparableConv1D',\n",
       " 'SeparableConv2D',\n",
       " 'SeparableConvolution1D',\n",
       " 'SeparableConvolution2D',\n",
       " 'SimpleRNN',\n",
       " 'SimpleRNNCell',\n",
       " 'Softmax',\n",
       " 'SpatialDropout1D',\n",
       " 'SpatialDropout2D',\n",
       " 'SpatialDropout3D',\n",
       " 'StackedRNNCells',\n",
       " 'StringLookup',\n",
       " 'Subtract',\n",
       " 'TextVectorization',\n",
       " 'ThresholdedReLU',\n",
       " 'TimeDistributed',\n",
       " 'UpSampling1D',\n",
       " 'UpSampling2D',\n",
       " 'UpSampling3D',\n",
       " 'Wrapper',\n",
       " 'ZeroPadding1D',\n",
       " 'ZeroPadding2D',\n",
       " 'ZeroPadding3D',\n",
       " 'add',\n",
       " 'average',\n",
       " 'concatenate',\n",
       " 'deserialize',\n",
       " 'dot',\n",
       " 'experimental',\n",
       " 'maximum',\n",
       " 'minimum',\n",
       " 'multiply',\n",
       " 'serialize',\n",
       " 'subtract']"
      ]
     },
     "execution_count": 5,
     "metadata": {},
     "output_type": "execute_result"
    }
   ],
   "source": [
    "from tensorflow.keras import layers\n",
    "\n",
    "[layer for layer in dir(layers) if not layer.startswith(\"_\")]"
   ]
  },
  {
   "cell_type": "markdown",
   "metadata": {},
   "source": [
    "Do the same for the `optimizers` module:"
   ]
  },
  {
   "cell_type": "code",
   "execution_count": 6,
   "metadata": {
    "scrolled": true
   },
   "outputs": [
    {
     "data": {
      "text/plain": [
       "['Adadelta',\n",
       " 'Adagrad',\n",
       " 'Adam',\n",
       " 'Adamax',\n",
       " 'Ftrl',\n",
       " 'Nadam',\n",
       " 'Optimizer',\n",
       " 'RMSprop',\n",
       " 'SGD',\n",
       " 'deserialize',\n",
       " 'get',\n",
       " 'schedules',\n",
       " 'serialize']"
      ]
     },
     "execution_count": 6,
     "metadata": {},
     "output_type": "execute_result"
    }
   ],
   "source": [
    "from tensorflow.keras import optimizers\n",
    "\n",
    "[opt for opt in dir(optimizers) if not opt.startswith(\"_\")]"
   ]
  },
  {
   "cell_type": "markdown",
   "metadata": {},
   "source": [
    "There are many layers and optimizers to choose from! "
   ]
  },
  {
   "cell_type": "markdown",
   "metadata": {},
   "source": [
    "---\n",
    "## Building a  model\n",
    "\n",
    "![simple nn](../images/neural_networks_in_practice/model_diagram.gif)\n",
    "\n",
    "We'll build a simple model with the architecture given in the figure above.\n",
    "The input $\\mathbf{X}$ consists of two variables $\\mathbf{x}_1$ and $\\mathbf{x}_2$ and we'll try to predict a binary class $\\mathbf{y}$."
   ]
  },
  {
   "cell_type": "markdown",
   "metadata": {},
   "source": [
    "Create a model with the sequential API. `model` is the container for your network architecture."
   ]
  },
  {
   "cell_type": "code",
   "execution_count": 7,
   "metadata": {},
   "outputs": [],
   "source": [
    "model = Sequential(name=\"DummyModel\")"
   ]
  },
  {
   "cell_type": "markdown",
   "metadata": {},
   "source": [
    "Defining a model is as easy as adding a layer through the `.add()` method. The layers we add are imported from `keras.layers`. In this case, we create a simple neural network of `Dense` layers (fully-connected layer) and dropout. However, other layer types can be imported and added to our model with the `.add()` method as well. "
   ]
  },
  {
   "cell_type": "code",
   "execution_count": 8,
   "metadata": {
    "collapsed": true,
    "jupyter": {
     "outputs_hidden": true
    },
    "tags": []
   },
   "outputs": [
    {
     "name": "stdout",
     "output_type": "stream",
     "text": [
      "Help on method add in module keras.engine.sequential:\n",
      "\n",
      "add(layer) method of keras.engine.sequential.Sequential instance\n",
      "    Adds a layer instance on top of the layer stack.\n",
      "    \n",
      "    Args:\n",
      "        layer: layer instance.\n",
      "    \n",
      "    Raises:\n",
      "        TypeError: If `layer` is not a layer instance.\n",
      "        ValueError: In case the `layer` argument does not\n",
      "            know its input shape.\n",
      "        ValueError: In case the `layer` argument has\n",
      "            multiple output tensors, or is already connected\n",
      "            somewhere else (forbidden in `Sequential` models).\n",
      "\n"
     ]
    }
   ],
   "source": [
    "help(model.add)"
   ]
  },
  {
   "cell_type": "markdown",
   "metadata": {},
   "source": [
    "For each layer you can define the parameters of it.\n",
    "\n",
    "For example, the `Dense()` layer has number of units, its activation function, name, etc."
   ]
  },
  {
   "cell_type": "code",
   "execution_count": 9,
   "metadata": {},
   "outputs": [],
   "source": [
    "from tensorflow.keras.layers import Dense"
   ]
  },
  {
   "cell_type": "code",
   "execution_count": 13,
   "metadata": {},
   "outputs": [],
   "source": [
    "# help(Dense)"
   ]
  },
  {
   "cell_type": "markdown",
   "metadata": {},
   "source": [
    "Try to create the first hidden layer of 3 units with ReLU activation that expects the input to have a dimensionality of 2:"
   ]
  },
  {
   "cell_type": "code",
   "execution_count": 11,
   "metadata": {},
   "outputs": [],
   "source": [
    "model.add(\n",
    "    Dense(name=\"FullyConnected_1\", units=3, activation=\"relu\", input_dim=2, use_bias=True)\n",
    ")"
   ]
  },
  {
   "cell_type": "markdown",
   "metadata": {},
   "source": [
    "Let's see the structure of the model:"
   ]
  },
  {
   "cell_type": "code",
   "execution_count": 12,
   "metadata": {},
   "outputs": [
    {
     "name": "stdout",
     "output_type": "stream",
     "text": [
      "Model: \"DummyModel\"\n",
      "_________________________________________________________________\n",
      " Layer (type)                Output Shape              Param #   \n",
      "=================================================================\n",
      " FullyConnected_1 (Dense)    (None, 3)                 9         \n",
      "                                                                 \n",
      "=================================================================\n",
      "Total params: 9\n",
      "Trainable params: 9\n",
      "Non-trainable params: 0\n",
      "_________________________________________________________________\n"
     ]
    }
   ],
   "source": [
    "model.summary()"
   ]
  },
  {
   "cell_type": "markdown",
   "metadata": {},
   "source": [
    "## <mark>Questions: \n",
    "> - Why are there 9 parameters?\n",
    "> - Which other activations could you use? Check out the [list of activations](https://keras.io/activations/)."
   ]
  },
  {
   "cell_type": "markdown",
   "metadata": {},
   "source": [
    "Now we can add the next hidden layer of 2 units"
   ]
  },
  {
   "cell_type": "code",
   "execution_count": null,
   "metadata": {},
   "outputs": [],
   "source": [
    "model.add(Dense(name=\"FullyConnected_2\", units=2, activation=\"relu\"))\n",
    "model.summary()"
   ]
  },
  {
   "cell_type": "markdown",
   "metadata": {},
   "source": [
    "Add the output layer of a single unit and use a `sigmoid` activation function:"
   ]
  },
  {
   "cell_type": "code",
   "execution_count": null,
   "metadata": {},
   "outputs": [],
   "source": [
    "model.add(\n",
    "    Dense(name=\"FullyConnected_OutputLayer\", units=1, activation=\"sigmoid\")\n",
    ")\n",
    "model.summary()"
   ]
  },
  {
   "cell_type": "markdown",
   "metadata": {},
   "source": [
    "Models have to be compiled before training, we need to add:\n",
    "\n",
    "- optimizer\n",
    "- loss function\n",
    "- metrics\n",
    "\n",
    "The optimizer is the algorithm that performs gradient descent.\n",
    "We'll use adam.\n",
    "                \n",
    "The loss function defines the goal of our model.\n",
    "In this case it's binary classification, and the binary crossentropy is the appropriate loss function fot that.\n",
    "\n",
    "The metric(s) set are used to evaluate over the test dataset\n",
    "In addition, a validation test will be performed over each epoch if we define `validation_split` at trainining time.\n",
    "This is very helpful to asses the health of our model (overfitting for example)."
   ]
  },
  {
   "cell_type": "code",
   "execution_count": null,
   "metadata": {},
   "outputs": [],
   "source": [
    "model.compile(optimizer=\"Adam\", loss=\"binary_crossentropy\", metrics=[\"accuracy\"])"
   ]
  },
  {
   "cell_type": "markdown",
   "metadata": {},
   "source": [
    "## <mark> Questions:\n",
    ">\n",
    "> - Which other optimizers are available? Check the [list of optimizers](https://keras.io/optimizers/)\n",
    "> - How many losses are there avilable? Check the [list of loss functions](https://keras.io/losses/)\n",
    "> - What other metrics? [List of metrics](https://keras.io/metrics/)"
   ]
  },
  {
   "cell_type": "markdown",
   "metadata": {},
   "source": [
    "What have we done so far?\n",
    "We have defined the architecture of our model and put that in a variable `model`.\n",
    "This model is a blank slate as it hasn't learned anything yet, so let's find some data to train!"
   ]
  },
  {
   "cell_type": "markdown",
   "metadata": {},
   "source": [
    "### Our model is ready to be trained but where is the data?\n",
    "\n",
    "Normally you would look at the data first before creating the model:"
   ]
  },
  {
   "cell_type": "code",
   "execution_count": 22,
   "metadata": {},
   "outputs": [
    {
     "name": "stdout",
     "output_type": "stream",
     "text": [
      "(rows, columns): (1000, 3)\n"
     ]
    },
    {
     "data": {
      "text/html": [
       "<div>\n",
       "<style scoped>\n",
       "    .dataframe tbody tr th:only-of-type {\n",
       "        vertical-align: middle;\n",
       "    }\n",
       "\n",
       "    .dataframe tbody tr th {\n",
       "        vertical-align: top;\n",
       "    }\n",
       "\n",
       "    .dataframe thead th {\n",
       "        text-align: right;\n",
       "    }\n",
       "</style>\n",
       "<table border=\"1\" class=\"dataframe\">\n",
       "  <thead>\n",
       "    <tr style=\"text-align: right;\">\n",
       "      <th></th>\n",
       "      <th>x1</th>\n",
       "      <th>x2</th>\n",
       "      <th>y</th>\n",
       "    </tr>\n",
       "  </thead>\n",
       "  <tbody>\n",
       "    <tr>\n",
       "      <th>370</th>\n",
       "      <td>1.303199</td>\n",
       "      <td>-0.282700</td>\n",
       "      <td>1</td>\n",
       "    </tr>\n",
       "    <tr>\n",
       "      <th>116</th>\n",
       "      <td>2.050108</td>\n",
       "      <td>0.319231</td>\n",
       "      <td>1</td>\n",
       "    </tr>\n",
       "    <tr>\n",
       "      <th>662</th>\n",
       "      <td>-0.604328</td>\n",
       "      <td>0.768721</td>\n",
       "      <td>0</td>\n",
       "    </tr>\n",
       "  </tbody>\n",
       "</table>\n",
       "</div>"
      ],
      "text/plain": [
       "           x1        x2  y\n",
       "370  1.303199 -0.282700  1\n",
       "116  2.050108  0.319231  1\n",
       "662 -0.604328  0.768721  0"
      ]
     },
     "execution_count": 22,
     "metadata": {},
     "output_type": "execute_result"
    }
   ],
   "source": [
    "moons = pd.read_csv(\"../data/moons.csv\")\n",
    "print(\"(rows, columns):\", moons.shape)\n",
    "moons.sample(3)"
   ]
  },
  {
   "cell_type": "markdown",
   "metadata": {},
   "source": [
    "The data consists of two coordinates (`x1`, `x2`) describing locations of a point and a class (`y`).\n",
    "The data is not linearly separable:"
   ]
  },
  {
   "cell_type": "code",
   "execution_count": 23,
   "metadata": {},
   "outputs": [
    {
     "data": {
      "text/plain": [
       "<AxesSubplot:xlabel='x1', ylabel='x2'>"
      ]
     },
     "execution_count": 23,
     "metadata": {},
     "output_type": "execute_result"
    },
    {
     "data": {
      "image/png": "[encoded data removed]",
      "text/plain": [
       "<Figure size 1080x432 with 1 Axes>"
      ]
     },
     "metadata": {
      "needs_background": "light"
     },
     "output_type": "display_data"
    }
   ],
   "source": [
    "sns.scatterplot(data=moons, x=\"x1\", y=\"x2\", hue=\"y\")"
   ]
  },
  {
   "cell_type": "markdown",
   "metadata": {},
   "source": [
    "Separate the data in two sets, one for training and one for testing:"
   ]
  },
  {
   "cell_type": "code",
   "execution_count": 24,
   "metadata": {},
   "outputs": [],
   "source": [
    "from sklearn.model_selection import train_test_split\n",
    "\n",
    "(X_train, X_test, y_train, y_test) = train_test_split(\n",
    "    moons[[\"x1\", \"x2\"]], moons[\"y\"], test_size=0.1, random_state=21\n",
    ")"
   ]
  },
  {
   "cell_type": "markdown",
   "metadata": {},
   "source": [
    "## Training & Evaluating"
   ]
  },
  {
   "cell_type": "markdown",
   "metadata": {},
   "source": [
    "Time to fit the model on the data and see how it performs:"
   ]
  },
  {
   "cell_type": "code",
   "execution_count": null,
   "metadata": {},
   "outputs": [],
   "source": [
    "# Fit the parameters. \n",
    "model.fit(\n",
    "    X_train,\n",
    "    y_train,\n",
    "    batch_size=900,\n",
    "    epochs=3\n",
    ")\n",
    "\n",
    "# Evaluate the model. \n",
    "score = model.evaluate(X_test, y_test, verbose=0)\n",
    "y_pred = model.predict(X_test)\n",
    "print(\"Test loss:\", score[0])\n",
    "print(\"Test accuracy:\", score[1])\n",
    "\n",
    "# Plot the results.\n",
    "test_pred = X_test.assign(y_pred=y_pred.squeeze())\n",
    "fig, ax = plt.subplots()\n",
    "sns.scatterplot(x=\"x1\", y=\"x2\", hue=\"y_pred\", data=test_pred, ax=ax)\n",
    "ax.set_title(\"Predictions on test set\");"
   ]
  },
  {
   "cell_type": "markdown",
   "metadata": {},
   "source": [
    "---\n",
    "## Intermezzo: Explicit creation of layers\n",
    "\n",
    "The model we created looks like:\n",
    "\n",
    "```python\n",
    "model = Sequential()\n",
    "model.add(Dense(name=\"FullyConnected_1\", units=3, activation=\"relu\", input_dim=2))\n",
    "model.add(Dense(name=\"FullyConnected_2\", units=2, activation=\"relu\"))\n",
    "model.add(Dense(name=\"FullyConnected_OutputLayer\", units=1, activation=\"sigmoid\"))\n",
    "model.summary()\n",
    "```\n",
    "\n",
    "We could have defined explicitly each of the components:\n",
    "\n",
    "```python\n",
    "model = Sequential()\n",
    "\n",
    "# input layer transformations (none in this case)\n",
    "\n",
    "# 1st hidden layer\n",
    "model.add(Dense(name=\"HiddenLayer_1\", units=3, input_dim=2))\n",
    "model.add(Activation(name=\"ReLu_1\", activation=\"relu\"))\n",
    "\n",
    "# 2nd hidden layer\n",
    "model.add(Dense(name=\"HiddenLayer_2\", units=2))\n",
    "model.add(Activation(name=\"ReLu_2\", activation=\"relu\"))\n",
    "\n",
    "# output layer\n",
    "model.add(Dense(name=\"OutputLayer\", units=1))\n",
    "model.add(Activation(name=\"Sigmoid_3\", activation=\"sigmoid\"))\n",
    "\n",
    "model.summary()\n",
    "```\n",
    "\n",
    "\n",
    "This explicit creation of every component gives flexibility on the layer order when customizing a deep neural network."
   ]
  },
  {
   "cell_type": "markdown",
   "metadata": {},
   "source": [
    "## Training deeper models"
   ]
  },
  {
   "cell_type": "markdown",
   "metadata": {},
   "source": [
    "In the cell below we've wrapped the model definition in a small function so we can quickly re-create models.\n",
    "We'll use this more often in the course."
   ]
  },
  {
   "cell_type": "code",
   "execution_count": 14,
   "metadata": {},
   "outputs": [],
   "source": [
    "def make_model():\n",
    "    model = Sequential(name=\"SimpleModel\")\n",
    "    model.add(Dense(name=\"FullyConnected_1\", units=3, activation=\"relu\", input_dim=2))\n",
    "    model.add(Dense(name=\"FullyConnected_2\", units=2, activation=\"relu\"))\n",
    "    model.add(Dense(name=\"FullyConnected_OutputLayer\", units=1, activation=\"sigmoid\"))\n",
    "    \n",
    "    return model"
   ]
  },
  {
   "cell_type": "code",
   "execution_count": 15,
   "metadata": {},
   "outputs": [
    {
     "name": "stdout",
     "output_type": "stream",
     "text": [
      "Model: \"SimpleModel\"\n",
      "_________________________________________________________________\n",
      " Layer (type)                Output Shape              Param #   \n",
      "=================================================================\n",
      " FullyConnected_1 (Dense)    (None, 3)                 9         \n",
      "                                                                 \n",
      " FullyConnected_2 (Dense)    (None, 2)                 8         \n",
      "                                                                 \n",
      " FullyConnected_OutputLayer   (None, 1)                3         \n",
      " (Dense)                                                         \n",
      "                                                                 \n",
      "=================================================================\n",
      "Total params: 20\n",
      "Trainable params: 20\n",
      "Non-trainable params: 0\n",
      "_________________________________________________________________\n"
     ]
    }
   ],
   "source": [
    "model = make_model()\n",
    "model.summary()"
   ]
  },
  {
   "cell_type": "code",
   "execution_count": 16,
   "metadata": {},
   "outputs": [],
   "source": [
    "from tensorflow.keras.layers import Activation\n",
    "\n",
    "def make_explicit_model():\n",
    "    model = Sequential(name=\"ExplicitModel\")\n",
    "\n",
    "    # 1st hidden layer\n",
    "    model.add(Dense(name=\"HiddenLayer_1\", units=3, input_dim=2))\n",
    "    model.add(Activation(name=\"ReLu_1\", activation=\"relu\"))\n",
    "\n",
    "    # 2nd hidden layer\n",
    "    model.add(Dense(name=\"HiddenLayer_2\", units=2))\n",
    "    model.add(Activation(name=\"ReLu_2\", activation=\"relu\"))\n",
    "\n",
    "    # output layer\n",
    "    model.add(Dense(name=\"OutputLayer\", units=1))\n",
    "    model.add(Activation(name=\"Sigmoid_3\", activation=\"sigmoid\"))\n",
    "    \n",
    "    return model"
   ]
  },
  {
   "cell_type": "code",
   "execution_count": 17,
   "metadata": {},
   "outputs": [
    {
     "name": "stdout",
     "output_type": "stream",
     "text": [
      "Model: \"ExplicitModel\"\n",
      "_________________________________________________________________\n",
      " Layer (type)                Output Shape              Param #   \n",
      "=================================================================\n",
      " HiddenLayer_1 (Dense)       (None, 3)                 9         \n",
      "                                                                 \n",
      " ReLu_1 (Activation)         (None, 3)                 0         \n",
      "                                                                 \n",
      " HiddenLayer_2 (Dense)       (None, 2)                 8         \n",
      "                                                                 \n",
      " ReLu_2 (Activation)         (None, 2)                 0         \n",
      "                                                                 \n",
      " OutputLayer (Dense)         (None, 1)                 3         \n",
      "                                                                 \n",
      " Sigmoid_3 (Activation)      (None, 1)                 0         \n",
      "                                                                 \n",
      "=================================================================\n",
      "Total params: 20\n",
      "Trainable params: 20\n",
      "Non-trainable params: 0\n",
      "_________________________________________________________________\n"
     ]
    }
   ],
   "source": [
    "model = make_explicit_model()\n",
    "model.summary()"
   ]
  },
  {
   "cell_type": "markdown",
   "metadata": {},
   "source": [
    "## <mark>Exercise: Make a more complex model for this data\n",
    "> - use 3 hidden dense layers\n",
    "> - then 1 final dense layer with sigmoid activation\n",
    "> - add a `Dropout` layer after each dense layer\n",
    "> - use `relu` and `tanh` or other [activation functions](https://keras.io/activations/)\n",
    "> - experiment with batch size and epochs!\n",
    "\n",
    "Make sure your test accuracy gets higher than what you saw before!\n"
   ]
  },
  {
   "cell_type": "code",
   "execution_count": 19,
   "metadata": {},
   "outputs": [],
   "source": [
    "# %load ../answers/keras_basics_overkill.py\n",
    "from tensorflow.keras import layers\n",
    "from tensorflow.keras.models import Sequential\n",
    "\n",
    "\n",
    "def make_overkill_model():\n",
    "    model = Sequential()\n",
    "    model.add(\n",
    "        layers.Dense(name=\"HiddenLayer_1\", units=30, activation=\"tanh\", input_dim=2)\n",
    "    )\n",
    "    model.add(layers.Dropout(0.3))\n",
    "    model.add(layers.Dense(name=\"HiddenLayer_2\", units=10, activation=\"relu\"))\n",
    "    model.add(layers.Dropout(0.3))\n",
    "    model.add(layers.Dense(name=\"HiddenLayer_3\", units=3, activation=\"relu\"))\n",
    "    model.add(layers.Dropout(0.3))\n",
    "    model.add(layers.Dense(name=\"OutputLayer\", units=1, activation=\"sigmoid\"))\n",
    "    return model\n",
    "\n",
    "\n",
    "# show validation split\n",
    "# early stopping ...\n",
    "\n"
   ]
  },
  {
   "cell_type": "code",
   "execution_count": 21,
   "metadata": {},
   "outputs": [
    {
     "name": "stdout",
     "output_type": "stream",
     "text": [
      "Model: \"sequential_1\"\n",
      "_________________________________________________________________\n",
      " Layer (type)                Output Shape              Param #   \n",
      "=================================================================\n",
      " HiddenLayer_1 (Dense)       (None, 30)                90        \n",
      "                                                                 \n",
      " dropout_3 (Dropout)         (None, 30)                0         \n",
      "                                                                 \n",
      " HiddenLayer_2 (Dense)       (None, 10)                310       \n",
      "                                                                 \n",
      " dropout_4 (Dropout)         (None, 10)                0         \n",
      "                                                                 \n",
      " HiddenLayer_3 (Dense)       (None, 3)                 33        \n",
      "                                                                 \n",
      " dropout_5 (Dropout)         (None, 3)                 0         \n",
      "                                                                 \n",
      " OutputLayer (Dense)         (None, 1)                 4         \n",
      "                                                                 \n",
      "=================================================================\n",
      "Total params: 437\n",
      "Trainable params: 437\n",
      "Non-trainable params: 0\n",
      "_________________________________________________________________\n"
     ]
    }
   ],
   "source": [
    "mod = make_overkill_model()\n",
    "mod.summary()"
   ]
  },
  {
   "cell_type": "code",
   "execution_count": 29,
   "metadata": {
    "scrolled": true
   },
   "outputs": [
    {
     "name": "stdout",
     "output_type": "stream",
     "text": [
      "Epoch 1/40\n",
      "270/270 [==============================] - 1s 3ms/step - loss: 0.6212 - accuracy: 0.5667 - val_loss: 0.5229 - val_accuracy: 0.8714\n",
      "Epoch 2/40\n",
      "270/270 [==============================] - 1s 3ms/step - loss: 0.5417 - accuracy: 0.7593 - val_loss: 0.4397 - val_accuracy: 0.8651\n",
      "Epoch 3/40\n",
      "270/270 [==============================] - 1s 2ms/step - loss: 0.4845 - accuracy: 0.7259 - val_loss: 0.3570 - val_accuracy: 0.8667\n",
      "Epoch 4/40\n",
      "270/270 [==============================] - 1s 2ms/step - loss: 0.4763 - accuracy: 0.7407 - val_loss: 0.3344 - val_accuracy: 0.8746\n",
      "Epoch 5/40\n",
      "270/270 [==============================] - 1s 3ms/step - loss: 0.4013 - accuracy: 0.7630 - val_loss: 0.2909 - val_accuracy: 0.8794\n",
      "Epoch 6/40\n",
      "270/270 [==============================] - 1s 3ms/step - loss: 0.3943 - accuracy: 0.7370 - val_loss: 0.2758 - val_accuracy: 0.8810\n",
      "Epoch 7/40\n",
      "270/270 [==============================] - 1s 2ms/step - loss: 0.3888 - accuracy: 0.7556 - val_loss: 0.2719 - val_accuracy: 0.8873\n",
      "Epoch 8/40\n",
      "270/270 [==============================] - 1s 3ms/step - loss: 0.3915 - accuracy: 0.7630 - val_loss: 0.2684 - val_accuracy: 0.8873\n",
      "Epoch 9/40\n",
      "270/270 [==============================] - 1s 3ms/step - loss: 0.3870 - accuracy: 0.7444 - val_loss: 0.2698 - val_accuracy: 0.8857\n",
      "Epoch 10/40\n",
      "270/270 [==============================] - 1s 3ms/step - loss: 0.3711 - accuracy: 0.7741 - val_loss: 0.2596 - val_accuracy: 0.8889\n",
      "Epoch 11/40\n",
      "270/270 [==============================] - 1s 3ms/step - loss: 0.3811 - accuracy: 0.7556 - val_loss: 0.2630 - val_accuracy: 0.8857\n",
      "Epoch 12/40\n",
      "270/270 [==============================] - 1s 3ms/step - loss: 0.3651 - accuracy: 0.7630 - val_loss: 0.2590 - val_accuracy: 0.8841\n",
      "Epoch 13/40\n",
      "270/270 [==============================] - 1s 3ms/step - loss: 0.3690 - accuracy: 0.8037 - val_loss: 0.2567 - val_accuracy: 0.8905\n",
      "Epoch 14/40\n",
      "270/270 [==============================] - 1s 3ms/step - loss: 0.3691 - accuracy: 0.8333 - val_loss: 0.2477 - val_accuracy: 0.8810\n",
      "Epoch 15/40\n",
      "270/270 [==============================] - 1s 3ms/step - loss: 0.3621 - accuracy: 0.8333 - val_loss: 0.2583 - val_accuracy: 0.8873\n",
      "Epoch 16/40\n",
      "270/270 [==============================] - 1s 2ms/step - loss: 0.3952 - accuracy: 0.8593 - val_loss: 0.2505 - val_accuracy: 0.8984\n",
      "Epoch 17/40\n",
      "270/270 [==============================] - 1s 3ms/step - loss: 0.3580 - accuracy: 0.8556 - val_loss: 0.2532 - val_accuracy: 0.8952\n",
      "Epoch 18/40\n",
      "270/270 [==============================] - 1s 3ms/step - loss: 0.3530 - accuracy: 0.8556 - val_loss: 0.2450 - val_accuracy: 0.8873\n",
      "Epoch 19/40\n",
      "270/270 [==============================] - 1s 3ms/step - loss: 0.3284 - accuracy: 0.8333 - val_loss: 0.2379 - val_accuracy: 0.8984\n",
      "Epoch 20/40\n",
      "270/270 [==============================] - 1s 4ms/step - loss: 0.3421 - accuracy: 0.8593 - val_loss: 0.2344 - val_accuracy: 0.8984\n",
      "Epoch 21/40\n",
      "270/270 [==============================] - 1s 3ms/step - loss: 0.3137 - accuracy: 0.8741 - val_loss: 0.2304 - val_accuracy: 0.8968\n",
      "Epoch 22/40\n",
      "270/270 [==============================] - 1s 3ms/step - loss: 0.3453 - accuracy: 0.8481 - val_loss: 0.2344 - val_accuracy: 0.9032\n",
      "Epoch 23/40\n",
      "270/270 [==============================] - 1s 3ms/step - loss: 0.3089 - accuracy: 0.8704 - val_loss: 0.2267 - val_accuracy: 0.9032\n",
      "Epoch 24/40\n",
      "270/270 [==============================] - 1s 3ms/step - loss: 0.3352 - accuracy: 0.8519 - val_loss: 0.2263 - val_accuracy: 0.9095\n",
      "Epoch 25/40\n",
      "270/270 [==============================] - 1s 3ms/step - loss: 0.3342 - accuracy: 0.8444 - val_loss: 0.2293 - val_accuracy: 0.9016\n",
      "Epoch 26/40\n",
      "270/270 [==============================] - 1s 3ms/step - loss: 0.3094 - accuracy: 0.8630 - val_loss: 0.2224 - val_accuracy: 0.8952\n",
      "Epoch 27/40\n",
      "270/270 [==============================] - 1s 3ms/step - loss: 0.3498 - accuracy: 0.8407 - val_loss: 0.2191 - val_accuracy: 0.8857\n",
      "Epoch 28/40\n",
      "270/270 [==============================] - 1s 3ms/step - loss: 0.3274 - accuracy: 0.8481 - val_loss: 0.2175 - val_accuracy: 0.9063\n",
      "Epoch 29/40\n",
      "270/270 [==============================] - 1s 3ms/step - loss: 0.3810 - accuracy: 0.8296 - val_loss: 0.2204 - val_accuracy: 0.9032\n",
      "Epoch 30/40\n",
      "270/270 [==============================] - 1s 3ms/step - loss: 0.3245 - accuracy: 0.8667 - val_loss: 0.2161 - val_accuracy: 0.8968\n",
      "Epoch 31/40\n",
      "270/270 [==============================] - 1s 3ms/step - loss: 0.3636 - accuracy: 0.8333 - val_loss: 0.2130 - val_accuracy: 0.8984\n",
      "Epoch 32/40\n",
      "270/270 [==============================] - 1s 3ms/step - loss: 0.3264 - accuracy: 0.8630 - val_loss: 0.2128 - val_accuracy: 0.9016\n",
      "Epoch 33/40\n",
      "270/270 [==============================] - 1s 3ms/step - loss: 0.3164 - accuracy: 0.8481 - val_loss: 0.2056 - val_accuracy: 0.9079\n",
      "Epoch 34/40\n",
      "270/270 [==============================] - 1s 3ms/step - loss: 0.2968 - accuracy: 0.8667 - val_loss: 0.2046 - val_accuracy: 0.8905\n",
      "Epoch 35/40\n",
      "270/270 [==============================] - 1s 3ms/step - loss: 0.2936 - accuracy: 0.8667 - val_loss: 0.1956 - val_accuracy: 0.9111\n",
      "Epoch 36/40\n",
      "270/270 [==============================] - 1s 3ms/step - loss: 0.3029 - accuracy: 0.8444 - val_loss: 0.1910 - val_accuracy: 0.9111\n",
      "Epoch 37/40\n",
      "270/270 [==============================] - 1s 3ms/step - loss: 0.2741 - accuracy: 0.8407 - val_loss: 0.1891 - val_accuracy: 0.9111\n",
      "Epoch 38/40\n",
      "270/270 [==============================] - 1s 3ms/step - loss: 0.3376 - accuracy: 0.8481 - val_loss: 0.1822 - val_accuracy: 0.9222\n",
      "Epoch 39/40\n",
      "270/270 [==============================] - 1s 3ms/step - loss: 0.2830 - accuracy: 0.8704 - val_loss: 0.1767 - val_accuracy: 0.9254\n",
      "Epoch 40/40\n",
      "270/270 [==============================] - 1s 2ms/step - loss: 0.3059 - accuracy: 0.8630 - val_loss: 0.1749 - val_accuracy: 0.9222\n",
      "Test loss: 0.19034364819526672\n",
      "Test accuracy: 0.9300000071525574\n"
     ]
    }
   ],
   "source": [
    "np.random.seed(123)\n",
    "\n",
    "# Create the model. \n",
    "model = make_overkill_model()\n",
    "\n",
    "# Compile the model. \n",
    "model.compile(optimizer=\"Adam\", loss=\"binary_crossentropy\", metrics=[\"accuracy\"])\n",
    "\n",
    "# Fit the parameters.\n",
    "model.fit(\n",
    "    X_train,\n",
    "    y_train,\n",
    "    batch_size=1,\n",
    "    epochs=40,\n",
    "    validation_split = 0.7 # check for overfitting!\n",
    ")\n",
    "\n",
    "# Evaluate the model. \n",
    "score = model.evaluate(X_test, y_test, verbose=0)\n",
    "print(\"Test loss:\", score[0])\n",
    "print(\"Test accuracy:\", score[1])"
   ]
  },
  {
   "cell_type": "markdown",
   "metadata": {},
   "source": [
    "---\n",
    "## Summary\n",
    "\n",
    "We've seen how to build a Keras from the ground up.\n",
    "\n",
    "To create an architecture, instantiate a sequential model and add layers to it.\n",
    "\n",
    "After compiling a model, you're ready to train and validate the model.\n",
    "\n",
    "Going deeper can help to improve performance."
   ]
  }
 ],
 "metadata": {
  "kernelspec": {
   "display_name": "Python 3",
   "language": "python",
   "name": "python3"
  },
  "language_info": {
   "codemirror_mode": {
    "name": "ipython",
    "version": 3
   },
   "file_extension": ".py",
   "mimetype": "text/x-python",
   "name": "python",
   "nbconvert_exporter": "python",
   "pygments_lexer": "ipython3",
   "version": "3.9.5"
  }
 },
 "nbformat": 4,
 "nbformat_minor": 4
}
