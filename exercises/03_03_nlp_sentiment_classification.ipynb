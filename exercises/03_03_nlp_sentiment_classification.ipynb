{
 "cells": [
  {
   "cell_type": "code",
   "execution_count": 1,
   "metadata": {},
   "outputs": [
    {
     "data": {
      "text/html": [
       "<link rel=\"stylesheet\" type=\"text/css\" href=\"../css/custom.css\">\n"
      ],
      "text/plain": [
       "<IPython.core.display.HTML object>"
      ]
     },
     "metadata": {},
     "output_type": "display_data"
    }
   ],
   "source": [
    "%%HTML\n",
    "<link rel=\"stylesheet\" type=\"text/css\" href=\"../css/custom.css\">"
   ]
  },
  {
   "cell_type": "markdown",
   "metadata": {},
   "source": [
    "# Recurrent Neural Networks for Sentiment Classification\n",
    "\n",
    "\n",
    "Feedforward networks learn their parameters once and have a fixed state, so they cannot take context in the input data into account.\n",
    "\n",
    "Recurrent neural networks (RNNs) also learn their parameters once, but keep a state depending on the sequence they have seemed so far.\n",
    "\n",
    "This makes RNNs well suited for problems with sequences, like converting speech to text: translation of a word can be helped by knowing the words that came before.\n",
    "\n",
    "![footer_logo](../images/logo.png)\n",
    "\n",
    "## Goal\n",
    "\n",
    "In this exercise we'll apply a RNN for sentiment classification.\n",
    "We'll get some reviews from movies and try to classify if they have a positive or negative sentiment.\n",
    "\n",
    "## Program\n",
    "\n",
    "- [Introducing the dataset]()\n",
    "- [Preprocessing the data]()\n",
    "- [The model]()\n",
    "- [Extension exercises]()\n",
    "    - [Compare against a baseline model]()\n",
    "    - [Minimum viable network]()\n",
    "    - [Visualising the embeddings]()\n",
    "    - [Transfer learning (Glove)]()"
   ]
  },
  {
   "cell_type": "markdown",
   "metadata": {},
   "source": [
    "---\n",
    "## Data\n",
    "\n",
    "Like many other libraries, `keras` includes some standard datasets to play around with.\n",
    "We'll use the IMDB dataset. This section shows what this dataset contains.\n",
    "\n",
    "From the [website](https://keras.io/datasets/#imdb-movie-reviews-sentiment-classification) (emphasis ours): \n",
    "\n",
    "> \"Dataset of __25,000 movies reviews from IMDB, labeled by sentiment (positive/negative)__. Reviews have been preprocessed, and __each review is encoded as a sequence of word indexes__ (integers). For convenience, __words are indexed by overall frequency__ in the dataset, so that for instance the integer \"3\" encodes the 3rd most frequent word in the data. This allows for quick filtering operations such as: \"only consider the top 10,000 most common words, but eliminate the top 20 most common words\".\n",
    ">\n",
    "> As a convention, \"0\" does not stand for a specific word, but instead is used to encode any unknown word.\n",
    "\n",
    "\n",
    "We'll load reviews with only the 20,000 most frequent words:"
   ]
  },
  {
   "cell_type": "code",
   "execution_count": 2,
   "metadata": {},
   "outputs": [
    {
     "name": "stdout",
     "output_type": "stream",
     "text": [
      "Downloading data from https://storage.googleapis.com/tensorflow/tf-keras-datasets/imdb.npz\n",
      "17465344/17464789 [==============================] - 2s 0us/step\n",
      "17473536/17464789 [==============================] - 2s 0us/step\n",
      "Loading data...\n",
      "25000 train sequences\n",
      "25000 test sequences\n"
     ]
    }
   ],
   "source": [
    "from tensorflow.keras.datasets import imdb\n",
    "\n",
    "NUM_WORDS = 20000\n",
    "\n",
    "(x_train, y_train), (x_test, y_test) = imdb.load_data(num_words=NUM_WORDS)\n",
    "\n",
    "print(\"Loading data...\")\n",
    "print(len(x_train), \"train sequences\")\n",
    "print(len(x_test), \"test sequences\")"
   ]
  },
  {
   "cell_type": "markdown",
   "metadata": {},
   "source": [
    "`x_train` and `x_test` are `numpy.ndarray`'s containing list of sequences.\n",
    "\n",
    "A few examples are show below: the samples don't have the same length and are encoded by integers."
   ]
  },
  {
   "cell_type": "code",
   "execution_count": 36,
   "metadata": {},
   "outputs": [
    {
     "data": {
      "text/plain": [
       "[1, 14, 22, 16, 43]"
      ]
     },
     "execution_count": 36,
     "metadata": {},
     "output_type": "execute_result"
    }
   ],
   "source": [
    "x_train[0][:5]"
   ]
  },
  {
   "cell_type": "markdown",
   "metadata": {},
   "source": [
    "This may be a valid way to represent text for machines, but it's not really usefull for humans.\n",
    "Let's try to get the original text back.\n",
    "\n",
    "The `imdb` module ships with a function `get_word_index()` to decode the integers to words, but we'll have to do some extra work: there are some special words for that are not the word index.\n",
    "See the arguments `start_char`, `oov_char` and `index_from` of the function `imdb.load_data()` for more details."
   ]
  },
  {
   "cell_type": "code",
   "execution_count": 5,
   "metadata": {},
   "outputs": [
    {
     "name": "stdout",
     "output_type": "stream",
     "text": [
      "Downloading data from https://storage.googleapis.com/tensorflow/tf-keras-datasets/imdb_word_index.json\n",
      "1646592/1641221 [==============================] - 0s 0us/step\n",
      "1654784/1641221 [==============================] - 0s 0us/step\n"
     ]
    }
   ],
   "source": [
    "INDEX_FROM = 3  # First actual word.\n",
    "\n",
    "word_index = imdb.get_word_index()\n",
    "word_to_index = {k: (v + INDEX_FROM) for k, v in word_index.items()}\n",
    "# Add special words.\n",
    "word_to_index[\"<PAD>\"] = 0  # Padding\n",
    "word_to_index[\"<START>\"] = 1  # Starting of sequence\n",
    "word_to_index[\"<UNK>\"] = 2  # Unknown word\n",
    "\n",
    "index_to_word = {v: k for k, v in word_to_index.items()}"
   ]
  },
  {
   "cell_type": "markdown",
   "metadata": {},
   "source": [
    "With our dictionary `index_to_word` we can display the original reviews:"
   ]
  },
  {
   "cell_type": "code",
   "execution_count": 6,
   "metadata": {},
   "outputs": [
    {
     "data": {
      "text/plain": [
       "\"<START> worst mistake of my life br br i picked this movie up at target for 5 because i figured hey it's sandler i can get some cheap laughs i was wrong completely wrong mid way through the film all three of my friends were asleep and i was still suffering worst plot worst script worst movie i have ever seen i wanted to hit my head up against a wall for an hour then i'd stop and you know why because it felt damn good upon bashing my head in i stuck that damn movie in the <UNK> and watched it burn and that felt better than anything else i've ever done it took american psycho army of darkness and kill bill just to get over that crap i hate you sandler for actually going through with this and ruining a whole day of my life\""
      ]
     },
     "execution_count": 6,
     "metadata": {},
     "output_type": "execute_result"
    }
   ],
   "source": [
    "I_SHOW = 4\n",
    "\n",
    "\" \".join([index_to_word[w] for w in x_train[I_SHOW]])"
   ]
  },
  {
   "cell_type": "code",
   "execution_count": 8,
   "metadata": {
    "scrolled": true
   },
   "outputs": [],
   "source": [
    "# x_train[4]"
   ]
  },
  {
   "cell_type": "markdown",
   "metadata": {},
   "source": [
    "### <mark> Exercise \n",
    "\n",
    "Play around with `I_SHOW` and read some other reviews!"
   ]
  },
  {
   "cell_type": "markdown",
   "metadata": {},
   "source": [
    "## Preprocessing"
   ]
  },
  {
   "cell_type": "markdown",
   "metadata": {},
   "source": [
    "The previous section showed that the text was encoded by integers, but we need to do some more processing: `keras` needs all sequences (/reviews) to be of equal length.\n",
    "\n",
    "We can choose to pad all sequences to the longest length, or we can choose a maximum review length and cut longer reviews.\n",
    "We'll cut reviews after `MAXLEN=80` words and pad them if needed: "
   ]
  },
  {
   "cell_type": "code",
   "execution_count": 23,
   "metadata": {},
   "outputs": [
    {
     "name": "stdout",
     "output_type": "stream",
     "text": [
      "Size of X_train (25000, 250)\n",
      "Size of X_test (25000, 250)\n"
     ]
    }
   ],
   "source": [
    "from tensorflow.keras.preprocessing import sequence\n",
    "\n",
    "MAXLEN = 250\n",
    "\n",
    "X_train = sequence.pad_sequences(x_train, maxlen=MAXLEN)\n",
    "X_test = sequence.pad_sequences(x_test, maxlen=MAXLEN)\n",
    "\n",
    "print(\"Size of X_train\", X_train.shape)\n",
    "print(\"Size of X_test\", X_test.shape)"
   ]
  },
  {
   "cell_type": "markdown",
   "metadata": {},
   "source": [
    "Is this a valid threshold?\n",
    "\n",
    "The figure below shows that we'll be cutting most texts and padding only some.\n",
    "However, this can be fine: most of the sentiment could be in the first 80 words.\n",
    "If we find out that it's not enough, we'll come back and increase the text length!"
   ]
  },
  {
   "cell_type": "code",
   "execution_count": 24,
   "metadata": {},
   "outputs": [
    {
     "data": {
      "text/plain": [
       "<matplotlib.legend.Legend at 0x2760d786520>"
      ]
     },
     "execution_count": 24,
     "metadata": {},
     "output_type": "execute_result"
    },
    {
     "data": {
      "image/png": "[encoded data removed]",
      "text/plain": [
       "<Figure size 720x432 with 1 Axes>"
      ]
     },
     "metadata": {
      "needs_background": "light"
     },
     "output_type": "display_data"
    }
   ],
   "source": [
    "import matplotlib.pyplot as plt\n",
    "import seaborn as sns\n",
    "\n",
    "lengths = [len(s) for s in x_train]\n",
    "\n",
    "fig, ax = plt.subplots(figsize=(10, 6))\n",
    "sns.kdeplot(lengths, cumulative=True, label=\"x_train\", ax=ax)\n",
    "ax.plot((MAXLEN, MAXLEN), ax.get_ylim(), \"--k\")\n",
    "ax.set_xlabel(\"Sequence lengths [# words]\")\n",
    "ax.set_ylabel(\"Cumulative fraction\")\n",
    "ax.set_title(\"Occurence of sequence lengths in reviews\")\n",
    "ax.legend([\"x_train\", \"Max length\"])"
   ]
  },
  {
   "cell_type": "markdown",
   "metadata": {},
   "source": [
    "We're now done with the preprocessing!\n",
    "In our training set we have 25000 reviews of 80 words (some of the padded).\n",
    "All words are encoded by integers:"
   ]
  },
  {
   "cell_type": "code",
   "execution_count": 25,
   "metadata": {},
   "outputs": [
    {
     "data": {
      "text/plain": [
       "250"
      ]
     },
     "execution_count": 25,
     "metadata": {},
     "output_type": "execute_result"
    }
   ],
   "source": [
    "MAXLEN"
   ]
  },
  {
   "cell_type": "code",
   "execution_count": 26,
   "metadata": {
    "scrolled": true
   },
   "outputs": [
    {
     "name": "stdout",
     "output_type": "stream",
     "text": [
      "Size of X_train: (25000, 250)\n"
     ]
    },
    {
     "data": {
      "text/plain": [
       "array([   11,     2,    21,    29,     9,  2841,    23,     4,  1010,\n",
       "           2,   793,     6, 13699,  1386,  1830,    10,    10,   246,\n",
       "          50,     9,     6,  2750,  1944,   746,    90,    29, 16376,\n",
       "           8,   124,     4,   882,     4,   882,   496,    27,     2,\n",
       "        2213,   537,   121,   127,  1219,   130,     5,    29,   494,\n",
       "           8,   124,     4,   882,   496,     4,   341,     7,    27,\n",
       "         846,    10,    10,    29,     9,  1906,     8,    97,     6,\n",
       "         236, 11120,  1311,     8,     4,     2,     7,    31,     7,\n",
       "           2,    91,     2,  3987,    70,     4,   882,    30,   579,\n",
       "          42,     9,    12,    32,    11,   537,    10,    10,    11,\n",
       "          14,    65,    44,   537,    75, 11876,  1775,  3353, 12716,\n",
       "        1846,     4, 11286,     7,   154,     5,     4,   518,    53,\n",
       "       13243, 11286,     7,  3211,   882,    11,   399,    38,    75,\n",
       "         257,  3807,    19, 18223,    17,    29,   456,     4,    65,\n",
       "           7,    27,   205,   113,    10,    10,     2,     4,     2,\n",
       "       10359,     9,   242,     4,    91,  1202, 11377,     5,  2070,\n",
       "         307,    22,     7,  5168,   126,    93,    40, 18223,    13,\n",
       "         188,  1076,  3222,    19,     4, 13465,     7,  2348,   537,\n",
       "          23,    53,   537,    21,    82,    40, 18223,    13,     2,\n",
       "          14,   280,    13,   219,     4,     2,   431,   758,   859,\n",
       "           4,   953,  1052, 12283,     7,  5991,     5,    94,    40,\n",
       "          25,   238,    60,     2,     4, 15812,   804,     2,     7,\n",
       "           4,  9941,   132,     8,    67,     6,    22,    15,     9,\n",
       "         283,     8,  5168,    14,    31,     9,   242,   955,    48,\n",
       "          25,   279,     2,    23,    12,  1685,   195,    25,   238,\n",
       "          60,   796, 13713,     4,   671,     7,  2804,     5,     4,\n",
       "         559,   154,   888,     7,   726,    50,    26,    49,  7008,\n",
       "          15,   566,    30,   579,    21,    64,  2574])"
      ]
     },
     "execution_count": 26,
     "metadata": {},
     "output_type": "execute_result"
    }
   ],
   "source": [
    "print(\"Size of X_train:\", X_train.shape)\n",
    "\n",
    "X_train[3, :]"
   ]
  },
  {
   "cell_type": "code",
   "execution_count": null,
   "metadata": {},
   "outputs": [
    {
     "data": {
      "text/plain": [
       "array([   0,    0,    0,    0,    0,    0,    0,    0,    0,    0,    0,\n",
       "          0,    0,    0,    0,    0,    0,    0,    0,    0,    0,    0,\n",
       "          0,    0,    0,    0,    0,    0,    0,    0,    0,    0,    0,\n",
       "          0,    0,    0,    0,    0,    0,    0,    0,    0,    0,    0,\n",
       "          0,    0,    0,    0,    0,    0,    0,    0,    0,    0,    0,\n",
       "          0,    0,    0,    0,    0,    0,    0,    0,    0,    0,    0,\n",
       "          0,    0,    0,    0,    0,    0,    0,    0,    0,    0,    0,\n",
       "          0,    0,    0,    0,    0,    0,    0,    0,    0,    0,    0,\n",
       "          0,    0,    0,    0,    0,    0,    0,    0,    0,    0,    0,\n",
       "          0,    0,    0,    0,    0,    0,    0,    0,    0,    0,    1,\n",
       "         14,   47,    8,   30,   31,    7,    4,  249,  108,    7,    4,\n",
       "       5974,   54,   61,  369,   13,   71,  149,   14,   22,  112,    4,\n",
       "       2401,  311,   12,   16, 3711,   33,   75,   43, 1829,  296,    4,\n",
       "         86,  320,   35,  534,   19,  263, 4821, 1301,    4, 1873,   33,\n",
       "         89,   78,   12,   66,   16,    4,  360,    7,    4,   58,  316,\n",
       "        334,   11,    4, 1716,   43,  645,  662,    8,  257,   85, 1200,\n",
       "         42, 1228, 2578,   83,   68, 3912,   15,   36,  165, 1539,  278,\n",
       "         36,   69,    2,  780,    8,  106,   14, 6905, 1338,   18,    6,\n",
       "         22,   12,  215,   28,  610,   40,    6,   87,  326,   23, 2300,\n",
       "         21,   23,   22,   12,  272,   40,   57,   31,   11,    4,   22,\n",
       "         47,    6, 2307,   51,    9,  170,   23,  595,  116,  595, 1352,\n",
       "         13,  191,   79,  638,   89,    2,   14,    9,    8,  106,  607,\n",
       "        624,   35,  534,    6,  227,    7,  129,  113])"
      ]
     },
     "execution_count": 33,
     "metadata": {},
     "output_type": "execute_result"
    }
   ],
   "source": [
    "X_train[2]"
   ]
  },
  {
   "cell_type": "markdown",
   "metadata": {},
   "source": [
    "---\n",
    "## The model"
   ]
  },
  {
   "cell_type": "markdown",
   "metadata": {},
   "source": [
    "Now we're done with all the data manipulation, what is our neural network going to look like?\n",
    "\n",
    "Our initial model will consist of three layers: an embedding layer, a recurrent layer and a dense layer.\n",
    "The embedding layer learns the relations between words, the recurrent layer learns what the document is about and the dense layer translates that to sentiment."
   ]
  },
  {
   "cell_type": "markdown",
   "metadata": {},
   "source": [
    "### 1 Embedding layer\n",
    "\n",
    "The embedding layer will embed our original word vectors in a dense, lower-dimensional space.\n"
   ]
  },
  {
   "cell_type": "markdown",
   "metadata": {},
   "source": [
    "Embeddings can capture __semantic information__ about words and their relationships to one another. \n",
    "Certain directions in the vector space embed certain semantic relationships such as male-femal, verb-tense and country-capital relationships between words.\n",
    "\n",
    "<img src=\"../images/nlp/linear-relationships.png\" alt=\"Drawing\" style=\"width: 90%;\"/>\n",
    "\n",
    "> Source: https://www.tensorflow.org/tutorials/word2vec"
   ]
  },
  {
   "cell_type": "markdown",
   "metadata": {},
   "source": [
    "We will build an embedding layer in Keras using `keras.layers.Embedding`. Keras can learn this layer for you, but you can also pretrained embeddings generated by others.\n",
    "More on this later."
   ]
  },
  {
   "cell_type": "markdown",
   "metadata": {},
   "source": [
    "### 2 Recurrent layer\n",
    "\n",
    "__Recurrent Neural Nets__ naturally deal with word order because they can go over a __sequence__ of words and keep a __memory__ of the information that has been calculated so far.\n",
    "\n",
    "This could help when trying to assign sentiment to sentences, as shown in the figure below.\n",
    "A word can trigger a sentiment that carries on for one or multiple sentences.\n",
    "\n",
    "<img src=\"../images/nlp/sentiment-neuron.gif\" style=\"width: 75%;\"/>\n",
    "\n",
    "\n",
    "> Source: [Unsupervised Sentiment Neuron](https://blog.openai.com/unsupervised-sentiment-neuron/)\n",
    "\n",
    "If we'd be interested in __understanding a document__ like in the previous example, we could use the following architecture:\n",
    "\n",
    "<img src=\"../images/nlp/rnn-architecture.png\" style=\"width: 75%;\"/>\n",
    "\n",
    "> Source: [Goodfellow, 2016]\n",
    "\n",
    "The left side of the figure shows a short-hand of the neural network, the right side shows the unrolled version.\n",
    "\n",
    "At each time-step, the input is the output of the previous time-step $\\mathbf{h}^{(t-1)}$ and a new input word vector $\\mathbf{x}^{(t)}$.\n",
    "\n",
    "Over time we adjust our idea of the document $\\mathbf{h}^{(t)}$ until we've seen all words in the document.\n",
    "\n",
    "This is illustrated in the figure below: we get a new word vector at each time-step and __carry over a score__. The final score $\\mathbf{h}^{(T)}$ represents what the neural network has learned about the document after having seen every word. We will use the final score to detect the sentiments of the text.\n",
    "\n",
    "![center](../images/rnn/rnn_many_to_one.jpeg)\n",
    "\n",
    "We'll use a specific kind of recurrent layer: a LSTM.\n",
    "The Long Short Term Memory neuron are able to learn long-term dependencies and often perform better than standard RNNs.\n",
    "\n",
    "![center three_quarters](../images/lstm/LSTM_overview.png)\n",
    "Read [this blog](https://colah.github.io/posts/2015-08-Understanding-LSTMs/) if you'd like more info.\n",
    "\n",
    "The LSTM layer can be found in `keras.layers.LSTM`."
   ]
  },
  {
   "cell_type": "markdown",
   "metadata": {},
   "source": [
    "### 3 Dense layer\n",
    "\n",
    "The first layer learns a good representation of words, the second learns to combine words in a single idea, and the final layer turns this idea into a classification.\n",
    "\n",
    "We will use a simple dense layer from `keras.layers.Dense` that transforms the idea vectors into a 0 or 1.\n",
    "The layer will consist of a single neuron that takes all connections and outputs 0 or 1."
   ]
  },
  {
   "cell_type": "markdown",
   "metadata": {},
   "source": [
    "### Implementing the model"
   ]
  },
  {
   "cell_type": "markdown",
   "metadata": {},
   "source": [
    "Now that we now how the architecture looks like and we have our data in `X_train` and `X_test`, it's time to build a model.\n",
    "\n",
    "### <mark> Exercise: LSTM for sentiment classification\n",
    "    \n",
    "<img src=\"../images/nlp/m_lstm_sentiment.png\" width=\"500\"/>\n",
    "\n",
    "> * Build a sequential model with three layers: embedding, LSTM and dense layers. \n",
    ">     * Don't make the embedding layer *larger than* 200 units. Use `NUM_WORDS` as the vocabulary size.\n",
    ">     * Use *at most* 256 LSTM units. Play around with parameters `dropout` and `recurrent_dropout`.\n",
    "> * Compile the model with `'binary_crossentropy'` as the loss and use `'accuracy'` as validation metric.\n",
    "> * Add callbacks to the fitting: use `keras.callbacks.ModelCheckpoint()` and `keras.callbacks.EarlyStopping()`.\n",
    "> * Reasonable test scores are 0.42 for the binary cross-entropy and and 0.81 for the accuracy."
   ]
  },
  {
   "cell_type": "code",
   "execution_count": 47,
   "metadata": {
    "scrolled": true
   },
   "outputs": [
    {
     "name": "stdout",
     "output_type": "stream",
     "text": [
      "Epoch 1/2\n",
      "23/98 [======>.......................] - ETA: 2:49 - loss: 0.6884 - accuracy: 0.5533"
     ]
    },
    {
     "ename": "KeyboardInterrupt",
     "evalue": "",
     "output_type": "error",
     "traceback": [
      "\u001b[1;31m---------------------------------------------------------------------------\u001b[0m",
      "\u001b[1;31mKeyboardInterrupt\u001b[0m                         Traceback (most recent call last)",
      "\u001b[1;32m~\\AppData\\Local\\Temp/ipykernel_10468/4210541616.py\u001b[0m in \u001b[0;36m<module>\u001b[1;34m\u001b[0m\n\u001b[0;32m     20\u001b[0m \u001b[1;31m# Compile and train.\u001b[0m\u001b[1;33m\u001b[0m\u001b[1;33m\u001b[0m\u001b[1;33m\u001b[0m\u001b[0m\n\u001b[0;32m     21\u001b[0m \u001b[0mmodel\u001b[0m\u001b[1;33m.\u001b[0m\u001b[0mcompile\u001b[0m\u001b[1;33m(\u001b[0m\u001b[0mloss\u001b[0m\u001b[1;33m=\u001b[0m\u001b[1;34m\"binary_crossentropy\"\u001b[0m\u001b[1;33m,\u001b[0m \u001b[0moptimizer\u001b[0m\u001b[1;33m=\u001b[0m\u001b[1;34m\"adam\"\u001b[0m\u001b[1;33m,\u001b[0m \u001b[0mmetrics\u001b[0m\u001b[1;33m=\u001b[0m\u001b[1;33m[\u001b[0m\u001b[1;34m\"accuracy\"\u001b[0m\u001b[1;33m]\u001b[0m\u001b[1;33m)\u001b[0m\u001b[1;33m\u001b[0m\u001b[1;33m\u001b[0m\u001b[0m\n\u001b[1;32m---> 22\u001b[1;33m model.fit(\n\u001b[0m\u001b[0;32m     23\u001b[0m     \u001b[0mX_train\u001b[0m\u001b[1;33m,\u001b[0m\u001b[1;33m\u001b[0m\u001b[1;33m\u001b[0m\u001b[0m\n\u001b[0;32m     24\u001b[0m     \u001b[0my_train\u001b[0m\u001b[1;33m,\u001b[0m\u001b[1;33m\u001b[0m\u001b[1;33m\u001b[0m\u001b[0m\n",
      "\u001b[1;32m~\\Anaconda3\\envs\\gdd-dl\\lib\\site-packages\\keras\\utils\\traceback_utils.py\u001b[0m in \u001b[0;36merror_handler\u001b[1;34m(*args, **kwargs)\u001b[0m\n\u001b[0;32m     62\u001b[0m     \u001b[0mfiltered_tb\u001b[0m \u001b[1;33m=\u001b[0m \u001b[1;32mNone\u001b[0m\u001b[1;33m\u001b[0m\u001b[1;33m\u001b[0m\u001b[0m\n\u001b[0;32m     63\u001b[0m     \u001b[1;32mtry\u001b[0m\u001b[1;33m:\u001b[0m\u001b[1;33m\u001b[0m\u001b[1;33m\u001b[0m\u001b[0m\n\u001b[1;32m---> 64\u001b[1;33m       \u001b[1;32mreturn\u001b[0m \u001b[0mfn\u001b[0m\u001b[1;33m(\u001b[0m\u001b[1;33m*\u001b[0m\u001b[0margs\u001b[0m\u001b[1;33m,\u001b[0m \u001b[1;33m**\u001b[0m\u001b[0mkwargs\u001b[0m\u001b[1;33m)\u001b[0m\u001b[1;33m\u001b[0m\u001b[1;33m\u001b[0m\u001b[0m\n\u001b[0m\u001b[0;32m     65\u001b[0m     \u001b[1;32mexcept\u001b[0m \u001b[0mException\u001b[0m \u001b[1;32mas\u001b[0m \u001b[0me\u001b[0m\u001b[1;33m:\u001b[0m  \u001b[1;31m# pylint: disable=broad-except\u001b[0m\u001b[1;33m\u001b[0m\u001b[1;33m\u001b[0m\u001b[0m\n\u001b[0;32m     66\u001b[0m       \u001b[0mfiltered_tb\u001b[0m \u001b[1;33m=\u001b[0m \u001b[0m_process_traceback_frames\u001b[0m\u001b[1;33m(\u001b[0m\u001b[0me\u001b[0m\u001b[1;33m.\u001b[0m\u001b[0m__traceback__\u001b[0m\u001b[1;33m)\u001b[0m\u001b[1;33m\u001b[0m\u001b[1;33m\u001b[0m\u001b[0m\n",
      "\u001b[1;32m~\\Anaconda3\\envs\\gdd-dl\\lib\\site-packages\\keras\\engine\\training.py\u001b[0m in \u001b[0;36mfit\u001b[1;34m(self, x, y, batch_size, epochs, verbose, callbacks, validation_split, validation_data, shuffle, class_weight, sample_weight, initial_epoch, steps_per_epoch, validation_steps, validation_batch_size, validation_freq, max_queue_size, workers, use_multiprocessing)\u001b[0m\n\u001b[0;32m   1214\u001b[0m                 _r=1):\n\u001b[0;32m   1215\u001b[0m               \u001b[0mcallbacks\u001b[0m\u001b[1;33m.\u001b[0m\u001b[0mon_train_batch_begin\u001b[0m\u001b[1;33m(\u001b[0m\u001b[0mstep\u001b[0m\u001b[1;33m)\u001b[0m\u001b[1;33m\u001b[0m\u001b[1;33m\u001b[0m\u001b[0m\n\u001b[1;32m-> 1216\u001b[1;33m               \u001b[0mtmp_logs\u001b[0m \u001b[1;33m=\u001b[0m \u001b[0mself\u001b[0m\u001b[1;33m.\u001b[0m\u001b[0mtrain_function\u001b[0m\u001b[1;33m(\u001b[0m\u001b[0miterator\u001b[0m\u001b[1;33m)\u001b[0m\u001b[1;33m\u001b[0m\u001b[1;33m\u001b[0m\u001b[0m\n\u001b[0m\u001b[0;32m   1217\u001b[0m               \u001b[1;32mif\u001b[0m \u001b[0mdata_handler\u001b[0m\u001b[1;33m.\u001b[0m\u001b[0mshould_sync\u001b[0m\u001b[1;33m:\u001b[0m\u001b[1;33m\u001b[0m\u001b[1;33m\u001b[0m\u001b[0m\n\u001b[0;32m   1218\u001b[0m                 \u001b[0mcontext\u001b[0m\u001b[1;33m.\u001b[0m\u001b[0masync_wait\u001b[0m\u001b[1;33m(\u001b[0m\u001b[1;33m)\u001b[0m\u001b[1;33m\u001b[0m\u001b[1;33m\u001b[0m\u001b[0m\n",
      "\u001b[1;32m~\\Anaconda3\\envs\\gdd-dl\\lib\\site-packages\\tensorflow\\python\\util\\traceback_utils.py\u001b[0m in \u001b[0;36merror_handler\u001b[1;34m(*args, **kwargs)\u001b[0m\n\u001b[0;32m    148\u001b[0m     \u001b[0mfiltered_tb\u001b[0m \u001b[1;33m=\u001b[0m \u001b[1;32mNone\u001b[0m\u001b[1;33m\u001b[0m\u001b[1;33m\u001b[0m\u001b[0m\n\u001b[0;32m    149\u001b[0m     \u001b[1;32mtry\u001b[0m\u001b[1;33m:\u001b[0m\u001b[1;33m\u001b[0m\u001b[1;33m\u001b[0m\u001b[0m\n\u001b[1;32m--> 150\u001b[1;33m       \u001b[1;32mreturn\u001b[0m \u001b[0mfn\u001b[0m\u001b[1;33m(\u001b[0m\u001b[1;33m*\u001b[0m\u001b[0margs\u001b[0m\u001b[1;33m,\u001b[0m \u001b[1;33m**\u001b[0m\u001b[0mkwargs\u001b[0m\u001b[1;33m)\u001b[0m\u001b[1;33m\u001b[0m\u001b[1;33m\u001b[0m\u001b[0m\n\u001b[0m\u001b[0;32m    151\u001b[0m     \u001b[1;32mexcept\u001b[0m \u001b[0mException\u001b[0m \u001b[1;32mas\u001b[0m \u001b[0me\u001b[0m\u001b[1;33m:\u001b[0m\u001b[1;33m\u001b[0m\u001b[1;33m\u001b[0m\u001b[0m\n\u001b[0;32m    152\u001b[0m       \u001b[0mfiltered_tb\u001b[0m \u001b[1;33m=\u001b[0m \u001b[0m_process_traceback_frames\u001b[0m\u001b[1;33m(\u001b[0m\u001b[0me\u001b[0m\u001b[1;33m.\u001b[0m\u001b[0m__traceback__\u001b[0m\u001b[1;33m)\u001b[0m\u001b[1;33m\u001b[0m\u001b[1;33m\u001b[0m\u001b[0m\n",
      "\u001b[1;32m~\\Anaconda3\\envs\\gdd-dl\\lib\\site-packages\\tensorflow\\python\\eager\\def_function.py\u001b[0m in \u001b[0;36m__call__\u001b[1;34m(self, *args, **kwds)\u001b[0m\n\u001b[0;32m    908\u001b[0m \u001b[1;33m\u001b[0m\u001b[0m\n\u001b[0;32m    909\u001b[0m       \u001b[1;32mwith\u001b[0m \u001b[0mOptionalXlaContext\u001b[0m\u001b[1;33m(\u001b[0m\u001b[0mself\u001b[0m\u001b[1;33m.\u001b[0m\u001b[0m_jit_compile\u001b[0m\u001b[1;33m)\u001b[0m\u001b[1;33m:\u001b[0m\u001b[1;33m\u001b[0m\u001b[1;33m\u001b[0m\u001b[0m\n\u001b[1;32m--> 910\u001b[1;33m         \u001b[0mresult\u001b[0m \u001b[1;33m=\u001b[0m \u001b[0mself\u001b[0m\u001b[1;33m.\u001b[0m\u001b[0m_call\u001b[0m\u001b[1;33m(\u001b[0m\u001b[1;33m*\u001b[0m\u001b[0margs\u001b[0m\u001b[1;33m,\u001b[0m \u001b[1;33m**\u001b[0m\u001b[0mkwds\u001b[0m\u001b[1;33m)\u001b[0m\u001b[1;33m\u001b[0m\u001b[1;33m\u001b[0m\u001b[0m\n\u001b[0m\u001b[0;32m    911\u001b[0m \u001b[1;33m\u001b[0m\u001b[0m\n\u001b[0;32m    912\u001b[0m       \u001b[0mnew_tracing_count\u001b[0m \u001b[1;33m=\u001b[0m \u001b[0mself\u001b[0m\u001b[1;33m.\u001b[0m\u001b[0mexperimental_get_tracing_count\u001b[0m\u001b[1;33m(\u001b[0m\u001b[1;33m)\u001b[0m\u001b[1;33m\u001b[0m\u001b[1;33m\u001b[0m\u001b[0m\n",
      "\u001b[1;32m~\\Anaconda3\\envs\\gdd-dl\\lib\\site-packages\\tensorflow\\python\\eager\\def_function.py\u001b[0m in \u001b[0;36m_call\u001b[1;34m(self, *args, **kwds)\u001b[0m\n\u001b[0;32m    940\u001b[0m       \u001b[1;31m# In this case we have created variables on the first call, so we run the\u001b[0m\u001b[1;33m\u001b[0m\u001b[1;33m\u001b[0m\u001b[1;33m\u001b[0m\u001b[0m\n\u001b[0;32m    941\u001b[0m       \u001b[1;31m# defunned version which is guaranteed to never create variables.\u001b[0m\u001b[1;33m\u001b[0m\u001b[1;33m\u001b[0m\u001b[1;33m\u001b[0m\u001b[0m\n\u001b[1;32m--> 942\u001b[1;33m       \u001b[1;32mreturn\u001b[0m \u001b[0mself\u001b[0m\u001b[1;33m.\u001b[0m\u001b[0m_stateless_fn\u001b[0m\u001b[1;33m(\u001b[0m\u001b[1;33m*\u001b[0m\u001b[0margs\u001b[0m\u001b[1;33m,\u001b[0m \u001b[1;33m**\u001b[0m\u001b[0mkwds\u001b[0m\u001b[1;33m)\u001b[0m  \u001b[1;31m# pylint: disable=not-callable\u001b[0m\u001b[1;33m\u001b[0m\u001b[1;33m\u001b[0m\u001b[0m\n\u001b[0m\u001b[0;32m    943\u001b[0m     \u001b[1;32melif\u001b[0m \u001b[0mself\u001b[0m\u001b[1;33m.\u001b[0m\u001b[0m_stateful_fn\u001b[0m \u001b[1;32mis\u001b[0m \u001b[1;32mnot\u001b[0m \u001b[1;32mNone\u001b[0m\u001b[1;33m:\u001b[0m\u001b[1;33m\u001b[0m\u001b[1;33m\u001b[0m\u001b[0m\n\u001b[0;32m    944\u001b[0m       \u001b[1;31m# Release the lock early so that multiple threads can perform the call\u001b[0m\u001b[1;33m\u001b[0m\u001b[1;33m\u001b[0m\u001b[1;33m\u001b[0m\u001b[0m\n",
      "\u001b[1;32m~\\Anaconda3\\envs\\gdd-dl\\lib\\site-packages\\tensorflow\\python\\eager\\function.py\u001b[0m in \u001b[0;36m__call__\u001b[1;34m(self, *args, **kwargs)\u001b[0m\n\u001b[0;32m   3128\u001b[0m       (graph_function,\n\u001b[0;32m   3129\u001b[0m        filtered_flat_args) = self._maybe_define_function(args, kwargs)\n\u001b[1;32m-> 3130\u001b[1;33m     return graph_function._call_flat(\n\u001b[0m\u001b[0;32m   3131\u001b[0m         filtered_flat_args, captured_inputs=graph_function.captured_inputs)  # pylint: disable=protected-access\n\u001b[0;32m   3132\u001b[0m \u001b[1;33m\u001b[0m\u001b[0m\n",
      "\u001b[1;32m~\\Anaconda3\\envs\\gdd-dl\\lib\\site-packages\\tensorflow\\python\\eager\\function.py\u001b[0m in \u001b[0;36m_call_flat\u001b[1;34m(self, args, captured_inputs, cancellation_manager)\u001b[0m\n\u001b[0;32m   1957\u001b[0m         and executing_eagerly):\n\u001b[0;32m   1958\u001b[0m       \u001b[1;31m# No tape is watching; skip to running the function.\u001b[0m\u001b[1;33m\u001b[0m\u001b[1;33m\u001b[0m\u001b[1;33m\u001b[0m\u001b[0m\n\u001b[1;32m-> 1959\u001b[1;33m       return self._build_call_outputs(self._inference_function.call(\n\u001b[0m\u001b[0;32m   1960\u001b[0m           ctx, args, cancellation_manager=cancellation_manager))\n\u001b[0;32m   1961\u001b[0m     forward_backward = self._select_forward_and_backward_functions(\n",
      "\u001b[1;32m~\\Anaconda3\\envs\\gdd-dl\\lib\\site-packages\\tensorflow\\python\\eager\\function.py\u001b[0m in \u001b[0;36mcall\u001b[1;34m(self, ctx, args, cancellation_manager)\u001b[0m\n\u001b[0;32m    596\u001b[0m       \u001b[1;32mwith\u001b[0m \u001b[0m_InterpolateFunctionError\u001b[0m\u001b[1;33m(\u001b[0m\u001b[0mself\u001b[0m\u001b[1;33m)\u001b[0m\u001b[1;33m:\u001b[0m\u001b[1;33m\u001b[0m\u001b[1;33m\u001b[0m\u001b[0m\n\u001b[0;32m    597\u001b[0m         \u001b[1;32mif\u001b[0m \u001b[0mcancellation_manager\u001b[0m \u001b[1;32mis\u001b[0m \u001b[1;32mNone\u001b[0m\u001b[1;33m:\u001b[0m\u001b[1;33m\u001b[0m\u001b[1;33m\u001b[0m\u001b[0m\n\u001b[1;32m--> 598\u001b[1;33m           outputs = execute.execute(\n\u001b[0m\u001b[0;32m    599\u001b[0m               \u001b[0mstr\u001b[0m\u001b[1;33m(\u001b[0m\u001b[0mself\u001b[0m\u001b[1;33m.\u001b[0m\u001b[0msignature\u001b[0m\u001b[1;33m.\u001b[0m\u001b[0mname\u001b[0m\u001b[1;33m)\u001b[0m\u001b[1;33m,\u001b[0m\u001b[1;33m\u001b[0m\u001b[1;33m\u001b[0m\u001b[0m\n\u001b[0;32m    600\u001b[0m               \u001b[0mnum_outputs\u001b[0m\u001b[1;33m=\u001b[0m\u001b[0mself\u001b[0m\u001b[1;33m.\u001b[0m\u001b[0m_num_outputs\u001b[0m\u001b[1;33m,\u001b[0m\u001b[1;33m\u001b[0m\u001b[1;33m\u001b[0m\u001b[0m\n",
      "\u001b[1;32m~\\Anaconda3\\envs\\gdd-dl\\lib\\site-packages\\tensorflow\\python\\eager\\execute.py\u001b[0m in \u001b[0;36mquick_execute\u001b[1;34m(op_name, num_outputs, inputs, attrs, ctx, name)\u001b[0m\n\u001b[0;32m     56\u001b[0m   \u001b[1;32mtry\u001b[0m\u001b[1;33m:\u001b[0m\u001b[1;33m\u001b[0m\u001b[1;33m\u001b[0m\u001b[0m\n\u001b[0;32m     57\u001b[0m     \u001b[0mctx\u001b[0m\u001b[1;33m.\u001b[0m\u001b[0mensure_initialized\u001b[0m\u001b[1;33m(\u001b[0m\u001b[1;33m)\u001b[0m\u001b[1;33m\u001b[0m\u001b[1;33m\u001b[0m\u001b[0m\n\u001b[1;32m---> 58\u001b[1;33m     tensors = pywrap_tfe.TFE_Py_Execute(ctx._handle, device_name, op_name,\n\u001b[0m\u001b[0;32m     59\u001b[0m                                         inputs, attrs, num_outputs)\n\u001b[0;32m     60\u001b[0m   \u001b[1;32mexcept\u001b[0m \u001b[0mcore\u001b[0m\u001b[1;33m.\u001b[0m\u001b[0m_NotOkStatusException\u001b[0m \u001b[1;32mas\u001b[0m \u001b[0me\u001b[0m\u001b[1;33m:\u001b[0m\u001b[1;33m\u001b[0m\u001b[1;33m\u001b[0m\u001b[0m\n",
      "\u001b[1;31mKeyboardInterrupt\u001b[0m: "
     ]
    }
   ],
   "source": [
    "# %load ../answers/sentiment_lstm.py\n",
    "from tensorflow.keras import callbacks\n",
    "from tensorflow.keras.models import Sequential\n",
    "from tensorflow.keras.layers import Dense, Embedding, LSTM\n",
    "\n",
    "# Make our model.\n",
    "model = Sequential()\n",
    "model.add(Embedding(NUM_WORDS, 32))  # size of the vector; i.e. the number of nodes in the shallow word embedding network\n",
    "model.add(LSTM(128, dropout=0.2, recurrent_dropout=0.2))\n",
    "model.add(Dense(1, activation=\"sigmoid\"))\n",
    "\n",
    "# Callbacks.\n",
    "checkpoint = callbacks.ModelCheckpoint(\n",
    "    filepath=\"../output/imdb_lstm.h5\", verbose=1, save_best_only=True\n",
    ")\n",
    "early_stopping = callbacks.EarlyStopping(\n",
    "    monitor=\"val_loss\", min_delta=0, patience=2, verbose=0, mode=\"auto\"\n",
    ")\n",
    "\n",
    "# Compile and train.\n",
    "model.compile(loss=\"binary_crossentropy\", optimizer=\"adam\", metrics=[\"accuracy\"])\n",
    "model.fit(\n",
    "    X_train,\n",
    "    y_train,\n",
    "    batch_size=256,\n",
    "    epochs=2,\n",
    "    validation_data=(X_test, y_test),\n",
    "    callbacks=[checkpoint, early_stopping],\n",
    ")\n",
    "\n",
    "score, acc = model.evaluate(X_test, y_test, batch_size=64)\n",
    "\n",
    "print(\"Test score:\", score)\n",
    "print(\"Test accuracy:\", acc)\n"
   ]
  },
  {
   "cell_type": "markdown",
   "metadata": {},
   "source": [
    "If you reached the benchmarks, you've succesfully trained a recurrent neural network for text classification!\n",
    "\n",
    "The next section gives some pointers what to do next."
   ]
  },
  {
   "cell_type": "markdown",
   "metadata": {},
   "source": [
    "---\n",
    "## Extension exercises"
   ]
  },
  {
   "cell_type": "markdown",
   "metadata": {},
   "source": [
    "We've only touched the surface on applying RNNs to text.\n",
    "This section contains some more exercises to deepen your understanding."
   ]
  },
  {
   "cell_type": "markdown",
   "metadata": {},
   "source": [
    "### <mark>Exercise: Baseline\n",
    "\n",
    "This dataset is small, so might not really benefit from the complexity from deep learning.\n",
    "> Use [`sklearn`](http://scikit-learn.org/stable/) to create a baseline: create a `Pipeline` using the `TfidfVectorizer()` and `BernoulliNB()` \n",
    "> What's your best score?\n",
    "\n",
    "Hint:\n",
    "> Use `X_train_translated` and `X_test_translated` from below; `TfidfVectorizer()` works better with real strings than integers.\n",
    "> You can still use `y_train` and `y_test`."
   ]
  },
  {
   "cell_type": "code",
   "execution_count": 39,
   "metadata": {},
   "outputs": [],
   "source": [
    "# Convert indices to text.\n",
    "X_train_translated = [\" \".join(index_to_word[w] for w in s) for s in x_train]\n",
    "X_test_translated = [\" \".join(index_to_word[w] for w in s) for s in x_test]"
   ]
  },
  {
   "cell_type": "code",
   "execution_count": 40,
   "metadata": {},
   "outputs": [
    {
     "data": {
      "text/plain": [
       "array([0.8466, 0.85  , 0.8592, 0.8476, 0.8524])"
      ]
     },
     "execution_count": 40,
     "metadata": {},
     "output_type": "execute_result"
    }
   ],
   "source": [
    "# %load ../answers/sentiment_sklearn.py\n",
    "from sklearn.feature_extraction import text\n",
    "from sklearn.pipeline import make_pipeline\n",
    "from sklearn.naive_bayes import BernoulliNB\n",
    "from sklearn import model_selection\n",
    "\n",
    "\n",
    "pipeline = make_pipeline(text.TfidfVectorizer(), BernoulliNB())\n",
    "model_selection.cross_val_score(\n",
    "    pipeline, X_train_translated, y_train, cv=5, scoring=\"accuracy\"\n",
    ")\n"
   ]
  },
  {
   "cell_type": "markdown",
   "metadata": {},
   "source": [
    "### <mark>Exercise: Minimum Viable Network\n",
    "\n",
    "You probably don't need a big network for this small dataset: there's not enough data to learn really complex relations.\n",
    ">What's the smallest network you still get good results with?"
   ]
  },
  {
   "cell_type": "code",
   "execution_count": 42,
   "metadata": {},
   "outputs": [
    {
     "name": "stdout",
     "output_type": "stream",
     "text": [
      "Epoch 1/5\n",
      "391/391 [==============================] - 367s 935ms/step - loss: 0.5042 - accuracy: 0.7365 - val_loss: 0.3318 - val_accuracy: 0.8631\n",
      "Epoch 2/5\n",
      "391/391 [==============================] - 444s 1s/step - loss: 0.2538 - accuracy: 0.9002 - val_loss: 0.3054 - val_accuracy: 0.8733\n",
      "Epoch 3/5\n",
      "391/391 [==============================] - 441s 1s/step - loss: 0.1657 - accuracy: 0.9416 - val_loss: 0.3524 - val_accuracy: 0.8575\n",
      "Epoch 4/5\n",
      "391/391 [==============================] - 453s 1s/step - loss: 0.1282 - accuracy: 0.9550 - val_loss: 0.3753 - val_accuracy: 0.8576\n",
      "391/391 [==============================] - 60s 153ms/step - loss: 0.3753 - accuracy: 0.8576\n",
      "Test score: 0.3752788305282593\n",
      "Test accuracy: 0.8575999736785889\n"
     ]
    }
   ],
   "source": [
    "# %load ../answers/sentiment_mvn.py\n",
    "from tensorflow.keras.models import Sequential\n",
    "from tensorflow.keras.layers import Dense, Embedding, LSTM\n",
    "\n",
    "# Make our model.\n",
    "mvm = Sequential()\n",
    "mvm.add(Embedding(NUM_WORDS, 30))\n",
    "mvm.add(LSTM(128, dropout=0.1, recurrent_dropout=0.1))\n",
    "mvm.add(Dense(1, activation=\"sigmoid\"))\n",
    "\n",
    "# Compile and train.\n",
    "mvm.compile(loss=\"binary_crossentropy\", optimizer=\"adam\", metrics=[\"accuracy\"])\n",
    "mvm.fit(\n",
    "    X_train,\n",
    "    y_train,\n",
    "    batch_size=64,\n",
    "    epochs=5,\n",
    "    validation_data=(X_test, y_test),\n",
    "    callbacks=[early_stopping],\n",
    ")\n",
    "\n",
    "score, acc = mvm.evaluate(X_test, y_test, batch_size=64)\n",
    "\n",
    "print(\"Test score:\", score)\n",
    "print(\"Test accuracy:\", acc)\n"
   ]
  },
  {
   "cell_type": "markdown",
   "metadata": {},
   "source": [
    "### <mark>Exercise: Visualizing Embeddings\n",
    "\n",
    "We explained previously that the embeddings could learn relations between words.\n",
    "    \n",
    "However, we didn't prove this for this solution: we just provided an architecture for the network and told the network to learn sentiment.\n",
    "    \n",
    "This means that it didn't necessarily use the embedding to learn a representation that makes sense to us: everything was conditioned on sentiment classfication.\n",
    "\n",
    ">Visualize the embeddings: are they any good?\n",
    "> * Get the weights from the right layer:\n",
    "    * See the attribute `.layers` of the network.\n",
    "    * Use the method `.get_weights()` of the layer.\n",
    "> * Use [TSNE](http://scikit-learn.org/stable/modules/generated/sklearn.manifold.TSNE.html) to map the weights into a 2D representation."
   ]
  },
  {
   "cell_type": "code",
   "execution_count": 43,
   "metadata": {},
   "outputs": [],
   "source": [
    "# %load ../answers/sentiment_tsne.py\n",
    "from sklearn.manifold import TSNE\n",
    "\n",
    "\n",
    "embedding_weights = model.layers[0].get_weights()[0]\n",
    "embedding_2d = TSNE().fit_transform(embedding_weights[:1000, :])\n",
    "plt.plot(embedding_2d[:, 0], embedding_2d[:, 1], \"o\")\n"
   ]
  },
  {
   "cell_type": "markdown",
   "metadata": {},
   "source": [
    "### <mark> Exercise: Transfer Learning\n",
    "\n",
    "Instead of training the embeddings, you can use word embeddings pretrained on a large corpus.\n",
    "\n",
    "This allows you to leverage complex relations learned from large corpora on your smaller datasets.\n",
    ">\n",
    "> - Read [this Keras blog](https://blog.keras.io/using-pre-trained-word-embeddings-in-a-keras-model.html)\n",
    "> - Rerun your model using word embeddings from GloVe. Note that not all words may be present, so you'll have to do some preprocessing.\n",
    "\n",
    "Does it improve your model?"
   ]
  },
  {
   "cell_type": "markdown",
   "metadata": {},
   "source": [
    "--- \n",
    "## Summary\n",
    "\n",
    "In this notebook we used RNNs to sequentially process word embeddings, so that we could perform sentiment classification on movie reviews."
   ]
  }
 ],
 "metadata": {
  "kernelspec": {
   "display_name": "Python 3 (ipykernel)",
   "language": "python",
   "name": "python3"
  },
  "language_info": {
   "codemirror_mode": {
    "name": "ipython",
    "version": 3
   },
   "file_extension": ".py",
   "mimetype": "text/x-python",
   "name": "python",
   "nbconvert_exporter": "python",
   "pygments_lexer": "ipython3",
   "version": "3.8.12"
  }
 },
 "nbformat": 4,
 "nbformat_minor": 4
}
