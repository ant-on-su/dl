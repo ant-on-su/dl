{
 "cells": [
  {
   "cell_type": "code",
   "execution_count": 1,
   "metadata": {},
   "outputs": [
    {
     "data": {
      "text/html": [
       "<link rel=\"stylesheet\" type=\"text/css\" href=\"../css/custom.css\">\n"
      ],
      "text/plain": [
       "<IPython.core.display.HTML object>"
      ]
     },
     "metadata": {},
     "output_type": "display_data"
    }
   ],
   "source": [
    "%%HTML\n",
    "<link rel=\"stylesheet\" type=\"text/css\" href=\"../css/custom.css\">"
   ]
  },
  {
   "cell_type": "markdown",
   "metadata": {},
   "source": [
    "# Recurrent Neural Networks for Sentiment Classification\n",
    "\n",
    "\n",
    "Feedforward networks learn their parameters once and have a fixed state, so they cannot take context in the input data into account.\n",
    "\n",
    "Recurrent neural networks (RNNs) also learn their parameters once, but keep a state depending on the sequence they have seemed so far.\n",
    "\n",
    "This makes RNNs well suited for problems with sequences, like converting speech to text: translation of a word can be helped by knowing the words that came before.\n",
    "\n",
    "![footer_logo](../images/logo.png)\n",
    "\n",
    "## Goal\n",
    "\n",
    "In this exercise we'll apply a RNN for sentiment classification.\n",
    "We'll get some reviews from movies and try to classify if they have a positive or negative sentiment.\n",
    "\n",
    "## Program\n",
    "\n",
    "- [Introducing the dataset]()\n",
    "- [Preprocessing the data]()\n",
    "- [The model]()\n",
    "- [Extension exercises]()\n",
    "    - [Compare against a baseline model]()\n",
    "    - [Minimum viable network]()\n",
    "    - [Visualising the embeddings]()\n",
    "    - [Transfer learning (Glove)]()"
   ]
  },
  {
   "cell_type": "markdown",
   "metadata": {},
   "source": [
    "---\n",
    "## Data\n",
    "\n",
    "Like many other libraries, `keras` includes some standard datasets to play around with.\n",
    "We'll use the IMDB dataset. This section shows what this dataset contains.\n",
    "\n",
    "From the [website](https://keras.io/datasets/#imdb-movie-reviews-sentiment-classification) (emphasis ours): \n",
    "\n",
    "> \"Dataset of __25,000 movies reviews from IMDB, labeled by sentiment (positive/negative)__. Reviews have been preprocessed, and __each review is encoded as a sequence of word indexes__ (integers). For convenience, __words are indexed by overall frequency__ in the dataset, so that for instance the integer \"3\" encodes the 3rd most frequent word in the data. This allows for quick filtering operations such as: \"only consider the top 10,000 most common words, but eliminate the top 20 most common words\".\n",
    ">\n",
    "> As a convention, \"0\" does not stand for a specific word, but instead is used to encode any unknown word.\n",
    "\n",
    "\n",
    "We'll load reviews with only the 20,000 most frequent words:"
   ]
  },
  {
   "cell_type": "code",
   "execution_count": 3,
   "metadata": {},
   "outputs": [
    {
     "name": "stdout",
     "output_type": "stream",
     "text": [
      "Loading data...\n",
      "25000 train sequences\n",
      "25000 test sequences\n"
     ]
    }
   ],
   "source": [
    "from tensorflow.keras.datasets import imdb\n",
    "\n",
    "NUM_WORDS = 20000\n",
    "\n",
    "(x_train, y_train), (x_test, y_test) = imdb.load_data(num_words=NUM_WORDS)\n",
    "\n",
    "print(\"Loading data...\")\n",
    "print(len(x_train), \"train sequences\")\n",
    "print(len(x_test), \"test sequences\")"
   ]
  },
  {
   "cell_type": "code",
   "execution_count": 19,
   "metadata": {},
   "outputs": [
    {
     "data": {
      "text/plain": [
       "[1,\n",
       " 14,\n",
       " 22,\n",
       " 16,\n",
       " 43,\n",
       " 530,\n",
       " 973,\n",
       " 1622,\n",
       " 1385,\n",
       " 65,\n",
       " 458,\n",
       " 4468,\n",
       " 66,\n",
       " 3941,\n",
       " 4,\n",
       " 173,\n",
       " 36,\n",
       " 256,\n",
       " 5,\n",
       " 25,\n",
       " 100,\n",
       " 43,\n",
       " 838,\n",
       " 112,\n",
       " 50,\n",
       " 670,\n",
       " 2,\n",
       " 9,\n",
       " 35,\n",
       " 480,\n",
       " 284,\n",
       " 5,\n",
       " 150,\n",
       " 4,\n",
       " 172,\n",
       " 112,\n",
       " 167,\n",
       " 2,\n",
       " 336,\n",
       " 385,\n",
       " 39,\n",
       " 4,\n",
       " 172,\n",
       " 4536,\n",
       " 1111,\n",
       " 17,\n",
       " 546,\n",
       " 38,\n",
       " 13,\n",
       " 447,\n",
       " 4,\n",
       " 192,\n",
       " 50,\n",
       " 16,\n",
       " 6,\n",
       " 147,\n",
       " 2025,\n",
       " 19,\n",
       " 14,\n",
       " 22,\n",
       " 4,\n",
       " 1920,\n",
       " 4613,\n",
       " 469,\n",
       " 4,\n",
       " 22,\n",
       " 71,\n",
       " 87,\n",
       " 12,\n",
       " 16,\n",
       " 43,\n",
       " 530,\n",
       " 38,\n",
       " 76,\n",
       " 15,\n",
       " 13,\n",
       " 1247,\n",
       " 4,\n",
       " 22,\n",
       " 17,\n",
       " 515,\n",
       " 17,\n",
       " 12,\n",
       " 16,\n",
       " 626,\n",
       " 18,\n",
       " 19193,\n",
       " 5,\n",
       " 62,\n",
       " 386,\n",
       " 12,\n",
       " 8,\n",
       " 316,\n",
       " 8,\n",
       " 106,\n",
       " 5,\n",
       " 4,\n",
       " 2223,\n",
       " 5244,\n",
       " 16,\n",
       " 480,\n",
       " 66,\n",
       " 3785,\n",
       " 33,\n",
       " 4,\n",
       " 130,\n",
       " 12,\n",
       " 16,\n",
       " 38,\n",
       " 619,\n",
       " 5,\n",
       " 25,\n",
       " 124,\n",
       " 51,\n",
       " 36,\n",
       " 135,\n",
       " 48,\n",
       " 25,\n",
       " 1415,\n",
       " 33,\n",
       " 6,\n",
       " 22,\n",
       " 12,\n",
       " 215,\n",
       " 28,\n",
       " 77,\n",
       " 52,\n",
       " 5,\n",
       " 14,\n",
       " 407,\n",
       " 16,\n",
       " 82,\n",
       " 10311,\n",
       " 8,\n",
       " 4,\n",
       " 107,\n",
       " 117,\n",
       " 5952,\n",
       " 15,\n",
       " 256,\n",
       " 4,\n",
       " 2,\n",
       " 7,\n",
       " 3766,\n",
       " 5,\n",
       " 723,\n",
       " 36,\n",
       " 71,\n",
       " 43,\n",
       " 530,\n",
       " 476,\n",
       " 26,\n",
       " 400,\n",
       " 317,\n",
       " 46,\n",
       " 7,\n",
       " 4,\n",
       " 12118,\n",
       " 1029,\n",
       " 13,\n",
       " 104,\n",
       " 88,\n",
       " 4,\n",
       " 381,\n",
       " 15,\n",
       " 297,\n",
       " 98,\n",
       " 32,\n",
       " 2071,\n",
       " 56,\n",
       " 26,\n",
       " 141,\n",
       " 6,\n",
       " 194,\n",
       " 7486,\n",
       " 18,\n",
       " 4,\n",
       " 226,\n",
       " 22,\n",
       " 21,\n",
       " 134,\n",
       " 476,\n",
       " 26,\n",
       " 480,\n",
       " 5,\n",
       " 144,\n",
       " 30,\n",
       " 5535,\n",
       " 18,\n",
       " 51,\n",
       " 36,\n",
       " 28,\n",
       " 224,\n",
       " 92,\n",
       " 25,\n",
       " 104,\n",
       " 4,\n",
       " 226,\n",
       " 65,\n",
       " 16,\n",
       " 38,\n",
       " 1334,\n",
       " 88,\n",
       " 12,\n",
       " 16,\n",
       " 283,\n",
       " 5,\n",
       " 16,\n",
       " 4472,\n",
       " 113,\n",
       " 103,\n",
       " 32,\n",
       " 15,\n",
       " 16,\n",
       " 5345,\n",
       " 19,\n",
       " 178,\n",
       " 32]"
      ]
     },
     "execution_count": 19,
     "metadata": {},
     "output_type": "execute_result"
    }
   ],
   "source": [
    "x_train[0]"
   ]
  },
  {
   "cell_type": "code",
   "execution_count": 20,
   "metadata": {},
   "outputs": [
    {
     "data": {
      "text/plain": [
       "[1,\n",
       " 591,\n",
       " 202,\n",
       " 14,\n",
       " 31,\n",
       " 6,\n",
       " 717,\n",
       " 10,\n",
       " 10,\n",
       " 18142,\n",
       " 10698,\n",
       " 5,\n",
       " 4,\n",
       " 360,\n",
       " 7,\n",
       " 4,\n",
       " 177,\n",
       " 5760,\n",
       " 394,\n",
       " 354,\n",
       " 4,\n",
       " 123,\n",
       " 9,\n",
       " 1035,\n",
       " 1035,\n",
       " 1035,\n",
       " 10,\n",
       " 10,\n",
       " 13,\n",
       " 92,\n",
       " 124,\n",
       " 89,\n",
       " 488,\n",
       " 7944,\n",
       " 100,\n",
       " 28,\n",
       " 1668,\n",
       " 14,\n",
       " 31,\n",
       " 23,\n",
       " 27,\n",
       " 7479,\n",
       " 29,\n",
       " 220,\n",
       " 468,\n",
       " 8,\n",
       " 124,\n",
       " 14,\n",
       " 286,\n",
       " 170,\n",
       " 8,\n",
       " 157,\n",
       " 46,\n",
       " 5,\n",
       " 27,\n",
       " 239,\n",
       " 16,\n",
       " 179,\n",
       " 15387,\n",
       " 38,\n",
       " 32,\n",
       " 25,\n",
       " 7944,\n",
       " 451,\n",
       " 202,\n",
       " 14,\n",
       " 6,\n",
       " 717]"
      ]
     },
     "execution_count": 20,
     "metadata": {},
     "output_type": "execute_result"
    }
   ],
   "source": [
    "x_test[0]"
   ]
  },
  {
   "cell_type": "markdown",
   "metadata": {},
   "source": [
    "`x_train` and `x_test` are `numpy.ndarray`'s containing list of sequences.\n",
    "\n",
    "A few examples are show below: the samples don't have the same length and are encoded by integers."
   ]
  },
  {
   "cell_type": "code",
   "execution_count": 4,
   "metadata": {},
   "outputs": [
    {
     "data": {
      "text/plain": [
       "[1,\n",
       " 14,\n",
       " 22,\n",
       " 16,\n",
       " 43,\n",
       " 530,\n",
       " 973,\n",
       " 1622,\n",
       " 1385,\n",
       " 65,\n",
       " 458,\n",
       " 4468,\n",
       " 66,\n",
       " 3941,\n",
       " 4,\n",
       " 173,\n",
       " 36,\n",
       " 256,\n",
       " 5,\n",
       " 25,\n",
       " 100,\n",
       " 43,\n",
       " 838,\n",
       " 112,\n",
       " 50,\n",
       " 670,\n",
       " 2,\n",
       " 9,\n",
       " 35,\n",
       " 480,\n",
       " 284,\n",
       " 5,\n",
       " 150,\n",
       " 4,\n",
       " 172,\n",
       " 112,\n",
       " 167,\n",
       " 2,\n",
       " 336,\n",
       " 385,\n",
       " 39,\n",
       " 4,\n",
       " 172,\n",
       " 4536,\n",
       " 1111,\n",
       " 17,\n",
       " 546,\n",
       " 38,\n",
       " 13,\n",
       " 447,\n",
       " 4,\n",
       " 192,\n",
       " 50,\n",
       " 16,\n",
       " 6,\n",
       " 147,\n",
       " 2025,\n",
       " 19,\n",
       " 14,\n",
       " 22,\n",
       " 4,\n",
       " 1920,\n",
       " 4613,\n",
       " 469,\n",
       " 4,\n",
       " 22,\n",
       " 71,\n",
       " 87,\n",
       " 12,\n",
       " 16,\n",
       " 43,\n",
       " 530,\n",
       " 38,\n",
       " 76,\n",
       " 15,\n",
       " 13,\n",
       " 1247,\n",
       " 4,\n",
       " 22,\n",
       " 17,\n",
       " 515,\n",
       " 17,\n",
       " 12,\n",
       " 16,\n",
       " 626,\n",
       " 18,\n",
       " 19193,\n",
       " 5,\n",
       " 62,\n",
       " 386,\n",
       " 12,\n",
       " 8,\n",
       " 316,\n",
       " 8,\n",
       " 106,\n",
       " 5,\n",
       " 4,\n",
       " 2223,\n",
       " 5244,\n",
       " 16,\n",
       " 480,\n",
       " 66,\n",
       " 3785,\n",
       " 33,\n",
       " 4,\n",
       " 130,\n",
       " 12,\n",
       " 16,\n",
       " 38,\n",
       " 619,\n",
       " 5,\n",
       " 25,\n",
       " 124,\n",
       " 51,\n",
       " 36,\n",
       " 135,\n",
       " 48,\n",
       " 25,\n",
       " 1415,\n",
       " 33,\n",
       " 6,\n",
       " 22,\n",
       " 12,\n",
       " 215,\n",
       " 28,\n",
       " 77,\n",
       " 52,\n",
       " 5,\n",
       " 14,\n",
       " 407,\n",
       " 16,\n",
       " 82,\n",
       " 10311,\n",
       " 8,\n",
       " 4,\n",
       " 107,\n",
       " 117,\n",
       " 5952,\n",
       " 15,\n",
       " 256,\n",
       " 4,\n",
       " 2,\n",
       " 7,\n",
       " 3766,\n",
       " 5,\n",
       " 723,\n",
       " 36,\n",
       " 71,\n",
       " 43,\n",
       " 530,\n",
       " 476,\n",
       " 26,\n",
       " 400,\n",
       " 317,\n",
       " 46,\n",
       " 7,\n",
       " 4,\n",
       " 12118,\n",
       " 1029,\n",
       " 13,\n",
       " 104,\n",
       " 88,\n",
       " 4,\n",
       " 381,\n",
       " 15,\n",
       " 297,\n",
       " 98,\n",
       " 32,\n",
       " 2071,\n",
       " 56,\n",
       " 26,\n",
       " 141,\n",
       " 6,\n",
       " 194,\n",
       " 7486,\n",
       " 18,\n",
       " 4,\n",
       " 226,\n",
       " 22,\n",
       " 21,\n",
       " 134,\n",
       " 476,\n",
       " 26,\n",
       " 480,\n",
       " 5,\n",
       " 144,\n",
       " 30,\n",
       " 5535,\n",
       " 18,\n",
       " 51,\n",
       " 36,\n",
       " 28,\n",
       " 224,\n",
       " 92,\n",
       " 25,\n",
       " 104,\n",
       " 4,\n",
       " 226,\n",
       " 65,\n",
       " 16,\n",
       " 38,\n",
       " 1334,\n",
       " 88,\n",
       " 12,\n",
       " 16,\n",
       " 283,\n",
       " 5,\n",
       " 16,\n",
       " 4472,\n",
       " 113,\n",
       " 103,\n",
       " 32,\n",
       " 15,\n",
       " 16,\n",
       " 5345,\n",
       " 19,\n",
       " 178,\n",
       " 32]"
      ]
     },
     "execution_count": 4,
     "metadata": {},
     "output_type": "execute_result"
    }
   ],
   "source": [
    "x_train[0]"
   ]
  },
  {
   "cell_type": "markdown",
   "metadata": {},
   "source": [
    "This may be a valid way to represent text for machines, but it's not really usefull for humans.\n",
    "Let's try to get the original text back.\n",
    "\n",
    "The `imdb` module ships with a function `get_word_index()` to decode the integers to words, but we'll have to do some extra work: there are some special words for that are not the word index.\n",
    "See the arguments `start_char`, `oov_char` and `index_from` of the function `imdb.load_data()` for more details."
   ]
  },
  {
   "cell_type": "code",
   "execution_count": 5,
   "metadata": {},
   "outputs": [],
   "source": [
    "INDEX_FROM = 3  # First actual word.\n",
    "\n",
    "word_index = imdb.get_word_index()\n",
    "word_to_index = {k: (v + INDEX_FROM) for k, v in word_index.items()}\n",
    "# Add special words.\n",
    "word_to_index[\"<PAD>\"] = 0  # Padding\n",
    "word_to_index[\"<START>\"] = 1  # Starting of sequence\n",
    "word_to_index[\"<UNK>\"] = 2  # Unknown word\n",
    "\n",
    "index_to_word = {v: k for k, v in word_to_index.items()}"
   ]
  },
  {
   "cell_type": "markdown",
   "metadata": {},
   "source": [
    "With our dictionary `index_to_word` we can display the original reviews:"
   ]
  },
  {
   "cell_type": "code",
   "execution_count": 7,
   "metadata": {},
   "outputs": [
    {
     "data": {
      "text/plain": [
       "\"<START> worst mistake of my life br br i picked this movie up at target for 5 because i figured hey it's sandler i can get some cheap laughs i was wrong completely wrong mid way through the film all three of my friends were asleep and i was still suffering worst plot worst script worst movie i have ever seen i wanted to hit my head up against a wall for an hour then i'd stop and you know why because it felt damn good upon bashing my head in i stuck that damn movie in the <UNK> and watched it burn and that felt better than anything else i've ever done it took american psycho army of darkness and kill bill just to get over that crap i hate you sandler for actually going through with this and ruining a whole day of my life\""
      ]
     },
     "execution_count": 7,
     "metadata": {},
     "output_type": "execute_result"
    }
   ],
   "source": [
    "I_SHOW = 4\n",
    "\n",
    "\" \".join([index_to_word[w] for w in x_train[I_SHOW]])"
   ]
  },
  {
   "cell_type": "code",
   "execution_count": null,
   "metadata": {
    "scrolled": true
   },
   "outputs": [],
   "source": [
    "x_train[4]"
   ]
  },
  {
   "cell_type": "markdown",
   "metadata": {},
   "source": [
    "### <mark> Exercise \n",
    "\n",
    "Play around with `I_SHOW` and read some other reviews!"
   ]
  },
  {
   "cell_type": "markdown",
   "metadata": {},
   "source": [
    "## Preprocessing"
   ]
  },
  {
   "cell_type": "markdown",
   "metadata": {},
   "source": [
    "The previous section showed that the text was encoded by integers, but we need to do some more processing: `keras` needs all sequences (/reviews) to be of equal length.\n",
    "\n",
    "We can choose to pad all sequences to the longest length, or we can choose a maximum review length and cut longer reviews.\n",
    "We'll cut reviews after `MAXLEN=80` words and pad them if needed: "
   ]
  },
  {
   "cell_type": "code",
   "execution_count": 8,
   "metadata": {},
   "outputs": [
    {
     "name": "stdout",
     "output_type": "stream",
     "text": [
      "Size of X_train (25000, 80)\n",
      "Size of X_test (25000, 80)\n"
     ]
    }
   ],
   "source": [
    "from tensorflow.keras.preprocessing import sequence\n",
    "\n",
    "MAXLEN = 80\n",
    "\n",
    "X_train = sequence.pad_sequences(x_train, maxlen=MAXLEN)\n",
    "X_test = sequence.pad_sequences(x_test, maxlen=MAXLEN)\n",
    "\n",
    "print(\"Size of X_train\", X_train.shape)\n",
    "print(\"Size of X_test\", X_test.shape)"
   ]
  },
  {
   "cell_type": "markdown",
   "metadata": {},
   "source": [
    "Is this a valid threshold?\n",
    "\n",
    "The figure below shows that we'll be cutting most texts and padding only some.\n",
    "However, this can be fine: most of the sentiment could be in the first 80 words.\n",
    "If we find out that it's not enough, we'll come back and increase the text length!"
   ]
  },
  {
   "cell_type": "code",
   "execution_count": 9,
   "metadata": {},
   "outputs": [
    {
     "data": {
      "text/plain": [
       "<matplotlib.legend.Legend at 0x7f7dda5263d0>"
      ]
     },
     "execution_count": 9,
     "metadata": {},
     "output_type": "execute_result"
    },
    {
     "data": {
      "image/png": "[encoded data removed]",
      "text/plain": [
       "<Figure size 720x432 with 1 Axes>"
      ]
     },
     "metadata": {
      "needs_background": "light"
     },
     "output_type": "display_data"
    }
   ],
   "source": [
    "import matplotlib.pyplot as plt\n",
    "import seaborn as sns\n",
    "\n",
    "lengths = [len(s) for s in x_train]\n",
    "\n",
    "fig, ax = plt.subplots(figsize=(10, 6))\n",
    "sns.kdeplot(lengths, cumulative=True, label=\"x_train\", ax=ax)\n",
    "ax.plot((80, 80), ax.get_ylim(), \"--k\")\n",
    "ax.set_xlabel(\"Sequence lengths [# words]\")\n",
    "ax.set_ylabel(\"Cumulative fraction\")\n",
    "ax.set_title(\"Occurence of sequence lengths in reviews\")\n",
    "ax.legend([\"x_train\", \"Max length\"])"
   ]
  },
  {
   "cell_type": "markdown",
   "metadata": {},
   "source": [
    "We're now done with the preprocessing!\n",
    "In our training set we have 25000 reviews of 80 words (some of the padded).\n",
    "All words are encoded by integers:"
   ]
  },
  {
   "cell_type": "code",
   "execution_count": 10,
   "metadata": {
    "scrolled": true
   },
   "outputs": [
    {
     "name": "stdout",
     "output_type": "stream",
     "text": [
      "Size of X_train: (25000, 80)\n"
     ]
    },
    {
     "data": {
      "text/plain": [
       "array([    2,    14,   280,    13,   219,     4,     2,   431,   758,\n",
       "         859,     4,   953,  1052, 12283,     7,  5991,     5,    94,\n",
       "          40,    25,   238,    60,     2,     4, 15812,   804,     2,\n",
       "           7,     4,  9941,   132,     8,    67,     6,    22,    15,\n",
       "           9,   283,     8,  5168,    14,    31,     9,   242,   955,\n",
       "          48,    25,   279,     2,    23,    12,  1685,   195,    25,\n",
       "         238,    60,   796, 13713,     4,   671,     7,  2804,     5,\n",
       "           4,   559,   154,   888,     7,   726,    50,    26,    49,\n",
       "        7008,    15,   566,    30,   579,    21,    64,  2574],\n",
       "      dtype=int32)"
      ]
     },
     "execution_count": 10,
     "metadata": {},
     "output_type": "execute_result"
    }
   ],
   "source": [
    "print(\"Size of X_train:\", X_train.shape)\n",
    "\n",
    "X_train[3, :]"
   ]
  },
  {
   "cell_type": "markdown",
   "metadata": {},
   "source": [
    "---\n",
    "## The model"
   ]
  },
  {
   "cell_type": "markdown",
   "metadata": {},
   "source": [
    "Now we're done with all the data manipulation, what is our neural network going to look like?\n",
    "\n",
    "Our initial model will consist of three layers: an embedding layer, a recurrent layer and a dense layer.\n",
    "The embedding layer learns the relations between words, the recurrent layer learns what the document is about and the dense layer translates that to sentiment."
   ]
  },
  {
   "cell_type": "markdown",
   "metadata": {},
   "source": [
    "### 1 Embedding layer\n",
    "\n",
    "The embedding layer will embed our original word vectors in a dense, lower-dimensional space.\n"
   ]
  },
  {
   "cell_type": "markdown",
   "metadata": {},
   "source": [
    "Embeddings can capture __semantic information__ about words and their relationships to one another. \n",
    "Certain directions in the vector space embed certain semantic relationships such as male-femal, verb-tense and country-capital relationships between words.\n",
    "\n",
    "<img src=\"../images/nlp/linear-relationships.png\" alt=\"Drawing\" style=\"width: 90%;\"/>\n",
    "\n",
    "> Source: https://www.tensorflow.org/tutorials/word2vec"
   ]
  },
  {
   "cell_type": "markdown",
   "metadata": {},
   "source": [
    "We will build an embedding layer in Keras using `keras.layers.Embedding`. Keras can learn this layer for you, but you can also pretrained embeddings generated by others.\n",
    "More on this later."
   ]
  },
  {
   "cell_type": "markdown",
   "metadata": {},
   "source": [
    "### 2 Recurrent layer\n",
    "\n",
    "__Recurrent Neural Nets__ naturally deal with word order because they can go over a __sequence__ of words and keep a __memory__ of the information that has been calculated so far.\n",
    "\n",
    "This could help when trying to assign sentiment to sentences, as shown in the figure below.\n",
    "A word can trigger a sentiment that carries on for one or multiple sentences.\n",
    "\n",
    "<img src=\"../images/nlp/sentiment-neuron.gif\" style=\"width: 75%;\"/>\n",
    "\n",
    "\n",
    "> Source: [Unsupervised Sentiment Neuron](https://blog.openai.com/unsupervised-sentiment-neuron/)\n",
    "\n",
    "If we'd be interested in __understanding a document__ like in the previous example, we could use the following architecture:\n",
    "\n",
    "<img src=\"../images/nlp/rnn-architecture.png\" style=\"width: 75%;\"/>\n",
    "\n",
    "> Source: [Goodfellow, 2016]\n",
    "\n",
    "The left side of the figure shows a short-hand of the neural network, the right side shows the unrolled version.\n",
    "\n",
    "At each time-step, the input is the output of the previous time-step $\\mathbf{h}^{(t-1)}$ and a new input word vector $\\mathbf{x}^{(t)}$.\n",
    "\n",
    "Over time we adjust our idea of the document $\\mathbf{h}^{(t)}$ until we've seen all words in the document.\n",
    "\n",
    "This is illustrated in the figure below: we get a new word vector at each time-step and __carry over a score__. The final score $\\mathbf{h}^{(T)}$ represents what the neural network has learned about the document after having seen every word. We will use the final score to detect the sentiments of the text.\n",
    "\n",
    "![center](../images/rnn/rnn_many_to_one.jpeg)\n",
    "\n",
    "We'll use a specific kind of recurrent layer: a LSTM.\n",
    "The Long Short Term Memory neuron are able to learn long-term dependencies and often perform better than standard RNNs.\n",
    "\n",
    "![center three_quarters](../images/lstm/LSTM_overview.png)\n",
    "Read [this blog](https://colah.github.io/posts/2015-08-Understanding-LSTMs/) if you'd like more info.\n",
    "\n",
    "The LSTM layer can be found in `keras.layers.LSTM`."
   ]
  },
  {
   "cell_type": "markdown",
   "metadata": {},
   "source": [
    "### 3 Dense layer\n",
    "\n",
    "The first layer learns a good representation of words, the second learns to combine words in a single idea, and the final layer turns this idea into a classification.\n",
    "\n",
    "We will use a simple dense layer from `keras.layers.Dense` that transforms the idea vectors into a 0 or 1.\n",
    "The layer will consist of a single neuron that takes all connections and outputs 0 or 1."
   ]
  },
  {
   "cell_type": "markdown",
   "metadata": {},
   "source": [
    "### Implementing the model"
   ]
  },
  {
   "cell_type": "markdown",
   "metadata": {},
   "source": [
    "Now that we now how the architecture looks like and we have our data in `X_train` and `X_test`, it's time to build a model.\n",
    "\n",
    "### <mark> Exercise: LSTM for sentiment classification\n",
    "    \n",
    "<img src=\"../images/nlp/m_lstm_sentiment.png\" width=\"500\"/>\n",
    "\n",
    "> * Build a sequential model with three layers: embedding, LSTM and dense layers. \n",
    ">     * Don't make the embedding layer *larger than* 200 units. Use `NUM_WORDS` as the vocabulary size.\n",
    ">     * Use *at most* 256 LSTM units. Play around with parameters `dropout` and `recurrent_dropout`.\n",
    "> * Compile the model with `'binary_crossentropy'` as the loss and use `'accuracy'` as validation metric.\n",
    "> * Add callbacks to the fitting: use `keras.callbacks.ModelCheckpoint()` and `keras.callbacks.EarlyStopping()`.\n",
    "> * Reasonable test scores are 0.42 for the binary cross-entropy and and 0.81 for the accuracy."
   ]
  },
  {
   "cell_type": "code",
   "execution_count": 14,
   "metadata": {},
   "outputs": [
    {
     "data": {
      "text/plain": [
       "[1,\n",
       " 14,\n",
       " 22,\n",
       " 16,\n",
       " 43,\n",
       " 530,\n",
       " 973,\n",
       " 1622,\n",
       " 1385,\n",
       " 65,\n",
       " 458,\n",
       " 4468,\n",
       " 66,\n",
       " 3941,\n",
       " 4,\n",
       " 173,\n",
       " 36,\n",
       " 256,\n",
       " 5,\n",
       " 25,\n",
       " 100,\n",
       " 43,\n",
       " 838,\n",
       " 112,\n",
       " 50,\n",
       " 670,\n",
       " 2,\n",
       " 9,\n",
       " 35,\n",
       " 480,\n",
       " 284,\n",
       " 5,\n",
       " 150,\n",
       " 4,\n",
       " 172,\n",
       " 112,\n",
       " 167,\n",
       " 2,\n",
       " 336,\n",
       " 385,\n",
       " 39,\n",
       " 4,\n",
       " 172,\n",
       " 4536,\n",
       " 1111,\n",
       " 17,\n",
       " 546,\n",
       " 38,\n",
       " 13,\n",
       " 447,\n",
       " 4,\n",
       " 192,\n",
       " 50,\n",
       " 16,\n",
       " 6,\n",
       " 147,\n",
       " 2025,\n",
       " 19,\n",
       " 14,\n",
       " 22,\n",
       " 4,\n",
       " 1920,\n",
       " 4613,\n",
       " 469,\n",
       " 4,\n",
       " 22,\n",
       " 71,\n",
       " 87,\n",
       " 12,\n",
       " 16,\n",
       " 43,\n",
       " 530,\n",
       " 38,\n",
       " 76,\n",
       " 15,\n",
       " 13,\n",
       " 1247,\n",
       " 4,\n",
       " 22,\n",
       " 17,\n",
       " 515,\n",
       " 17,\n",
       " 12,\n",
       " 16,\n",
       " 626,\n",
       " 18,\n",
       " 19193,\n",
       " 5,\n",
       " 62,\n",
       " 386,\n",
       " 12,\n",
       " 8,\n",
       " 316,\n",
       " 8,\n",
       " 106,\n",
       " 5,\n",
       " 4,\n",
       " 2223,\n",
       " 5244,\n",
       " 16,\n",
       " 480,\n",
       " 66,\n",
       " 3785,\n",
       " 33,\n",
       " 4,\n",
       " 130,\n",
       " 12,\n",
       " 16,\n",
       " 38,\n",
       " 619,\n",
       " 5,\n",
       " 25,\n",
       " 124,\n",
       " 51,\n",
       " 36,\n",
       " 135,\n",
       " 48,\n",
       " 25,\n",
       " 1415,\n",
       " 33,\n",
       " 6,\n",
       " 22,\n",
       " 12,\n",
       " 215,\n",
       " 28,\n",
       " 77,\n",
       " 52,\n",
       " 5,\n",
       " 14,\n",
       " 407,\n",
       " 16,\n",
       " 82,\n",
       " 10311,\n",
       " 8,\n",
       " 4,\n",
       " 107,\n",
       " 117,\n",
       " 5952,\n",
       " 15,\n",
       " 256,\n",
       " 4,\n",
       " 2,\n",
       " 7,\n",
       " 3766,\n",
       " 5,\n",
       " 723,\n",
       " 36,\n",
       " 71,\n",
       " 43,\n",
       " 530,\n",
       " 476,\n",
       " 26,\n",
       " 400,\n",
       " 317,\n",
       " 46,\n",
       " 7,\n",
       " 4,\n",
       " 12118,\n",
       " 1029,\n",
       " 13,\n",
       " 104,\n",
       " 88,\n",
       " 4,\n",
       " 381,\n",
       " 15,\n",
       " 297,\n",
       " 98,\n",
       " 32,\n",
       " 2071,\n",
       " 56,\n",
       " 26,\n",
       " 141,\n",
       " 6,\n",
       " 194,\n",
       " 7486,\n",
       " 18,\n",
       " 4,\n",
       " 226,\n",
       " 22,\n",
       " 21,\n",
       " 134,\n",
       " 476,\n",
       " 26,\n",
       " 480,\n",
       " 5,\n",
       " 144,\n",
       " 30,\n",
       " 5535,\n",
       " 18,\n",
       " 51,\n",
       " 36,\n",
       " 28,\n",
       " 224,\n",
       " 92,\n",
       " 25,\n",
       " 104,\n",
       " 4,\n",
       " 226,\n",
       " 65,\n",
       " 16,\n",
       " 38,\n",
       " 1334,\n",
       " 88,\n",
       " 12,\n",
       " 16,\n",
       " 283,\n",
       " 5,\n",
       " 16,\n",
       " 4472,\n",
       " 113,\n",
       " 103,\n",
       " 32,\n",
       " 15,\n",
       " 16,\n",
       " 5345,\n",
       " 19,\n",
       " 178,\n",
       " 32]"
      ]
     },
     "execution_count": 14,
     "metadata": {},
     "output_type": "execute_result"
    }
   ],
   "source": [
    "x_train[0]"
   ]
  },
  {
   "cell_type": "code",
   "execution_count": null,
   "metadata": {},
   "outputs": [],
   "source": [
    "# %load ../answers/sentiment_lstm.py\n",
    "from tensorflow.keras import callbacks\n",
    "from tensorflow.keras.models import Sequential\n",
    "from tensorflow.keras.layers import Dense, Embedding, LSTM\n",
    "\n",
    "# Make our model.\n",
    "model = Sequential()\n",
    "model.add(Embedding(NUM_WORDS, 32))\n",
    "model.add(LSTM(128, dropout=0.2, recurrent_dropout=0.2))\n",
    "model.add(Dense(1, activation=\"sigmoid\"))"
   ]
  },
  {
   "cell_type": "code",
   "execution_count": 15,
   "metadata": {},
   "outputs": [
    {
     "name": "stdout",
     "output_type": "stream",
     "text": [
      "Model: \"sequential\"\n",
      "_________________________________________________________________\n",
      " Layer (type)                Output Shape              Param #   \n",
      "=================================================================\n",
      " embedding (Embedding)       (None, None, 32)          640000    \n",
      "                                                                 \n",
      " lstm (LSTM)                 (None, 128)               82432     \n",
      "                                                                 \n",
      " dense (Dense)               (None, 1)                 129       \n",
      "                                                                 \n",
      "=================================================================\n",
      "Total params: 722,561\n",
      "Trainable params: 722,561\n",
      "Non-trainable params: 0\n",
      "_________________________________________________________________\n"
     ]
    }
   ],
   "source": [
    "model.summary()"
   ]
  },
  {
   "cell_type": "code",
   "execution_count": 17,
   "metadata": {},
   "outputs": [
    {
     "data": {
      "text/plain": [
       "20000.0"
      ]
     },
     "execution_count": 17,
     "metadata": {},
     "output_type": "execute_result"
    }
   ],
   "source": [
    "640000 / 32"
   ]
  },
  {
   "cell_type": "code",
   "execution_count": 18,
   "metadata": {},
   "outputs": [
    {
     "data": {
      "text/plain": [
       "20000"
      ]
     },
     "execution_count": 18,
     "metadata": {},
     "output_type": "execute_result"
    }
   ],
   "source": [
    "NUM_WORDS"
   ]
  },
  {
   "cell_type": "code",
   "execution_count": 12,
   "metadata": {
    "scrolled": true
   },
   "outputs": [
    {
     "name": "stderr",
     "output_type": "stream",
     "text": [
      "2021-12-17 14:51:18.055535: I tensorflow/core/platform/cpu_feature_guard.cc:151] This TensorFlow binary is optimized with oneAPI Deep Neural Network Library (oneDNN) to use the following CPU instructions in performance-critical operations:  AVX2 FMA\n",
      "To enable them in other operations, rebuild TensorFlow with the appropriate compiler flags.\n"
     ]
    },
    {
     "name": "stdout",
     "output_type": "stream",
     "text": [
      "Epoch 1/20\n",
      "391/391 [==============================] - ETA: 0s - loss: 0.4606 - accuracy: 0.7672\n",
      "Epoch 00001: val_loss improved from inf to 0.35820, saving model to ../output/imdb_lstm.h5\n",
      "391/391 [==============================] - 46s 114ms/step - loss: 0.4606 - accuracy: 0.7672 - val_loss: 0.3582 - val_accuracy: 0.8418\n",
      "Epoch 2/20\n",
      "391/391 [==============================] - ETA: 0s - loss: 0.2774 - accuracy: 0.8871\n",
      "Epoch 00002: val_loss did not improve from 0.35820\n",
      "391/391 [==============================] - 44s 114ms/step - loss: 0.2774 - accuracy: 0.8871 - val_loss: 0.3605 - val_accuracy: 0.8411\n",
      "Epoch 3/20\n",
      "391/391 [==============================] - ETA: 0s - loss: 0.2148 - accuracy: 0.9186\n",
      "Epoch 00003: val_loss did not improve from 0.35820\n",
      "391/391 [==============================] - 54s 139ms/step - loss: 0.2148 - accuracy: 0.9186 - val_loss: 0.4313 - val_accuracy: 0.8296\n",
      "391/391 [==============================] - 11s 27ms/step - loss: 0.4313 - accuracy: 0.8296\n",
      "Test score: 0.4312891364097595\n",
      "Test accuracy: 0.8295599818229675\n"
     ]
    }
   ],
   "source": [
    "# Callbacks.\n",
    "checkpoint = callbacks.ModelCheckpoint(\n",
    "    filepath=\"../output/imdb_lstm.h5\", verbose=1, save_best_only=True\n",
    ")\n",
    "early_stopping = callbacks.EarlyStopping(\n",
    "    monitor=\"val_loss\", min_delta=0, patience=2, verbose=0, mode=\"auto\"\n",
    ")\n",
    "\n",
    "# Compile and train.\n",
    "model.compile(loss=\"binary_crossentropy\", optimizer=\"adam\", metrics=[\"accuracy\"])\n",
    "model.fit(\n",
    "    X_train,\n",
    "    y_train,\n",
    "    batch_size=64,\n",
    "    epochs=20,\n",
    "    validation_data=(X_test, y_test),\n",
    "    callbacks=[checkpoint, early_stopping],\n",
    ")\n",
    "\n",
    "score, acc = model.evaluate(X_test, y_test, batch_size=64)\n",
    "\n",
    "print(\"Test score:\", score)\n",
    "print(\"Test accuracy:\", acc)"
   ]
  },
  {
   "cell_type": "markdown",
   "metadata": {},
   "source": [
    "If you reached the benchmarks, you've succesfully trained a recurrent neural network for text classification!\n",
    "\n",
    "The next section gives some pointers what to do next."
   ]
  },
  {
   "cell_type": "markdown",
   "metadata": {},
   "source": [
    "---\n",
    "## Extension exercises"
   ]
  },
  {
   "cell_type": "markdown",
   "metadata": {},
   "source": [
    "We've only touched the surface on applying RNNs to text.\n",
    "This section contains some more exercises to deepen your understanding."
   ]
  },
  {
   "cell_type": "markdown",
   "metadata": {},
   "source": [
    "### <mark>Exercise: Baseline\n",
    "\n",
    "This dataset is small, so might not really benefit from the complexity from deep learning.\n",
    "> Use [`sklearn`](http://scikit-learn.org/stable/) to create a baseline: create a `Pipeline` using the `TfidfVectorizer()` and `BernoulliNB()` \n",
    "> What's your best score?\n",
    "\n",
    "Hint:\n",
    "> Use `X_train_translated` and `X_test_translated` from below; `TfidfVectorizer()` works better with real strings than integers.\n",
    "> You can still use `y_train` and `y_test`."
   ]
  },
  {
   "cell_type": "code",
   "execution_count": null,
   "metadata": {},
   "outputs": [],
   "source": [
    "# Convert indices to text.\n",
    "X_train_translated = [\" \".join(index_to_word[w] for w in s) for s in x_train]\n",
    "X_test_translated = [\" \".join(index_to_word[w] for w in s) for s in x_test]"
   ]
  },
  {
   "cell_type": "code",
   "execution_count": null,
   "metadata": {},
   "outputs": [],
   "source": [
    "# %load ../answers/sentiment_sklearn.py"
   ]
  },
  {
   "cell_type": "markdown",
   "metadata": {},
   "source": [
    "### <mark>Exercise: Minimum Viable Network\n",
    "\n",
    "You probably don't need a big network for this small dataset: there's not enough data to learn really complex relations.\n",
    ">What's the smallest network you still get good results with?"
   ]
  },
  {
   "cell_type": "code",
   "execution_count": null,
   "metadata": {},
   "outputs": [],
   "source": [
    "# %load ../answers/sentiment_mvn.py\n"
   ]
  },
  {
   "cell_type": "markdown",
   "metadata": {},
   "source": [
    "### <mark>Exercise: Visualizing Embeddings\n",
    "\n",
    "We explained previously that the embeddings could learn relations between words.\n",
    "    \n",
    "However, we didn't prove this for this solution: we just provided an architecture for the network and told the network to learn sentiment.\n",
    "    \n",
    "This means that it didn't necessarily use the embedding to learn a representation that makes sense to us: everything was conditioned on sentiment classfication.\n",
    "\n",
    ">Visualize the embeddings: are they any good?\n",
    "> * Get the weights from the right layer:\n",
    "    * See the attribute `.layers` of the network.\n",
    "    * Use the method `.get_weights()` of the layer.\n",
    "> * Use [TSNE](http://scikit-learn.org/stable/modules/generated/sklearn.manifold.TSNE.html) to map the weights into a 2D representation."
   ]
  },
  {
   "cell_type": "code",
   "execution_count": null,
   "metadata": {},
   "outputs": [],
   "source": [
    "# %load ../answers/sentiment_tsne.py\n"
   ]
  },
  {
   "cell_type": "markdown",
   "metadata": {},
   "source": [
    "### <mark> Exercise: Transfer Learning\n",
    "\n",
    "Instead of training the embeddings, you can use word embeddings pretrained on a large corpus.\n",
    "\n",
    "This allows you to leverage complex relations learned from large corpora on your smaller datasets.\n",
    ">\n",
    "> - Read [this Keras blog](https://blog.keras.io/using-pre-trained-word-embeddings-in-a-keras-model.html)\n",
    "> - Rerun your model using word embeddings from GloVe. Note that not all words may be present, so you'll have to do some preprocessing.\n",
    "\n",
    "Does it improve your model?"
   ]
  },
  {
   "cell_type": "markdown",
   "metadata": {},
   "source": [
    "--- \n",
    "## Summary\n",
    "\n",
    "In this notebook we used RNNs to sequentially process word embeddings, so that we could perform sentiment classification on movie reviews."
   ]
  }
 ],
 "metadata": {
  "kernelspec": {
   "display_name": "Python 3 (ipykernel)",
   "language": "python",
   "name": "python3"
  },
  "language_info": {
   "codemirror_mode": {
    "name": "ipython",
    "version": 3
   },
   "file_extension": ".py",
   "mimetype": "text/x-python",
   "name": "python",
   "nbconvert_exporter": "python",
   "pygments_lexer": "ipython3",
   "version": "3.8.12"
  }
 },
 "nbformat": 4,
 "nbformat_minor": 2
}
