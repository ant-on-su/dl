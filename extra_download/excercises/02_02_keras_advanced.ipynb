{
 "cells": [
  {
   "cell_type": "code",
   "execution_count": 1,
   "metadata": {},
   "outputs": [
    {
     "data": {
      "text/html": [
       "<link rel=\"stylesheet\" type=\"text/css\" href=\"../css/custom.css\">\n"
      ],
      "text/plain": [
       "<IPython.core.display.HTML object>"
      ]
     },
     "metadata": {},
     "output_type": "display_data"
    }
   ],
   "source": [
    "%%HTML\n",
    "<link rel=\"stylesheet\" type=\"text/css\" href=\"../css/custom.css\">"
   ]
  },
  {
   "cell_type": "markdown",
   "metadata": {},
   "source": [
    "# Keras Advanced\n",
    "\n",
    "![footer_logo](../images/logo.png)\n",
    "\n",
    "## Goal\n",
    "\n",
    "The goal of this Notebook is to dive deeper in the Keras API and touch some of the more advanced topics.\n",
    "\n",
    "## Program\n",
    "\n",
    "1. Functional API\n",
    "2. Large datasets with Keras\n",
    "3. Callbacks\n",
    "\n"
   ]
  },
  {
   "cell_type": "code",
   "execution_count": 2,
   "metadata": {},
   "outputs": [],
   "source": [
    "import os\n",
    "import time\n",
    "\n",
    "import shutil\n",
    "import matplotlib.pyplot as plt\n",
    "import numpy as np\n",
    "import pandas as pd\n",
    "import seaborn as sns\n",
    "import tensorflow\n",
    "\n",
    "%matplotlib inline"
   ]
  },
  {
   "cell_type": "code",
   "execution_count": 3,
   "metadata": {},
   "outputs": [],
   "source": [
    "plt.rcParams[\"figure.figsize\"] = 15, 6"
   ]
  },
  {
   "cell_type": "markdown",
   "metadata": {},
   "source": [
    "---"
   ]
  },
  {
   "cell_type": "markdown",
   "metadata": {},
   "source": [
    "## 0. Data\n",
    "\n",
    "We shall train a model using the functional API to classify fashion images.\n",
    "\n",
    "<img src=\"../images/other/fashion-mnist.png\" width=\"400\"/>\n",
    "\n",
    "Source: [Kaggle](https://www.kaggle.com/zalando-research/fashionmnist)"
   ]
  },
  {
   "cell_type": "markdown",
   "metadata": {},
   "source": [
    "We'll write some fashion MNIST images to a temporary folder with this structure and use this in the exercises later.\n",
    "\n",
    "To do this we'll use some helper functions in the `load_fashion_mnist.py` file."
   ]
  },
  {
   "cell_type": "code",
   "execution_count": 4,
   "metadata": {},
   "outputs": [],
   "source": [
    "from load_fashion_mnist import save_fashion_mnist"
   ]
  },
  {
   "cell_type": "code",
   "execution_count": 5,
   "metadata": {},
   "outputs": [
    {
     "name": "stdout",
     "output_type": "stream",
     "text": [
      "Dataset is written to /var/folders/97/7d29sf0n1m96f5430zrs2t700000gn/T/tmp4l7_y2e7\n"
     ]
    }
   ],
   "source": [
    "temp_dir = save_fashion_mnist(10000, 1000, 1000)\n",
    "print(f\"Dataset is written to {temp_dir}\")"
   ]
  },
  {
   "cell_type": "code",
   "execution_count": 6,
   "metadata": {
    "scrolled": false
   },
   "outputs": [
    {
     "name": "stdout",
     "output_type": "stream",
     "text": [
      "total 0\r\n",
      "drwxr-xr-x  12 jameshayward  staff  384 Dec 16 13:28 test\r\n",
      "drwxr-xr-x  12 jameshayward  staff  384 Dec 16 13:27 train\r\n",
      "drwxr-xr-x  12 jameshayward  staff  384 Dec 16 13:28 valid\r\n",
      "\r\n",
      "/var/folders/97/7d29sf0n1m96f5430zrs2t700000gn/T/tmp4l7_y2e7/test:\r\n",
      "total 0\r\n",
      "drwxr-xr-x   97 jameshayward  staff  3104 Dec 16 13:28 ankle_boot\r\n",
      "drwxr-xr-x   97 jameshayward  staff  3104 Dec 16 13:28 bag\r\n",
      "drwxr-xr-x  117 jameshayward  staff  3744 Dec 16 13:28 coat\r\n",
      "drwxr-xr-x   95 jameshayward  staff  3040 Dec 16 13:28 dress\r\n",
      "drwxr-xr-x  113 jameshayward  staff  3616 Dec 16 13:28 pullover\r\n",
      "drwxr-xr-x   89 jameshayward  staff  2848 Dec 16 13:28 sandal\r\n",
      "drwxr-xr-x   99 jameshayward  staff  3168 Dec 16 13:28 shirt\r\n",
      "drwxr-xr-x   97 jameshayward  staff  3104 Dec 16 13:28 sneaker\r\n",
      "drwxr-xr-x  107 jameshayward  staff  3424 Dec 16 13:28 trouser\r\n",
      "drwxr-xr-x  109 jameshayward  staff  3488 Dec 16 13:28 tshirttop\r\n",
      "\r\n",
      "/var/folders/97/7d29sf0n1m96f5430zrs2t700000gn/T/tmp4l7_y2e7/test/ankle_boot:\r\n",
      "total 760\r\n",
      "-rw-r--r--  1 jameshayward  staff  524 Dec 16 13:28 0.jpg\r\n",
      "-rw-r--r--  1 jameshayward  staff  580 Dec 16 13:28 107.jpg\r\n",
      "-rw-r--r--  1 jameshayward  staff  648 Dec 16 13:28 108.jpg\r\n",
      "-rw-r--r--  1 jameshayward  staff  660 Dec 16 13:28 122.jpg\r\n",
      "-rw-r--r--  1 jameshayward  staff  593 Dec 16 13:28 123.jpg\r\n",
      "-rw-r--r--  1 jameshayward  staff  589 Dec 16 13:28 132.jpg\r\n",
      "-rw-r--r--  1 jameshayward  staff  591 Dec 16 13:28 158.jpg\r\n",
      "-rw-r--r--  1 jameshayward  staff  535 Dec 16 13:28 163.jpg\r\n",
      "-rw-r--r--  1 jameshayward  staff  590 Dec 16 13:28 165.jpg\r\n",
      "-rw-r--r--  1 jameshayward  staff  565 Dec 16 13:28 178.jpg\r\n",
      "-rw-r--r--  1 jameshayward  staff  573 Dec 16 13:28 181.jpg\r\n",
      "-rw-r--r--  1 jameshayward  staff  689 Dec 16 13:28 185.jpg\r\n",
      "-rw-r--r--  1 jameshayward  staff  585 Dec 16 13:28 186.jpg\r\n",
      "-rw-r--r--  1 jameshayward  staff  620 Dec 16 13:28 203.jpg\r\n",
      "-rw-r--r--  1 jameshayward  staff  571 Dec 16 13:28 208.jpg\r\n",
      "-rw-r--r--  1 jameshayward  staff  639 Dec 16 13:28 23.jpg\r\n",
      "-rw-r--r--  1 jameshayward  staff  614 Dec 16 13:28 232.jpg\r\n",
      "-rw-r--r--  1 jameshayward  staff  638 Dec 16 13:28 234.jpg\r\n",
      "-rw-r--r--  1 jameshayward  staff  664 Dec 16 13:28 242.jpg\r\n",
      "-rw-r--r--  1 jameshayward  staff  563 Dec 16 13:28 250.jpg\r\n",
      "-rw-r--r--  1 jameshayward  staff  571 Dec 16 13:28 268.jpg\r\n",
      "-rw-r--r--  1 jameshayward  staff  597 Dec 16 13:28 28.jpg\r\n",
      "-rw-r--r--  1 jameshayward  staff  682 Dec 16 13:28 291.jpg\r\n",
      "-rw-r--r--  1 jameshayward  staff  604 Dec 16 13:28 297.jpg\r\n",
      "-rw-r--r--  1 jameshayward  staff  598 Dec 16 13:28 307.jpg\r\n",
      "-rw-r--r--  1 jameshayward  staff  580 Dec 16 13:28 316.jpg\r\n",
      "-rw-r--r--  1 jameshayward  staff  695 Dec 16 13:28 346.jpg\r\n",
      "-rw-r--r--  1 jameshayward  staff  680 Dec 16 13:28 348.jpg\r\n",
      "-rw-r--r--  1 jameshayward  staff  687 Dec 16 13:28 349.jpg\r\n",
      "-rw-r--r--  1 jameshayward  staff  622 Dec 16 13:28 372.jpg\r\n",
      "-rw-r--r--  1 jameshayward  staff  627 Dec 16 13:28 375.jpg\r\n",
      "-rw-r--r--  1 jameshayward  staff  580 Dec 16 13:28 377.jpg\r\n",
      "-rw-r--r--  1 jameshayward  staff  583 Dec 16 13:28 39.jpg\r\n",
      "-rw-r--r--  1 jameshayward  staff  577 Dec 16 13:28 392.jpg\r\n",
      "-rw-r--r--  1 jameshayward  staff  549 Dec 16 13:28 401.jpg\r\n",
      "-rw-r--r--  1 jameshayward  staff  665 Dec 16 13:28 414.jpg\r\n",
      "-rw-r--r--  1 jameshayward  staff  582 Dec 16 13:28 428.jpg\r\n",
      "-rw-r--r--  1 jameshayward  staff  554 Dec 16 13:28 441.jpg\r\n",
      "-rw-r--r--  1 jameshayward  staff  546 Dec 16 13:28 448.jpg\r\n",
      "-rw-r--r--  1 jameshayward  staff  540 Dec 16 13:28 456.jpg\r\n",
      "-rw-r--r--  1 jameshayward  staff  665 Dec 16 13:28 470.jpg\r\n",
      "-rw-r--r--  1 jameshayward  staff  569 Dec 16 13:28 477.jpg\r\n",
      "-rw-r--r--  1 jameshayward  staff  685 Dec 16 13:28 479.jpg\r\n",
      "-rw-r--r--  1 jameshayward  staff  565 Dec 16 13:28 481.jpg\r\n",
      "-rw-r--r--  1 jameshayward  staff  639 Dec 16 13:28 493.jpg\r\n",
      "-rw-r--r--  1 jameshayward  staff  670 Dec 16 13:28 495.jpg\r\n",
      "-rw-r--r--  1 jameshayward  staff  594 Dec 16 13:28 514.jpg\r\n",
      "-rw-r--r--  1 jameshayward  staff  675 Dec 16 13:28 518.jpg\r\n",
      "-rw-r--r--  1 jameshayward  staff  584 Dec 16 13:28 524.jpg\r\n",
      "-rw-r--r--  1 jameshayward  staff  638 Dec 16 13:28 537.jpg\r\n",
      "-rw-r--r--  1 jameshayward  staff  722 Dec 16 13:28 549.jpg\r\n",
      "-rw-r--r--  1 jameshayward  staff  675 Dec 16 13:28 556.jpg\r\n",
      "-rw-r--r--  1 jameshayward  staff  686 Dec 16 13:28 576.jpg\r\n",
      "-rw-r--r--  1 jameshayward  staff  680 Dec 16 13:28 583.jpg\r\n",
      "-rw-r--r--  1 jameshayward  staff  702 Dec 16 13:28 593.jpg\r\n",
      "-rw-r--r--  1 jameshayward  staff  706 Dec 16 13:28 601.jpg\r\n",
      "-rw-r--r--  1 jameshayward  staff  646 Dec 16 13:28 606.jpg\r\n",
      "-rw-r--r--  1 jameshayward  staff  564 Dec 16 13:28 609.jpg\r\n",
      "-rw-r--r--  1 jameshayward  staff  566 Dec 16 13:28 623.jpg\r\n",
      "-rw-r--r--  1 jameshayward  staff  603 Dec 16 13:28 630.jpg\r\n",
      "-rw-r--r--  1 jameshayward  staff  665 Dec 16 13:28 644.jpg\r\n",
      "-rw-r--r--  1 jameshayward  staff  563 Dec 16 13:28 68.jpg\r\n",
      "-rw-r--r--  1 jameshayward  staff  575 Dec 16 13:28 680.jpg\r\n",
      "-rw-r--r--  1 jameshayward  staff  562 Dec 16 13:28 683.jpg\r\n",
      "-rw-r--r--  1 jameshayward  staff  697 Dec 16 13:28 687.jpg\r\n",
      "-rw-r--r--  1 jameshayward  staff  683 Dec 16 13:28 692.jpg\r\n",
      "-rw-r--r--  1 jameshayward  staff  694 Dec 16 13:28 704.jpg\r\n",
      "-rw-r--r--  1 jameshayward  staff  591 Dec 16 13:28 706.jpg\r\n",
      "-rw-r--r--  1 jameshayward  staff  552 Dec 16 13:28 709.jpg\r\n",
      "-rw-r--r--  1 jameshayward  staff  612 Dec 16 13:28 730.jpg\r\n",
      "-rw-r--r--  1 jameshayward  staff  681 Dec 16 13:28 756.jpg\r\n",
      "-rw-r--r--  1 jameshayward  staff  662 Dec 16 13:28 772.jpg\r\n",
      "-rw-r--r--  1 jameshayward  staff  609 Dec 16 13:28 776.jpg\r\n",
      "-rw-r--r--  1 jameshayward  staff  669 Dec 16 13:28 780.jpg\r\n",
      "-rw-r--r--  1 jameshayward  staff  562 Dec 16 13:28 784.jpg\r\n",
      "-rw-r--r--  1 jameshayward  staff  557 Dec 16 13:28 794.jpg\r\n",
      "-rw-r--r--  1 jameshayward  staff  597 Dec 16 13:28 810.jpg\r\n",
      "-rw-r--r--  1 jameshayward  staff  601 Dec 16 13:28 820.jpg\r\n",
      "-rw-r--r--  1 jameshayward  staff  595 Dec 16 13:28 83.jpg\r\n",
      "-rw-r--r--  1 jameshayward  staff  652 Dec 16 13:28 839.jpg\r\n"
     ]
    }
   ],
   "source": [
    "!ls -lR {temp_dir} | head -n 100"
   ]
  },
  {
   "cell_type": "markdown",
   "metadata": {},
   "source": [
    "## 1. Functional API\n",
    "\n",
    "Only sequentially using `.add()` limits the complexity of your neural networks.\n",
    "Keras has other API's to solve that, the [functional API](https://keras.io/getting-started/functional-api-guide/) really helps with:\n",
    "\n",
    "> \"defining complex models, such as multi-output models, directed acyclic graphs, or models with shared layers.\"\n",
    "\n",
    "Let's check a minimum working example from the documentation.\n",
    "It defines a network with two hidden layers and an output layer for 10 classes.\n",
    "With the sequential API it would look something like:"
   ]
  },
  {
   "cell_type": "code",
   "execution_count": null,
   "metadata": {},
   "outputs": [],
   "source": [
    "from tensorflow.keras.layers import Dense\n",
    "from tensorflow.keras.models import Sequential\n",
    "\n",
    "model = Sequential()\n",
    "model.add(Dense(64, activation=\"relu\", input_shape=(784,)))\n",
    "model.add(Dense(64, activation=\"relu\"))\n",
    "model.add(Dense(10, activation=\"softmax\"))\n",
    "\n",
    "model.summary()"
   ]
  },
  {
   "cell_type": "markdown",
   "metadata": {},
   "source": [
    "We start with the `Input` tensor, something we're initially allowed to ignore with the Sequential API, and use it when calling the first hidden layer object.\n",
    "Layers in Keras are [callable](https://en.wikipedia.org/wiki/Callable_object#In_Python) objects which mean we can call them after instantiation.\n",
    "When called layers return a tensor that contains all operations (layers and their weights) applied so far.\n",
    "\n",
    "We put the initial `inputs` and the final result `prediction` in a `Model` object that has similar functionality to a `Sequential` object.\n",
    "In this case, we don't really care about the intermediate results, so we use the dummy variable name `x`."
   ]
  },
  {
   "cell_type": "code",
   "execution_count": null,
   "metadata": {},
   "outputs": [],
   "source": [
    "from tensorflow.keras.layers import Input, Dense\n",
    "from tensorflow.keras.models import Model\n",
    "\n",
    "inputs = Input(shape=(784,))\n",
    "x = Dense(64, activation=\"relu\")(inputs)\n",
    "x = Dense(64, activation=\"relu\")(x)\n",
    "predictions = Dense(10, activation=\"softmax\")(x)\n",
    "model = Model(inputs=inputs, outputs=predictions)\n",
    "\n",
    "model.summary()"
   ]
  },
  {
   "cell_type": "markdown",
   "metadata": {},
   "source": [
    "For this specific example, it's mainly more typing but this API allows you to be really flexible for non-sequential models. However, it allows you to easily define models with multiple inputs or outputs, or where you make use of the output from an earlier layer. \n",
    "\n",
    "A good example is a _Residual Network_ block. A residual network is made out of blocks where the output is copied and 'saved' for a little while, while other operations (e.g. convolutions) are applied to it. Then, these two outputs (original which has not been passed through more layers, and the version that _has_ been passed through more layers) are combined through a summation. The advantage of a ResNet architecture is that it tackles the vanishing gradient problem. \n",
    "\n",
    "![](https://developer.ridgerun.com/wiki/images/0/01/Residual_block.png)\n",
    "\n",
    "This is easily implemented in the functional API: \n",
    "```python\n",
    "inputs = Input(shape=(784,))\n",
    "x = Dense(64, activation=\"relu\")(inputs)\n",
    "x_original = x.copy() \n",
    "x = Dense(64, activation=\"relu\")(x)\n",
    "x = Add()([x, x_original])\n",
    "predictions = Dense(10, activation=\"softmax\")(x)\n",
    "model = Model(inputs=inputs, outputs=predictions)\n",
    "```"
   ]
  },
  {
   "cell_type": "markdown",
   "metadata": {},
   "source": [
    "### <mark> Exercise: functional API\n",
    "> \n",
    "> Rewrite the model below with the functional API and put it into a function `make_fashion_mnist_model()`.\n",
    ">\n"
   ]
  },
  {
   "cell_type": "code",
   "execution_count": null,
   "metadata": {},
   "outputs": [],
   "source": [
    "from tensorflow.keras.layers import Conv2D, Dense, Dropout, Flatten, Input, MaxPool2D\n",
    "from tensorflow.keras.models import Model\n",
    "\n",
    "\n",
    "def make_fashion_mnist_model():\n",
    "    model = Sequential()\n",
    "\n",
    "    model.add(Conv2D(64,kernel_size=2,padding=\"same\",activation=\"relu\",input_shape=(28, 28, 1)))\n",
    "    model.add(MaxPool2D(pool_size=2))\n",
    "\n",
    "    model.add(Dropout(0.3))\n",
    "    model.add(Conv2D(filters=32, kernel_size=2, padding=\"same\", activation=\"relu\"))\n",
    "    model.add(MaxPool2D(pool_size=2))\n",
    "\n",
    "    model.add(Dropout(0.3))\n",
    "    model.add(Flatten())\n",
    "    model.add(Dense(256, activation=\"relu\"))\n",
    "\n",
    "    model.add(Dropout(0.5))\n",
    "    model.add(Dense(10, activation=\"softmax\"))\n",
    "\n",
    "    return model\n",
    "\n",
    "model = make_fashion_mnist_model()\n",
    "model.summary()"
   ]
  },
  {
   "cell_type": "code",
   "execution_count": null,
   "metadata": {},
   "outputs": [],
   "source": [
    "def make_fashion_minst_model_functional(): \n",
    "    ...\n",
    "    \n",
    "model = make_fashion_mnist_model_function()\n",
    "model.summary()"
   ]
  },
  {
   "cell_type": "code",
   "execution_count": 8,
   "metadata": {
    "scrolled": true
   },
   "outputs": [
    {
     "name": "stdout",
     "output_type": "stream",
     "text": [
      "Model: \"model\"\n",
      "_________________________________________________________________\n",
      " Layer (type)                Output Shape              Param #   \n",
      "=================================================================\n",
      " input_1 (InputLayer)        [(None, 28, 28, 1)]       0         \n",
      "                                                                 \n",
      " conv2d (Conv2D)             (None, 28, 28, 64)        320       \n",
      "                                                                 \n",
      " max_pooling2d (MaxPooling2D  (None, 14, 14, 64)       0         \n",
      " )                                                               \n",
      "                                                                 \n",
      " dropout (Dropout)           (None, 14, 14, 64)        0         \n",
      "                                                                 \n",
      " conv2d_1 (Conv2D)           (None, 14, 14, 32)        8224      \n",
      "                                                                 \n",
      " max_pooling2d_1 (MaxPooling  (None, 7, 7, 32)         0         \n",
      " 2D)                                                             \n",
      "                                                                 \n",
      " dropout_1 (Dropout)         (None, 7, 7, 32)          0         \n",
      "                                                                 \n",
      " flatten (Flatten)           (None, 1568)              0         \n",
      "                                                                 \n",
      " dense (Dense)               (None, 256)               401664    \n",
      "                                                                 \n",
      " dropout_2 (Dropout)         (None, 256)               0         \n",
      "                                                                 \n",
      " dense_1 (Dense)             (None, 10)                2570      \n",
      "                                                                 \n",
      "=================================================================\n",
      "Total params: 412,778\n",
      "Trainable params: 412,778\n",
      "Non-trainable params: 0\n",
      "_________________________________________________________________\n"
     ]
    },
    {
     "name": "stderr",
     "output_type": "stream",
     "text": [
      "2021-12-16 14:31:15.368030: I tensorflow/core/platform/cpu_feature_guard.cc:151] This TensorFlow binary is optimized with oneAPI Deep Neural Network Library (oneDNN) to use the following CPU instructions in performance-critical operations:  AVX2 FMA\n",
      "To enable them in other operations, rebuild TensorFlow with the appropriate compiler flags.\n"
     ]
    }
   ],
   "source": [
    "# %load ../answers/functional.py\n",
    "from tensorflow.keras.layers import Conv2D, Dense, Dropout, Flatten, Input, MaxPool2D\n",
    "from tensorflow.keras.models import Model\n",
    "\n",
    "\n",
    "def make_fashion_mnist_model():\n",
    "\n",
    "    inputs = Input(shape=(28, 28, 1))\n",
    "\n",
    "    x = Conv2D(64, kernel_size=2, padding=\"same\", activation=\"relu\")(inputs)\n",
    "    x = MaxPool2D(pool_size=2)(x)\n",
    "\n",
    "    x = Dropout(0.3)(x)\n",
    "    x = Conv2D(filters=32, kernel_size=2, padding=\"same\", activation=\"relu\")(x)\n",
    "    x = MaxPool2D(pool_size=2)(x)\n",
    "\n",
    "    x = Dropout(0.3)(x)\n",
    "    x = Flatten()(x)\n",
    "    x = Dense(256, activation=\"relu\")(x)\n",
    "\n",
    "    x = Dropout(0.5)(x)\n",
    "    predictions = Dense(10, activation=\"softmax\")(x)\n",
    "\n",
    "    model = Model(inputs=inputs, outputs=predictions)\n",
    "\n",
    "    return model\n",
    "\n",
    "\n",
    "model = make_fashion_mnist_model()\n",
    "model.summary()\n"
   ]
  },
  {
   "cell_type": "markdown",
   "metadata": {},
   "source": [
    "---\n",
    "## 2. Large datasets with Keras\n",
    "\n",
    "Using numpy arrays as input can limit you once your datasets don't fit in memory anymore or if you're using  multiple devices.\n",
    "Keras has some built-in tools to help you; but training also works nicely with Python generators; and there's the integration with `tf.data.Datasets` to leverage TensorFlow's functionality.\n",
    "\n",
    "If you're not familiar with Python iterators and generators, make sure to do a bit of [reading](https://wiki.python.org/moin/Generators) before continuing. "
   ]
  },
  {
   "cell_type": "markdown",
   "metadata": {},
   "source": [
    "### Keras generators\n",
    "\n",
    "The idea behind Keras generators is to not load all data in memory at once, but to generate batches of data and feed those to the model.\n",
    "For instance, instead of loading all samples, we only load 100 training points and feed those to the GPU on the fly.\n",
    "\n",
    "A good example of a Keras generator is the [`ImageDataGenerator`](https://keras.io/preprocessing/image/#imagedatagenerator-class).\n",
    "This class takes data and performs various forms of image augmentation on the fly, like whitening, shearing and zooming.\n",
    "As the name `Generator` implies, it doesn't compute these augmentations all at once, but does this in batches. "
   ]
  },
  {
   "cell_type": "code",
   "execution_count": 9,
   "metadata": {},
   "outputs": [
    {
     "name": "stdout",
     "output_type": "stream",
     "text": [
      "Help on class ImageDataGenerator in module keras.preprocessing.image:\n",
      "\n",
      "class ImageDataGenerator(keras_preprocessing.image.image_data_generator.ImageDataGenerator)\n",
      " |  ImageDataGenerator(featurewise_center=False, samplewise_center=False, featurewise_std_normalization=False, samplewise_std_normalization=False, zca_whitening=False, zca_epsilon=1e-06, rotation_range=0, width_shift_range=0.0, height_shift_range=0.0, brightness_range=None, shear_range=0.0, zoom_range=0.0, channel_shift_range=0.0, fill_mode='nearest', cval=0.0, horizontal_flip=False, vertical_flip=False, rescale=None, preprocessing_function=None, data_format=None, validation_split=0.0, dtype=None)\n",
      " |  \n",
      " |  Generate batches of tensor image data with real-time data augmentation.\n",
      " |  \n",
      " |   The data will be looped over (in batches).\n",
      " |  \n",
      " |  Args:\n",
      " |      featurewise_center: Boolean.\n",
      " |          Set input mean to 0 over the dataset, feature-wise.\n",
      " |      samplewise_center: Boolean. Set each sample mean to 0.\n",
      " |      featurewise_std_normalization: Boolean.\n",
      " |          Divide inputs by std of the dataset, feature-wise.\n",
      " |      samplewise_std_normalization: Boolean. Divide each input by its std.\n",
      " |      zca_epsilon: epsilon for ZCA whitening. Default is 1e-6.\n",
      " |      zca_whitening: Boolean. Apply ZCA whitening.\n",
      " |      rotation_range: Int. Degree range for random rotations.\n",
      " |      width_shift_range: Float, 1-D array-like or int\n",
      " |          - float: fraction of total width, if < 1, or pixels if >= 1.\n",
      " |          - 1-D array-like: random elements from the array.\n",
      " |          - int: integer number of pixels from interval\n",
      " |              `(-width_shift_range, +width_shift_range)`\n",
      " |          - With `width_shift_range=2` possible values\n",
      " |              are integers `[-1, 0, +1]`,\n",
      " |              same as with `width_shift_range=[-1, 0, +1]`,\n",
      " |              while with `width_shift_range=1.0` possible values are floats\n",
      " |              in the interval [-1.0, +1.0).\n",
      " |      height_shift_range: Float, 1-D array-like or int\n",
      " |          - float: fraction of total height, if < 1, or pixels if >= 1.\n",
      " |          - 1-D array-like: random elements from the array.\n",
      " |          - int: integer number of pixels from interval\n",
      " |              `(-height_shift_range, +height_shift_range)`\n",
      " |          - With `height_shift_range=2` possible values\n",
      " |              are integers `[-1, 0, +1]`,\n",
      " |              same as with `height_shift_range=[-1, 0, +1]`,\n",
      " |              while with `height_shift_range=1.0` possible values are floats\n",
      " |              in the interval [-1.0, +1.0).\n",
      " |      brightness_range: Tuple or list of two floats. Range for picking\n",
      " |          a brightness shift value from.\n",
      " |      shear_range: Float. Shear Intensity\n",
      " |          (Shear angle in counter-clockwise direction in degrees)\n",
      " |      zoom_range: Float or [lower, upper]. Range for random zoom.\n",
      " |          If a float, `[lower, upper] = [1-zoom_range, 1+zoom_range]`.\n",
      " |      channel_shift_range: Float. Range for random channel shifts.\n",
      " |      fill_mode: One of {\"constant\", \"nearest\", \"reflect\" or \"wrap\"}.\n",
      " |          Default is 'nearest'.\n",
      " |          Points outside the boundaries of the input are filled\n",
      " |          according to the given mode:\n",
      " |          - 'constant': kkkkkkkk|abcd|kkkkkkkk (cval=k)\n",
      " |          - 'nearest':  aaaaaaaa|abcd|dddddddd\n",
      " |          - 'reflect':  abcddcba|abcd|dcbaabcd\n",
      " |          - 'wrap':  abcdabcd|abcd|abcdabcd\n",
      " |      cval: Float or Int.\n",
      " |          Value used for points outside the boundaries\n",
      " |          when `fill_mode = \"constant\"`.\n",
      " |      horizontal_flip: Boolean. Randomly flip inputs horizontally.\n",
      " |      vertical_flip: Boolean. Randomly flip inputs vertically.\n",
      " |      rescale: rescaling factor. Defaults to None.\n",
      " |          If None or 0, no rescaling is applied,\n",
      " |          otherwise we multiply the data by the value provided\n",
      " |          (after applying all other transformations).\n",
      " |      preprocessing_function: function that will be applied on each input.\n",
      " |          The function will run after the image is resized and augmented.\n",
      " |          The function should take one argument:\n",
      " |          one image (Numpy tensor with rank 3),\n",
      " |          and should output a Numpy tensor with the same shape.\n",
      " |      data_format: Image data format,\n",
      " |          either \"channels_first\" or \"channels_last\".\n",
      " |          \"channels_last\" mode means that the images should have shape\n",
      " |          `(samples, height, width, channels)`,\n",
      " |          \"channels_first\" mode means that the images should have shape\n",
      " |          `(samples, channels, height, width)`.\n",
      " |          It defaults to the `image_data_format` value found in your\n",
      " |          Keras config file at `~/.keras/keras.json`.\n",
      " |          If you never set it, then it will be \"channels_last\".\n",
      " |      validation_split: Float. Fraction of images reserved for validation\n",
      " |          (strictly between 0 and 1).\n",
      " |      dtype: Dtype to use for the generated arrays.\n",
      " |  \n",
      " |  Raises:\n",
      " |    ValueError: If the value of the argument, `data_format` is other than\n",
      " |          `\"channels_last\"` or `\"channels_first\"`.\n",
      " |    ValueError: If the value of the argument, `validation_split` > 1\n",
      " |          or `validation_split` < 0.\n",
      " |  \n",
      " |  Examples:\n",
      " |  \n",
      " |  Example of using `.flow(x, y)`:\n",
      " |  \n",
      " |  ```python\n",
      " |  (x_train, y_train), (x_test, y_test) = cifar10.load_data()\n",
      " |  y_train = utils.to_categorical(y_train, num_classes)\n",
      " |  y_test = utils.to_categorical(y_test, num_classes)\n",
      " |  datagen = ImageDataGenerator(\n",
      " |      featurewise_center=True,\n",
      " |      featurewise_std_normalization=True,\n",
      " |      rotation_range=20,\n",
      " |      width_shift_range=0.2,\n",
      " |      height_shift_range=0.2,\n",
      " |      horizontal_flip=True,\n",
      " |      validation_split=0.2)\n",
      " |  # compute quantities required for featurewise normalization\n",
      " |  # (std, mean, and principal components if ZCA whitening is applied)\n",
      " |  datagen.fit(x_train)\n",
      " |  # fits the model on batches with real-time data augmentation:\n",
      " |  model.fit(datagen.flow(x_train, y_train, batch_size=32,\n",
      " |           subset='training'),\n",
      " |           validation_data=datagen.flow(x_train, y_train,\n",
      " |           batch_size=8, subset='validation'),\n",
      " |           steps_per_epoch=len(x_train) / 32, epochs=epochs)\n",
      " |  # here's a more \"manual\" example\n",
      " |  for e in range(epochs):\n",
      " |      print('Epoch', e)\n",
      " |      batches = 0\n",
      " |      for x_batch, y_batch in datagen.flow(x_train, y_train, batch_size=32):\n",
      " |          model.fit(x_batch, y_batch)\n",
      " |          batches += 1\n",
      " |          if batches >= len(x_train) / 32:\n",
      " |              # we need to break the loop by hand because\n",
      " |              # the generator loops indefinitely\n",
      " |              break\n",
      " |  ```\n",
      " |  \n",
      " |  Example of using `.flow_from_directory(directory)`:\n",
      " |  \n",
      " |  ```python\n",
      " |  train_datagen = ImageDataGenerator(\n",
      " |          rescale=1./255,\n",
      " |          shear_range=0.2,\n",
      " |          zoom_range=0.2,\n",
      " |          horizontal_flip=True)\n",
      " |  test_datagen = ImageDataGenerator(rescale=1./255)\n",
      " |  train_generator = train_datagen.flow_from_directory(\n",
      " |          'data/train',\n",
      " |          target_size=(150, 150),\n",
      " |          batch_size=32,\n",
      " |          class_mode='binary')\n",
      " |  validation_generator = test_datagen.flow_from_directory(\n",
      " |          'data/validation',\n",
      " |          target_size=(150, 150),\n",
      " |          batch_size=32,\n",
      " |          class_mode='binary')\n",
      " |  model.fit(\n",
      " |          train_generator,\n",
      " |          steps_per_epoch=2000,\n",
      " |          epochs=50,\n",
      " |          validation_data=validation_generator,\n",
      " |          validation_steps=800)\n",
      " |  ```\n",
      " |  \n",
      " |  Example of transforming images and masks together.\n",
      " |  \n",
      " |  ```python\n",
      " |  # we create two instances with the same arguments\n",
      " |  data_gen_args = dict(featurewise_center=True,\n",
      " |                       featurewise_std_normalization=True,\n",
      " |                       rotation_range=90,\n",
      " |                       width_shift_range=0.1,\n",
      " |                       height_shift_range=0.1,\n",
      " |                       zoom_range=0.2)\n",
      " |  image_datagen = ImageDataGenerator(**data_gen_args)\n",
      " |  mask_datagen = ImageDataGenerator(**data_gen_args)\n",
      " |  # Provide the same seed and keyword arguments to the fit and flow methods\n",
      " |  seed = 1\n",
      " |  image_datagen.fit(images, augment=True, seed=seed)\n",
      " |  mask_datagen.fit(masks, augment=True, seed=seed)\n",
      " |  image_generator = image_datagen.flow_from_directory(\n",
      " |      'data/images',\n",
      " |      class_mode=None,\n",
      " |      seed=seed)\n",
      " |  mask_generator = mask_datagen.flow_from_directory(\n",
      " |      'data/masks',\n",
      " |      class_mode=None,\n",
      " |      seed=seed)\n",
      " |  # combine generators into one which yields image and masks\n",
      " |  train_generator = zip(image_generator, mask_generator)\n",
      " |  model.fit(\n",
      " |      train_generator,\n",
      " |      steps_per_epoch=2000,\n",
      " |      epochs=50)\n",
      " |  ```\n",
      " |  \n",
      " |  Method resolution order:\n",
      " |      ImageDataGenerator\n",
      " |      keras_preprocessing.image.image_data_generator.ImageDataGenerator\n",
      " |      builtins.object\n",
      " |  \n",
      " |  Methods defined here:\n",
      " |  \n",
      " |  __init__(self, featurewise_center=False, samplewise_center=False, featurewise_std_normalization=False, samplewise_std_normalization=False, zca_whitening=False, zca_epsilon=1e-06, rotation_range=0, width_shift_range=0.0, height_shift_range=0.0, brightness_range=None, shear_range=0.0, zoom_range=0.0, channel_shift_range=0.0, fill_mode='nearest', cval=0.0, horizontal_flip=False, vertical_flip=False, rescale=None, preprocessing_function=None, data_format=None, validation_split=0.0, dtype=None)\n",
      " |      Initialize self.  See help(type(self)) for accurate signature.\n",
      " |  \n",
      " |  flow(self, x, y=None, batch_size=32, shuffle=True, sample_weight=None, seed=None, save_to_dir=None, save_prefix='', save_format='png', subset=None)\n",
      " |      Takes data & label arrays, generates batches of augmented data.\n",
      " |      \n",
      " |      Args:\n",
      " |          x: Input data. Numpy array of rank 4 or a tuple. If tuple, the first\n",
      " |            element should contain the images and the second element another numpy\n",
      " |            array or a list of numpy arrays that gets passed to the output without\n",
      " |            any modifications. Can be used to feed the model miscellaneous data\n",
      " |            along with the images. In case of grayscale data, the channels axis of\n",
      " |            the image array should have value 1, in case of RGB data, it should\n",
      " |            have value 3, and in case of RGBA data, it should have value 4.\n",
      " |          y: Labels.\n",
      " |          batch_size: Int (default: 32).\n",
      " |          shuffle: Boolean (default: True).\n",
      " |          sample_weight: Sample weights.\n",
      " |          seed: Int (default: None).\n",
      " |          save_to_dir: None or str (default: None). This allows you to optionally\n",
      " |            specify a directory to which to save the augmented pictures being\n",
      " |            generated (useful for visualizing what you are doing).\n",
      " |          save_prefix: Str (default: `''`). Prefix to use for filenames of saved\n",
      " |            pictures (only relevant if `save_to_dir` is set).\n",
      " |          save_format: one of \"png\", \"jpeg\", \"bmp\", \"pdf\", \"ppm\", \"gif\",\n",
      " |              \"tif\", \"jpg\"\n",
      " |              (only relevant if `save_to_dir` is set). Default: \"png\".\n",
      " |          subset: Subset of data (`\"training\"` or `\"validation\"`) if\n",
      " |            `validation_split` is set in `ImageDataGenerator`.\n",
      " |      \n",
      " |      Returns:\n",
      " |          An `Iterator` yielding tuples of `(x, y)`\n",
      " |              where `x` is a numpy array of image data\n",
      " |              (in the case of a single image input) or a list\n",
      " |              of numpy arrays (in the case with\n",
      " |              additional inputs) and `y` is a numpy array\n",
      " |              of corresponding labels. If 'sample_weight' is not None,\n",
      " |              the yielded tuples are of the form `(x, y, sample_weight)`.\n",
      " |              If `y` is None, only the numpy array `x` is returned.\n",
      " |      Raises:\n",
      " |        ValueError: If the Value of the argument, `subset` is other than\n",
      " |              \"training\" or \"validation\".\n",
      " |  \n",
      " |  flow_from_dataframe(self, dataframe, directory=None, x_col='filename', y_col='class', weight_col=None, target_size=(256, 256), color_mode='rgb', classes=None, class_mode='categorical', batch_size=32, shuffle=True, seed=None, save_to_dir=None, save_prefix='', save_format='png', subset=None, interpolation='nearest', validate_filenames=True, **kwargs)\n",
      " |      Takes the dataframe and the path to a directory + generates batches.\n",
      " |      \n",
      " |       The generated batches contain augmented/normalized data.\n",
      " |      \n",
      " |      **A simple tutorial can be found **[here](\n",
      " |                                  http://bit.ly/keras_flow_from_dataframe).\n",
      " |      \n",
      " |      Args:\n",
      " |          dataframe: Pandas dataframe containing the filepaths relative to\n",
      " |            `directory` (or absolute paths if `directory` is None) of the images\n",
      " |            in a string column. It should include other column/s\n",
      " |              depending on the `class_mode`:\n",
      " |              - if `class_mode` is `\"categorical\"` (default value) it must include\n",
      " |                the `y_col` column with the class/es of each image. Values in\n",
      " |                column can be string/list/tuple if a single class or list/tuple if\n",
      " |                multiple classes.\n",
      " |              - if `class_mode` is `\"binary\"` or `\"sparse\"` it must include the\n",
      " |                given `y_col` column with class values as strings.\n",
      " |              - if `class_mode` is `\"raw\"` or `\"multi_output\"` it should contain\n",
      " |                the columns specified in `y_col`.\n",
      " |              - if `class_mode` is `\"input\"` or `None` no extra column is needed.\n",
      " |          directory: string, path to the directory to read images from. If `None`,\n",
      " |            data in `x_col` column should be absolute paths.\n",
      " |          x_col: string, column in `dataframe` that contains the filenames (or\n",
      " |            absolute paths if `directory` is `None`).\n",
      " |          y_col: string or list, column/s in `dataframe` that has the target data.\n",
      " |          weight_col: string, column in `dataframe` that contains the sample\n",
      " |              weights. Default: `None`.\n",
      " |          target_size: tuple of integers `(height, width)`, default: `(256, 256)`.\n",
      " |            The dimensions to which all images found will be resized.\n",
      " |          color_mode: one of \"grayscale\", \"rgb\", \"rgba\". Default: \"rgb\". Whether\n",
      " |            the images will be converted to have 1 or 3 color channels.\n",
      " |          classes: optional list of classes (e.g. `['dogs', 'cats']`). Default is\n",
      " |            None. If not provided, the list of classes will be automatically\n",
      " |            inferred from the `y_col`, which will map to the label indices, will\n",
      " |            be alphanumeric). The dictionary containing the mapping from class\n",
      " |            names to class indices can be obtained via the attribute\n",
      " |            `class_indices`.\n",
      " |          class_mode: one of \"binary\", \"categorical\", \"input\", \"multi_output\",\n",
      " |              \"raw\", sparse\" or None. Default: \"categorical\".\n",
      " |              Mode for yielding the targets:\n",
      " |              - `\"binary\"`: 1D numpy array of binary labels,\n",
      " |              - `\"categorical\"`: 2D numpy array of one-hot encoded labels.\n",
      " |                Supports multi-label output.\n",
      " |              - `\"input\"`: images identical to input images (mainly used to work\n",
      " |                with autoencoders),\n",
      " |              - `\"multi_output\"`: list with the values of the different columns,\n",
      " |              - `\"raw\"`: numpy array of values in `y_col` column(s),\n",
      " |              - `\"sparse\"`: 1D numpy array of integer labels,\n",
      " |              - `None`, no targets are returned (the generator will only yield\n",
      " |                batches of image data, which is useful to use in\n",
      " |                `model.predict()`).\n",
      " |          batch_size: size of the batches of data (default: 32).\n",
      " |          shuffle: whether to shuffle the data (default: True)\n",
      " |          seed: optional random seed for shuffling and transformations.\n",
      " |          save_to_dir: None or str (default: None). This allows you to optionally\n",
      " |            specify a directory to which to save the augmented pictures being\n",
      " |            generated (useful for visualizing what you are doing).\n",
      " |          save_prefix: str. Prefix to use for filenames of saved pictures (only\n",
      " |            relevant if `save_to_dir` is set).\n",
      " |          save_format: one of \"png\", \"jpeg\", \"bmp\", \"pdf\", \"ppm\", \"gif\",\n",
      " |              \"tif\", \"jpg\"\n",
      " |              (only relevant if `save_to_dir` is set). Default: \"png\".\n",
      " |          subset: Subset of data (`\"training\"` or `\"validation\"`) if\n",
      " |            `validation_split` is set in `ImageDataGenerator`.\n",
      " |          interpolation: Interpolation method used to resample the image if the\n",
      " |            target size is different from that of the loaded image. Supported\n",
      " |            methods are `\"nearest\"`, `\"bilinear\"`, and `\"bicubic\"`. If PIL version\n",
      " |            1.1.3 or newer is installed, `\"lanczos\"` is also supported. If PIL\n",
      " |            version 3.4.0 or newer is installed, `\"box\"` and `\"hamming\"` are also\n",
      " |            supported. By default, `\"nearest\"` is used.\n",
      " |          validate_filenames: Boolean, whether to validate image filenames in\n",
      " |            `x_col`. If `True`, invalid images will be ignored. Disabling this\n",
      " |            option can lead to speed-up in the execution of this function.\n",
      " |            Defaults to `True`.\n",
      " |          **kwargs: legacy arguments for raising deprecation warnings.\n",
      " |      \n",
      " |      Returns:\n",
      " |          A `DataFrameIterator` yielding tuples of `(x, y)`\n",
      " |          where `x` is a numpy array containing a batch\n",
      " |          of images with shape `(batch_size, *target_size, channels)`\n",
      " |          and `y` is a numpy array of corresponding labels.\n",
      " |  \n",
      " |  flow_from_directory(self, directory, target_size=(256, 256), color_mode='rgb', classes=None, class_mode='categorical', batch_size=32, shuffle=True, seed=None, save_to_dir=None, save_prefix='', save_format='png', follow_links=False, subset=None, interpolation='nearest')\n",
      " |      Takes the path to a directory & generates batches of augmented data.\n",
      " |      \n",
      " |      Args:\n",
      " |          directory: string, path to the target directory. It should contain one\n",
      " |            subdirectory per class. Any PNG, JPG, BMP, PPM or TIF images inside\n",
      " |            each of the subdirectories directory tree will be included in the\n",
      " |            generator. See [this script](\n",
      " |              https://gist.github.com/fchollet/0830affa1f7f19fd47b06d4cf89ed44d)\n",
      " |                for more details.\n",
      " |          target_size: Tuple of integers `(height, width)`, defaults to `(256,\n",
      " |            256)`. The dimensions to which all images found will be resized.\n",
      " |          color_mode: One of \"grayscale\", \"rgb\", \"rgba\". Default: \"rgb\". Whether\n",
      " |            the images will be converted to have 1, 3, or 4 channels.\n",
      " |          classes: Optional list of class subdirectories\n",
      " |              (e.g. `['dogs', 'cats']`). Default: None. If not provided, the list\n",
      " |                of classes will be automatically inferred from the subdirectory\n",
      " |                names/structure under `directory`, where each subdirectory will be\n",
      " |                treated as a different class (and the order of the classes, which\n",
      " |                will map to the label indices, will be alphanumeric). The\n",
      " |                dictionary containing the mapping from class names to class\n",
      " |                indices can be obtained via the attribute `class_indices`.\n",
      " |          class_mode: One of \"categorical\", \"binary\", \"sparse\",\n",
      " |              \"input\", or None. Default: \"categorical\".\n",
      " |              Determines the type of label arrays that are returned:\n",
      " |              - \"categorical\" will be 2D one-hot encoded labels,\n",
      " |              - \"binary\" will be 1D binary labels,\n",
      " |              - \"sparse\" will be 1D integer labels,\n",
      " |              - \"input\"  will be images identical to input images (mainly used to\n",
      " |                work with autoencoders).\n",
      " |              - If None, no labels are returned (the generator will only yield\n",
      " |                batches of image data, which is useful to use with\n",
      " |                `model.predict()`).\n",
      " |              Please note that in case of class_mode None, the data still needs to\n",
      " |              reside in a subdirectory of `directory` for it to work correctly.\n",
      " |          batch_size: Size of the batches of data (default: 32).\n",
      " |          shuffle: Whether to shuffle the data (default: True) If set to False,\n",
      " |            sorts the data in alphanumeric order.\n",
      " |          seed: Optional random seed for shuffling and transformations.\n",
      " |          save_to_dir: None or str (default: None). This allows you to optionally\n",
      " |            specify a directory to which to save the augmented pictures being\n",
      " |            generated (useful for visualizing what you are doing).\n",
      " |          save_prefix: Str. Prefix to use for filenames of saved pictures (only\n",
      " |            relevant if `save_to_dir` is set).\n",
      " |          save_format: one of \"png\", \"jpeg\", \"bmp\", \"pdf\", \"ppm\", \"gif\",\n",
      " |              \"tif\", \"jpg\"\n",
      " |              (only relevant if `save_to_dir` is set). Default: \"png\".\n",
      " |          follow_links: Whether to follow symlinks inside\n",
      " |              class subdirectories (default: False).\n",
      " |          subset: Subset of data (`\"training\"` or `\"validation\"`) if\n",
      " |            `validation_split` is set in `ImageDataGenerator`.\n",
      " |          interpolation: Interpolation method used to resample the image if the\n",
      " |            target size is different from that of the loaded image. Supported\n",
      " |            methods are `\"nearest\"`, `\"bilinear\"`, and `\"bicubic\"`. If PIL version\n",
      " |            1.1.3 or newer is installed, `\"lanczos\"` is also supported. If PIL\n",
      " |            version 3.4.0 or newer is installed, `\"box\"` and `\"hamming\"` are also\n",
      " |            supported. By default, `\"nearest\"` is used.\n",
      " |      \n",
      " |      Returns:\n",
      " |          A `DirectoryIterator` yielding tuples of `(x, y)`\n",
      " |              where `x` is a numpy array containing a batch\n",
      " |              of images with shape `(batch_size, *target_size, channels)`\n",
      " |              and `y` is a numpy array of corresponding labels.\n",
      " |  \n",
      " |  ----------------------------------------------------------------------\n",
      " |  Methods inherited from keras_preprocessing.image.image_data_generator.ImageDataGenerator:\n",
      " |  \n",
      " |  apply_transform(self, x, transform_parameters)\n",
      " |      Applies a transformation to an image according to given parameters.\n",
      " |      \n",
      " |      # Arguments\n",
      " |          x: 3D tensor, single image.\n",
      " |          transform_parameters: Dictionary with string - parameter pairs\n",
      " |              describing the transformation.\n",
      " |              Currently, the following parameters\n",
      " |              from the dictionary are used:\n",
      " |              - `'theta'`: Float. Rotation angle in degrees.\n",
      " |              - `'tx'`: Float. Shift in the x direction.\n",
      " |              - `'ty'`: Float. Shift in the y direction.\n",
      " |              - `'shear'`: Float. Shear angle in degrees.\n",
      " |              - `'zx'`: Float. Zoom in the x direction.\n",
      " |              - `'zy'`: Float. Zoom in the y direction.\n",
      " |              - `'flip_horizontal'`: Boolean. Horizontal flip.\n",
      " |              - `'flip_vertical'`: Boolean. Vertical flip.\n",
      " |              - `'channel_shift_intensity'`: Float. Channel shift intensity.\n",
      " |              - `'brightness'`: Float. Brightness shift intensity.\n",
      " |      \n",
      " |      # Returns\n",
      " |          A transformed version of the input (same shape).\n",
      " |  \n",
      " |  fit(self, x, augment=False, rounds=1, seed=None)\n",
      " |      Fits the data generator to some sample data.\n",
      " |      \n",
      " |      This computes the internal data stats related to the\n",
      " |      data-dependent transformations, based on an array of sample data.\n",
      " |      \n",
      " |      Only required if `featurewise_center` or\n",
      " |      `featurewise_std_normalization` or `zca_whitening` are set to True.\n",
      " |      \n",
      " |      When `rescale` is set to a value, rescaling is applied to\n",
      " |      sample data before computing the internal data stats.\n",
      " |      \n",
      " |      # Arguments\n",
      " |          x: Sample data. Should have rank 4.\n",
      " |           In case of grayscale data,\n",
      " |           the channels axis should have value 1, in case\n",
      " |           of RGB data, it should have value 3, and in case\n",
      " |           of RGBA data, it should have value 4.\n",
      " |          augment: Boolean (default: False).\n",
      " |              Whether to fit on randomly augmented samples.\n",
      " |          rounds: Int (default: 1).\n",
      " |              If using data augmentation (`augment=True`),\n",
      " |              this is how many augmentation passes over the data to use.\n",
      " |          seed: Int (default: None). Random seed.\n",
      " |  \n",
      " |  get_random_transform(self, img_shape, seed=None)\n",
      " |      Generates random parameters for a transformation.\n",
      " |      \n",
      " |      # Arguments\n",
      " |          seed: Random seed.\n",
      " |          img_shape: Tuple of integers.\n",
      " |              Shape of the image that is transformed.\n",
      " |      \n",
      " |      # Returns\n",
      " |          A dictionary containing randomly chosen parameters describing the\n",
      " |          transformation.\n",
      " |  \n",
      " |  random_transform(self, x, seed=None)\n",
      " |      Applies a random transformation to an image.\n",
      " |      \n",
      " |      # Arguments\n",
      " |          x: 3D tensor, single image.\n",
      " |          seed: Random seed.\n",
      " |      \n",
      " |      # Returns\n",
      " |          A randomly transformed version of the input (same shape).\n",
      " |  \n",
      " |  standardize(self, x)\n",
      " |      Applies the normalization configuration in-place to a batch of inputs.\n",
      " |      \n",
      " |      `x` is changed in-place since the function is mainly used internally\n",
      " |      to standardize images and feed them to your network. If a copy of `x`\n",
      " |      would be created instead it would have a significant performance cost.\n",
      " |      If you want to apply this method without changing the input in-place\n",
      " |      you can call the method creating a copy before:\n",
      " |      \n",
      " |      standardize(np.copy(x))\n",
      " |      \n",
      " |      # Arguments\n",
      " |          x: Batch of inputs to be normalized.\n",
      " |      \n",
      " |      # Returns\n",
      " |          The inputs, normalized.\n",
      " |  \n",
      " |  ----------------------------------------------------------------------\n",
      " |  Data descriptors inherited from keras_preprocessing.image.image_data_generator.ImageDataGenerator:\n",
      " |  \n",
      " |  __dict__\n",
      " |      dictionary for instance variables (if defined)\n",
      " |  \n",
      " |  __weakref__\n",
      " |      list of weak references to the object (if defined)\n",
      "\n"
     ]
    }
   ],
   "source": [
    "from tensorflow.keras.preprocessing.image import ImageDataGenerator\n",
    "\n",
    "help(ImageDataGenerator)"
   ]
  },
  {
   "cell_type": "markdown",
   "metadata": {},
   "source": [
    "The class has three methods to generated batches of augmented data:\n",
    "\n",
    "- `.flow()`: Takes data & label arrays\n",
    "- `.flow_from_dataframe()`: Takes the DataFrame and the path to a directory with the mapped images in the DataFrame\n",
    "- `.flow_from_directory()`: Takes the path to a directory\n",
    "\n",
    "We'll focus on the `.flow_from_directory()`:"
   ]
  },
  {
   "cell_type": "code",
   "execution_count": null,
   "metadata": {
    "scrolled": true
   },
   "outputs": [],
   "source": [
    "help(ImageDataGenerator.flow_from_directory)"
   ]
  },
  {
   "cell_type": "markdown",
   "metadata": {},
   "source": [
    "The method expects a certain structure for it to work, read the documentation on `directory` and `classes` in the cell above.\n",
    "\n",
    "<img src=\"../images/keras_advanced/keras_flow_from_directory.jpeg\" alt=\"flow_from\" style=\"width: 500px;\"/>\n",
    "\n",
    "[Source](https://medium.com/@vijayabhaskar96/tutorial-image-classification-with-keras-flow-from-directory-and-generators-95f75ebe5720)"
   ]
  },
  {
   "cell_type": "markdown",
   "metadata": {},
   "source": [
    "We shall create three ImageDataGenerators, one each for the train, valid and test sets."
   ]
  },
  {
   "cell_type": "code",
   "execution_count": 10,
   "metadata": {},
   "outputs": [],
   "source": [
    "train_data_generator = ImageDataGenerator(\n",
    "    rescale=1.0 / 255, shear_range=0.2, zoom_range=0.2, horizontal_flip=True\n",
    ")\n",
    "test_data_generator = ImageDataGenerator(rescale=1.0 / 255)\n",
    "valid_data_generator = ImageDataGenerator(rescale=1.0 / 255)"
   ]
  },
  {
   "cell_type": "markdown",
   "metadata": {},
   "source": [
    "### <mark> Exercise:\n",
    "    \n",
    "Use `.flow_from_directory()` to create three iterators that allow data to flow from the appropriate generator. \n",
    "    \n",
    "When creating the iterators:\n",
    "> - Build a path for argument `directory` from `temp_dir`.    \n",
    "> - Infer the `class_mode`, `target_size` and `color_mode` from the model.\n",
    "> - Set the `batch_size` to 32 and choose a shuffle and seed.\n",
    "> - With the already defined code, fit the Fashion MNIST model using these iterators, your loss should go lower than 1.2."
   ]
  },
  {
   "cell_type": "code",
   "execution_count": 11,
   "metadata": {},
   "outputs": [
    {
     "name": "stdout",
     "output_type": "stream",
     "text": [
      "Found 10000 images belonging to 10 classes.\n"
     ]
    }
   ],
   "source": [
    "train_iterator = train_data_generator.flow_from_directory(\n",
    "    directory=os.path.join(temp_dir, 'train'),\n",
    "    target_size=(28, 28), \n",
    "    color_mode='grayscale',\n",
    "    batch_size=8,\n",
    "    class_mode=\"categorical\",\n",
    "    shuffle=True,\n",
    "    seed=42\n",
    ")"
   ]
  },
  {
   "cell_type": "code",
   "execution_count": null,
   "metadata": {},
   "outputs": [],
   "source": [
    "valid_iterator = ..."
   ]
  },
  {
   "cell_type": "code",
   "execution_count": null,
   "metadata": {},
   "outputs": [],
   "source": [
    "test_iterator = ..."
   ]
  },
  {
   "cell_type": "code",
   "execution_count": 13,
   "metadata": {},
   "outputs": [
    {
     "name": "stdout",
     "output_type": "stream",
     "text": [
      "Found 10000 images belonging to 10 classes.\n",
      "Found 1000 images belonging to 10 classes.\n",
      "Found 1000 images belonging to 10 classes.\n"
     ]
    }
   ],
   "source": [
    "# %load ../answers/image_data_generator.py\n",
    "train_iterator = train_data_generator.flow_from_directory(\n",
    "    directory=os.path.join(temp_dir, \"train\"),\n",
    "    target_size=(28, 28),\n",
    "    color_mode=\"grayscale\",\n",
    "    batch_size=8,\n",
    "    class_mode=\"categorical\",\n",
    "    shuffle=True,\n",
    "    seed=42,\n",
    ")\n",
    "valid_iterator = valid_data_generator.flow_from_directory(\n",
    "    directory=os.path.join(temp_dir, \"valid\"),\n",
    "    target_size=(28, 28),\n",
    "    color_mode=\"grayscale\",\n",
    "    batch_size=8,\n",
    "    class_mode=\"categorical\",\n",
    "    shuffle=True,\n",
    "    seed=42,\n",
    ")\n",
    "test_iterator = test_data_generator.flow_from_directory(\n",
    "    directory=os.path.join(temp_dir, \"test\"),\n",
    "    target_size=(28, 28),\n",
    "    color_mode=\"grayscale\",\n",
    "    batch_size=1000,\n",
    "    class_mode=\"categorical\",\n",
    "    shuffle=False,\n",
    "    seed=42,\n",
    "    \n",
    ")\n"
   ]
  },
  {
   "cell_type": "code",
   "execution_count": 14,
   "metadata": {},
   "outputs": [
    {
     "name": "stdout",
     "output_type": "stream",
     "text": [
      "1250/1250 [==============================] - 12s 9ms/step - loss: 0.9583 - accuracy: 0.6426 - val_loss: 0.5984 - val_accuracy: 0.7840\n"
     ]
    },
    {
     "data": {
      "text/plain": [
       "<keras.callbacks.History at 0x7ff25051b100>"
      ]
     },
     "execution_count": 14,
     "metadata": {},
     "output_type": "execute_result"
    }
   ],
   "source": [
    "fashion_model = make_fashion_mnist_model()\n",
    "fashion_model.compile(optimizer=\"adam\", loss=\"categorical_crossentropy\", metrics=['accuracy'])\n",
    "\n",
    "step_size_train = train_iterator.n // train_iterator.batch_size\n",
    "step_size_valid = valid_iterator.n // valid_iterator.batch_size\n",
    "\n",
    "fashion_model.fit(train_iterator,\n",
    "    steps_per_epoch=step_size_train,\n",
    "    validation_data=valid_iterator,\n",
    "    validation_steps=step_size_valid,\n",
    "    epochs=1\n",
    ")"
   ]
  },
  {
   "cell_type": "code",
   "execution_count": 18,
   "metadata": {
    "scrolled": true
   },
   "outputs": [
    {
     "name": "stdout",
     "output_type": "stream",
     "text": [
      "1000/1000 [==============================] - 1s 1ms/step - loss: 0.6180 - accuracy: 0.7810\n",
      "[0.6180091500282288, 0.781000018119812]\n"
     ]
    }
   ],
   "source": [
    "print(fashion_model.evaluate(test_iterator, steps=1000))"
   ]
  },
  {
   "cell_type": "markdown",
   "metadata": {},
   "source": [
    "Another example of a Keras generator is the [TimeseriesGenerator](https://keras.io/preprocessing/sequence/#timeseriesgenerator) that generates batches of temporal data from a sequence of data points.\n",
    "This could also been seen as generating a dataset that's possibly to big for memory: generating all possible batches from a sequence can easily be bigger that your RAM."
   ]
  },
  {
   "cell_type": "markdown",
   "metadata": {},
   "source": [
    "### <mark>Question\n",
    "\n",
    "Why are we setting `shear_range`, `zoom_range` and `horizontal_flip` on the `train_data_generator` and not on the `test_data_generator` and `valid_data_generator`?"
   ]
  },
  {
   "cell_type": "markdown",
   "metadata": {},
   "source": [
    "### Conclusion\n",
    "\n",
    "We've seen how we can leverage datasets that are too big to fit in memory.\n",
    "Keras has its own generators but it's also pretty easy to build your own.\n",
    "Many file formats & interfaces also allow you to access files without loading them, like the option `mmap_mode` for [`numpy.load`](https://docs.scipy.org/doc/numpy-1.15.0/reference/generated/numpy.load.html).\n",
    "If you would like to stay closer to TensorFlow, check out the guide on [Datasets](\n",
    "https://www.tensorflow.org/guide/datasets)."
   ]
  },
  {
   "cell_type": "markdown",
   "metadata": {},
   "source": [
    "---\n",
    "## 3. Callbacks\n",
    "\n",
    "Callbacks allow you to perform tasks during certain moments of training.\n",
    "For instance, you can compute performance measures like training time, or look at the states of the model to detect when it breaks down.\n",
    "\n",
    "You can pass multiple callbacks in a `list` to the `.fit()` method or your model and they'll be called at the rights times during training.\n",
    "There are six moments when a callback can be executed: at starts and/or stops of training, epochs and/or batches.\n",
    "\n",
    "\n",
    "### Built-in callbacks\n",
    "\n",
    "Let's look at two commonly used callbacks in `tensorflow.keras.callbacks`: `EarlyStopping` and `ModelCheckpoint`.\n",
    "`EarlyStopping` stops training when your model performance doesn't get better and can save you a lot of waiting time.\n",
    "`ModelCheckpoint` saves the model after every epoch to make sure your progress doesn't get lost if your training process gets killed.\n",
    "\n",
    "> #### Exercise: Built-in callbacks\n",
    ">\n",
    "> - Use the fitting procedure from the previous exercise and add the `EarlyStopping` and `ModelCheckpoint` callbacks.\n",
    "> - For `ModelCheckpoint` save only the best model and save to the variable `model_path` given below."
   ]
  },
  {
   "cell_type": "code",
   "execution_count": 20,
   "metadata": {},
   "outputs": [],
   "source": [
    "# This cell creates an output folder where your model parameters will be saved. \n",
    "import shutil \n",
    "\n",
    "model_dir = os.path.join(\"..\", \"output\", \"fashion_mnist\")\n",
    "model_path = os.path.join(model_dir, \"model.h5\")\n",
    "\n",
    "if os.path.exists(model_dir):\n",
    "    shutil.rmtree(model_dir)\n",
    "os.makedirs(model_dir)"
   ]
  },
  {
   "cell_type": "code",
   "execution_count": null,
   "metadata": {},
   "outputs": [],
   "source": [
    "from tensorflow.keras.callbacks import EarlyStopping, ModelCheckpoint\n",
    "\n",
    "# Load & compile your model. \n",
    "... \n",
    "\n",
    "# Define your callbacks. \n",
    "...\n",
    "\n",
    "# Fit your model, with the callbacks. \n",
    "...\n",
    "\n",
    "# Evaluate your model. \n",
    "..."
   ]
  },
  {
   "cell_type": "code",
   "execution_count": 22,
   "metadata": {},
   "outputs": [
    {
     "name": "stdout",
     "output_type": "stream",
     "text": [
      "Epoch 1/10\n",
      "10/10 [==============================] - 1s 76ms/step - loss: 2.2882 - val_loss: 2.2405\n",
      "Epoch 2/10\n",
      "10/10 [==============================] - 1s 55ms/step - loss: 2.1785 - val_loss: 2.1551\n"
     ]
    },
    {
     "data": {
      "text/plain": [
       "<keras.callbacks.History at 0x7ff2424236a0>"
      ]
     },
     "execution_count": 22,
     "metadata": {},
     "output_type": "execute_result"
    }
   ],
   "source": [
    "# %load ../answers/callbacks.py\n",
    "from tensorflow.keras.callbacks import EarlyStopping, ModelCheckpoint\n",
    "\n",
    "callbacks = [EarlyStopping(), ModelCheckpoint(model_path, save_best_only=True)]\n",
    "\n",
    "\n",
    "fashion_model = make_fashion_mnist_model()\n",
    "fashion_model.compile(optimizer=\"adam\", loss=\"categorical_crossentropy\")\n",
    "fashion_model.fit(\n",
    "    train_iterator,\n",
    "    validation_data=valid_iterator,\n",
    "    steps_per_epoch=10,\n",
    "    epochs=10,\n",
    "    callbacks=callbacks,\n",
    ")\n"
   ]
  },
  {
   "cell_type": "markdown",
   "metadata": {},
   "source": [
    "### TensorBoard\n",
    "\n",
    "TensorBoard helps you visualize what's happening during training.\n",
    "For instance, it can visualize losses during training, weights of your layers, embedding and the computational graph.\n",
    "TensorBoard makes it easier to understand, debug, and optimize your model.\n",
    "\n",
    "<img src=\"../images/keras_advanced/tensorboard.png\" alt=\"flow_from\" style=\"width: 600px;\"/>\n",
    "\n",
    "For Keras it's just another built-in callback.\n",
    "Using the callback writes files to a directory that can be visualized by a separate process."
   ]
  },
  {
   "cell_type": "code",
   "execution_count": null,
   "metadata": {
    "scrolled": true
   },
   "outputs": [],
   "source": [
    "help(tensorflow.keras.callbacks.TensorBoard)"
   ]
  },
  {
   "cell_type": "markdown",
   "metadata": {},
   "source": [
    "### <mark> Exercise: TensorBoard\n",
    "\n",
    "Add the TensorBoard call back to the training of the Fashion MNIST model, set:\n",
    "\n",
    "> - `log_dir` to the variable `run_dir` defined below\n",
    "> - Write the graph and gradients.\n",
    "> - Use the data set `(x_train, y_train), (x_test, y_test)` as defined below and train for 10 runs.\n",
    "\n",
    "Start training, open a terminal, make sure you're in the root folder of this project and run:\n",
    "> \n",
    "> ```\n",
    "> $ tensorboard --logdir=output/fashion_mnist\n",
    "> ```\n",
    ">\n",
    "Start multiple runs but make sure to execute the cell with `run_dir`.\n",
    "> - What happens with the losses of multiple runs?\n",
    "> - With the graphs?"
   ]
  },
  {
   "cell_type": "code",
   "execution_count": 24,
   "metadata": {},
   "outputs": [],
   "source": [
    "(\n",
    "    (x_train, y_train),\n",
    "    (x_test, y_test),\n",
    ") = tensorflow.keras.datasets.fashion_mnist.load_data()"
   ]
  },
  {
   "cell_type": "code",
   "execution_count": 25,
   "metadata": {},
   "outputs": [],
   "source": [
    "x_train = x_train[:10000, :, :, np.newaxis]\n",
    "x_test = x_test[:1000, :, :, np.newaxis]\n",
    "y_train = tensorflow.keras.utils.to_categorical(y_train[:10000])\n",
    "y_test = tensorflow.keras.utils.to_categorical(y_test[:1000])"
   ]
  },
  {
   "cell_type": "code",
   "execution_count": 26,
   "metadata": {},
   "outputs": [],
   "source": [
    "run_dir = os.path.join(model_dir, f\"run_{time.time()}\")"
   ]
  },
  {
   "cell_type": "code",
   "execution_count": 27,
   "metadata": {},
   "outputs": [],
   "source": [
    "from tensorflow.keras.callbacks import TensorBoard"
   ]
  },
  {
   "cell_type": "code",
   "execution_count": 29,
   "metadata": {},
   "outputs": [
    {
     "name": "stdout",
     "output_type": "stream",
     "text": [
      "Epoch 1/10\n",
      "313/313 [==============================] - 7s 22ms/step - loss: 3.1886 - val_loss: 0.7726\n",
      "Epoch 2/10\n",
      "313/313 [==============================] - 7s 23ms/step - loss: 0.8302 - val_loss: 0.6097\n",
      "Epoch 3/10\n",
      "313/313 [==============================] - 8s 27ms/step - loss: 0.6938 - val_loss: 0.5277\n",
      "Epoch 4/10\n",
      "313/313 [==============================] - 9s 28ms/step - loss: 0.6441 - val_loss: 0.5026\n",
      "Epoch 5/10\n",
      "313/313 [==============================] - 8s 26ms/step - loss: 0.5847 - val_loss: 0.4981\n",
      "Epoch 6/10\n",
      "313/313 [==============================] - 8s 26ms/step - loss: 0.5576 - val_loss: 0.4541\n",
      "Epoch 7/10\n",
      "313/313 [==============================] - 9s 28ms/step - loss: 0.5311 - val_loss: 0.4344\n",
      "Epoch 8/10\n",
      "313/313 [==============================] - 9s 30ms/step - loss: 0.5071 - val_loss: 0.4289\n",
      "Epoch 9/10\n",
      "313/313 [==============================] - 9s 28ms/step - loss: 0.4808 - val_loss: 0.4279\n",
      "Epoch 10/10\n",
      "313/313 [==============================] - 9s 29ms/step - loss: 0.4709 - val_loss: 0.4149\n"
     ]
    },
    {
     "data": {
      "text/plain": [
       "<keras.callbacks.History at 0x7ff21259b580>"
      ]
     },
     "execution_count": 29,
     "metadata": {},
     "output_type": "execute_result"
    }
   ],
   "source": [
    "# %load ../answers/tensorboard.py\n",
    "from tensorflow.keras.callbacks import TensorBoard\n",
    "\n",
    "callbacks = [TensorBoard(run_dir, write_graph=True)]\n",
    "\n",
    "\n",
    "fashion_model = make_fashion_mnist_model()\n",
    "fashion_model.compile(optimizer=\"adam\", loss=\"categorical_crossentropy\")\n",
    "fashion_model.fit(\n",
    "    x_train, y_train, epochs=10, validation_data=(x_test, y_test), callbacks=callbacks\n",
    ")\n"
   ]
  },
  {
   "cell_type": "code",
   "execution_count": 30,
   "metadata": {},
   "outputs": [
    {
     "name": "stdout",
     "output_type": "stream",
     "text": [
      "Epoch 1/10\n",
      "313/313 [==============================] - 10s 30ms/step - loss: 0.4941 - val_loss: 0.4225\n",
      "Epoch 2/10\n",
      "313/313 [==============================] - 9s 29ms/step - loss: 0.4705 - val_loss: 0.4410\n",
      "Epoch 3/10\n",
      "313/313 [==============================] - 9s 28ms/step - loss: 0.4390 - val_loss: 0.3820\n",
      "Epoch 4/10\n",
      "313/313 [==============================] - 9s 28ms/step - loss: 0.4203 - val_loss: 0.3941\n",
      "Epoch 5/10\n",
      "313/313 [==============================] - 9s 28ms/step - loss: 0.4160 - val_loss: 0.4030\n",
      "Epoch 6/10\n",
      "313/313 [==============================] - 9s 28ms/step - loss: 0.3979 - val_loss: 0.3969\n",
      "Epoch 7/10\n",
      "313/313 [==============================] - 8s 26ms/step - loss: 0.3836 - val_loss: 0.3994\n",
      "Epoch 8/10\n",
      "313/313 [==============================] - 9s 27ms/step - loss: 0.3904 - val_loss: 0.3881\n",
      "Epoch 9/10\n",
      "313/313 [==============================] - 9s 30ms/step - loss: 0.3724 - val_loss: 0.3849\n",
      "Epoch 10/10\n",
      "313/313 [==============================] - 10s 31ms/step - loss: 0.3626 - val_loss: 0.3735\n"
     ]
    },
    {
     "data": {
      "text/plain": [
       "<keras.callbacks.History at 0x7ff1702be730>"
      ]
     },
     "execution_count": 30,
     "metadata": {},
     "output_type": "execute_result"
    }
   ],
   "source": [
    "model_dir = os.path.join(\"..\", \"output\", \"fashion_mnist\")\n",
    "fashion_model.compile(optimizer=\"adam\", loss=\"categorical_crossentropy\")\n",
    "fashion_model.fit(\n",
    "    x_train, y_train, epochs=10, validation_data=(x_test, y_test), callbacks=callbacks\n",
    ")\n"
   ]
  },
  {
   "cell_type": "markdown",
   "metadata": {},
   "source": [
    "### Custom callbacks\n",
    "\n",
    "\n",
    "If the available callbacks don't fit your use case, it's easy to define your own.\n",
    "`LambdaCallback` can be used for simple functionality, but you can also subclass the `Callback` class.\n",
    "\n",
    "As mentioned earlier, there are six moments when a callback can be executed: at starts and/or stops of training, epochs and/or batches.\n",
    "These correspond with the arguments or methods:\n",
    "\n",
    "- `on_epoch_begin`\n",
    "- `on_epoch_end`\n",
    "- `on_batch_begin`\n",
    "- `on_batch_end`\n",
    "- `on_train_begin`\n",
    "- `on_train_end`\n",
    "\n",
    "\n",
    "If we'd want to emojify our training logs a bit, we could abuse the `LambdaCallback`:"
   ]
  },
  {
   "cell_type": "code",
   "execution_count": null,
   "metadata": {},
   "outputs": [],
   "source": [
    "from tensorflow.keras.callbacks import LambdaCallback\n",
    "\n",
    "\n",
    "def on_train_begin(_):\n",
    "    print(\"🔥\" * 30)\n",
    "\n",
    "\n",
    "def on_train_end(_):\n",
    "    print(\"🤖\" * 30)\n",
    "\n",
    "\n",
    "emoji_callback = LambdaCallback(\n",
    "    on_train_begin=on_train_begin, on_train_end=on_train_end\n",
    ")\n",
    "\n",
    "fashion_model = make_fashion_mnist_model()\n",
    "fashion_model.compile(optimizer=\"adam\", loss=\"categorical_crossentropy\")\n",
    "fashion_model.fit(x_train, y_train, epochs=2, callbacks=[emoji_callback])"
   ]
  },
  {
   "cell_type": "markdown",
   "metadata": {},
   "source": [
    "More complex logic should be captured in a subclass of the `Callback` class.\n",
    "It has six methods to overwrite and by default we get access to a few attributes: the model, trainings parameters and validation data.\n",
    "You can inspect the contents of the `tensorflow.keras.callbacks.Callback` class by running the cell below."
   ]
  },
  {
   "cell_type": "code",
   "execution_count": null,
   "metadata": {},
   "outputs": [],
   "source": [
    "??tensorflow.keras.callbacks.Callback"
   ]
  },
  {
   "cell_type": "markdown",
   "metadata": {},
   "source": [
    "### <mark>Exercise: Custom callback\n",
    "> - Write a callback that prints the standard deviation of the weights in the last layer at the end of each epoch.\n",
    "> - Train a new model again and observe how the loss changes."
   ]
  },
  {
   "cell_type": "code",
   "execution_count": null,
   "metadata": {
    "scrolled": true
   },
   "outputs": [],
   "source": [
    "# %load ../answers/custom_callback.py\n"
   ]
  },
  {
   "cell_type": "markdown",
   "metadata": {},
   "source": [
    "---\n",
    "## Summary\n",
    "\n",
    "This section showed how callbacks can be used to save & monitor your models.\n",
    "If you need a visualization tool during training, TensorBoard has easy integration with Keras.\n",
    "For custom functionality you can write your own callbacks."
   ]
  },
  {
   "cell_type": "code",
   "execution_count": null,
   "metadata": {},
   "outputs": [],
   "source": [
    "shutil.rmtree(\"../output\")"
   ]
  }
 ],
 "metadata": {
  "anaconda-cloud": {},
  "kernelspec": {
   "display_name": "Python 3 (ipykernel)",
   "language": "python",
   "name": "python3"
  },
  "language_info": {
   "codemirror_mode": {
    "name": "ipython",
    "version": 3
   },
   "file_extension": ".py",
   "mimetype": "text/x-python",
   "name": "python",
   "nbconvert_exporter": "python",
   "pygments_lexer": "ipython3",
   "version": "3.8.12"
  }
 },
 "nbformat": 4,
 "nbformat_minor": 2
}
