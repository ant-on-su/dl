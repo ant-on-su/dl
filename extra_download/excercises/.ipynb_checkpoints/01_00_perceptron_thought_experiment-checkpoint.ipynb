{
 "cells": [
  {
   "cell_type": "code",
   "execution_count": 1,
   "id": "prompt-undergraduate",
   "metadata": {},
   "outputs": [
    {
     "data": {
      "text/html": [
       "<link rel=\"stylesheet\" type=\"text/css\" href=\"../css/custom.css\">\n"
      ],
      "text/plain": [
       "<IPython.core.display.HTML object>"
      ]
     },
     "metadata": {},
     "output_type": "display_data"
    }
   ],
   "source": [
    "%%HTML\n",
    "<link rel=\"stylesheet\" type=\"text/css\" href=\"../css/custom.css\">"
   ]
  },
  {
   "cell_type": "markdown",
   "id": "victorian-lawsuit",
   "metadata": {},
   "source": [
    "# Perceptron thought experiment\n",
    "\n",
    "![footer_logo](../images/logo.png)\n",
    "\n",
    "## Goal\n",
    "\n",
    "In this notebook we shall try to imagine perceptrons that can perform logical operations\n",
    "\n",
    "## Program\n",
    "\n",
    "We'll first explain the problem and how we will tackle it\n",
    "\n",
    "- [The logical operations]()\n",
    "- [The perceptron]()\n",
    "- [The weights]()\n",
    "\n",
    "Then you'll try to think of weights to solve the following problems\n",
    "\n",
    "- [Logical operator AND]()\n",
    "- [Logical operator OR]()\n",
    "- [Logical operator XOR]()\n"
   ]
  },
  {
   "cell_type": "markdown",
   "id": "functional-primary",
   "metadata": {},
   "source": [
    "---\n",
    "## The logical operations\n",
    "\n",
    "The logical operations we shall try to perform the following logical operations\n",
    "\n",
    "| p | q | p AND q | p OR q | p XOR q | \n",
    "|---|---|---------|--------|---------|\n",
    "| 0 | 0 |    0    |    0   |    0    |\n",
    "| 0 | 1 |    0    |    1   |     1   |\n",
    "| 1 | 0 |    0    |    1   |    1    |\n",
    "| 1 | 1 |    1    |    1   |    0    |"
   ]
  },
  {
   "cell_type": "markdown",
   "id": "chubby-joint",
   "metadata": {},
   "source": [
    "## The perceptron\n",
    "\n",
    "Below is a diagram of the perceptron we shall be using\n",
    "\n",
    "\n",
    "<img src=\"../images/perceptron_thought_experiment/perceptron.png\" width=\"700\" align=\"center\">"
   ]
  },
  {
   "cell_type": "markdown",
   "id": "fifth-olympus",
   "metadata": {},
   "source": [
    "## Weights\n",
    "\n",
    "Try to think of values for $w_1$ & $w_2$ that will allow us to get the desired logical operation.\n"
   ]
  },
  {
   "cell_type": "code",
   "execution_count": 5,
   "id": "mineral-photographer",
   "metadata": {},
   "outputs": [
    {
     "data": {
      "text/html": [
       "<div>\n",
       "<style scoped>\n",
       "    .dataframe tbody tr th:only-of-type {\n",
       "        vertical-align: middle;\n",
       "    }\n",
       "\n",
       "    .dataframe tbody tr th {\n",
       "        vertical-align: top;\n",
       "    }\n",
       "\n",
       "    .dataframe thead th {\n",
       "        text-align: right;\n",
       "    }\n",
       "</style>\n",
       "<table border=\"1\" class=\"dataframe\">\n",
       "  <thead>\n",
       "    <tr style=\"text-align: right;\">\n",
       "      <th></th>\n",
       "      <th>p</th>\n",
       "      <th>q</th>\n",
       "    </tr>\n",
       "  </thead>\n",
       "  <tbody>\n",
       "    <tr>\n",
       "      <th>0</th>\n",
       "      <td>0</td>\n",
       "      <td>0</td>\n",
       "    </tr>\n",
       "    <tr>\n",
       "      <th>1</th>\n",
       "      <td>0</td>\n",
       "      <td>1</td>\n",
       "    </tr>\n",
       "    <tr>\n",
       "      <th>2</th>\n",
       "      <td>1</td>\n",
       "      <td>0</td>\n",
       "    </tr>\n",
       "    <tr>\n",
       "      <th>3</th>\n",
       "      <td>1</td>\n",
       "      <td>1</td>\n",
       "    </tr>\n",
       "  </tbody>\n",
       "</table>\n",
       "</div>"
      ],
      "text/plain": [
       "   p  q\n",
       "0  0  0\n",
       "1  0  1\n",
       "2  1  0\n",
       "3  1  1"
      ]
     },
     "execution_count": 5,
     "metadata": {},
     "output_type": "execute_result"
    }
   ],
   "source": [
    "import pandas as pd\n",
    "data = {'p':[0,0,1,1], 'q':[0,1,0,1]}\n",
    "df = pd.DataFrame(data)\n",
    "df"
   ]
  },
  {
   "cell_type": "code",
   "execution_count": 17,
   "id": "loose-occasions",
   "metadata": {},
   "outputs": [],
   "source": [
    "def perceptron(df, w1, w2, theta = 0.5):\n",
    "    \"\"\"returns the output of the perceptron using the given weights\"\"\"\n",
    "    \n",
    "    return df.assign(z = w1*df['p'] +w2*df['q'], \n",
    "                     output= ((w1*df['p'] +w2*df['q'])>=theta).astype('int'))"
   ]
  },
  {
   "cell_type": "markdown",
   "id": "demanding-screw",
   "metadata": {},
   "source": [
    "---\n",
    "## Logical operator AND\n",
    "\n",
    "What are some possible values for $w$\n",
    "\n",
    "| p | q | p AND q |\n",
    "|---|---|---------|\n",
    "| 0 | 0 |    0    |\n",
    "| 0 | 1 |    0    |\n",
    "| 1 | 0 |    0    |\n",
    "| 1 | 1 |    1    | "
   ]
  },
  {
   "cell_type": "code",
   "execution_count": 18,
   "id": "presidential-architect",
   "metadata": {},
   "outputs": [],
   "source": [
    "w1 = 0.3\n",
    "w2 = 0.3"
   ]
  },
  {
   "cell_type": "code",
   "execution_count": 19,
   "id": "chicken-outside",
   "metadata": {
    "scrolled": true
   },
   "outputs": [
    {
     "data": {
      "text/html": [
       "<div>\n",
       "<style scoped>\n",
       "    .dataframe tbody tr th:only-of-type {\n",
       "        vertical-align: middle;\n",
       "    }\n",
       "\n",
       "    .dataframe tbody tr th {\n",
       "        vertical-align: top;\n",
       "    }\n",
       "\n",
       "    .dataframe thead th {\n",
       "        text-align: right;\n",
       "    }\n",
       "</style>\n",
       "<table border=\"1\" class=\"dataframe\">\n",
       "  <thead>\n",
       "    <tr style=\"text-align: right;\">\n",
       "      <th></th>\n",
       "      <th>p</th>\n",
       "      <th>q</th>\n",
       "      <th>z</th>\n",
       "      <th>output</th>\n",
       "    </tr>\n",
       "  </thead>\n",
       "  <tbody>\n",
       "    <tr>\n",
       "      <th>0</th>\n",
       "      <td>0</td>\n",
       "      <td>0</td>\n",
       "      <td>0.0</td>\n",
       "      <td>0</td>\n",
       "    </tr>\n",
       "    <tr>\n",
       "      <th>1</th>\n",
       "      <td>0</td>\n",
       "      <td>1</td>\n",
       "      <td>0.3</td>\n",
       "      <td>0</td>\n",
       "    </tr>\n",
       "    <tr>\n",
       "      <th>2</th>\n",
       "      <td>1</td>\n",
       "      <td>0</td>\n",
       "      <td>0.3</td>\n",
       "      <td>0</td>\n",
       "    </tr>\n",
       "    <tr>\n",
       "      <th>3</th>\n",
       "      <td>1</td>\n",
       "      <td>1</td>\n",
       "      <td>0.6</td>\n",
       "      <td>1</td>\n",
       "    </tr>\n",
       "  </tbody>\n",
       "</table>\n",
       "</div>"
      ],
      "text/plain": [
       "   p  q    z  output\n",
       "0  0  0  0.0       0\n",
       "1  0  1  0.3       0\n",
       "2  1  0  0.3       0\n",
       "3  1  1  0.6       1"
      ]
     },
     "execution_count": 19,
     "metadata": {},
     "output_type": "execute_result"
    }
   ],
   "source": [
    "perceptron(df, w1, w2)"
   ]
  },
  {
   "cell_type": "markdown",
   "id": "afraid-freeware",
   "metadata": {},
   "source": [
    "## Logical operator OR\n",
    "\n",
    "What are some possible values for $w$\n",
    "\n",
    "| p | q | p OR q |\n",
    "|---|---|---------|\n",
    "| 0 | 0 |    0    |\n",
    "| 0 | 1 |    1   |\n",
    "| 1 | 0 |    1    |\n",
    "| 1 | 1 |    1    | "
   ]
  },
  {
   "cell_type": "code",
   "execution_count": 12,
   "id": "arctic-jenny",
   "metadata": {},
   "outputs": [],
   "source": [
    "w1 = 0.6\n",
    "w2 = 0.6"
   ]
  },
  {
   "cell_type": "code",
   "execution_count": 13,
   "id": "spread-revision",
   "metadata": {
    "scrolled": true
   },
   "outputs": [
    {
     "data": {
      "text/html": [
       "<div>\n",
       "<style scoped>\n",
       "    .dataframe tbody tr th:only-of-type {\n",
       "        vertical-align: middle;\n",
       "    }\n",
       "\n",
       "    .dataframe tbody tr th {\n",
       "        vertical-align: top;\n",
       "    }\n",
       "\n",
       "    .dataframe thead th {\n",
       "        text-align: right;\n",
       "    }\n",
       "</style>\n",
       "<table border=\"1\" class=\"dataframe\">\n",
       "  <thead>\n",
       "    <tr style=\"text-align: right;\">\n",
       "      <th></th>\n",
       "      <th>p</th>\n",
       "      <th>q</th>\n",
       "      <th>output</th>\n",
       "    </tr>\n",
       "  </thead>\n",
       "  <tbody>\n",
       "    <tr>\n",
       "      <th>0</th>\n",
       "      <td>0</td>\n",
       "      <td>0</td>\n",
       "      <td>0</td>\n",
       "    </tr>\n",
       "    <tr>\n",
       "      <th>1</th>\n",
       "      <td>0</td>\n",
       "      <td>1</td>\n",
       "      <td>1</td>\n",
       "    </tr>\n",
       "    <tr>\n",
       "      <th>2</th>\n",
       "      <td>1</td>\n",
       "      <td>0</td>\n",
       "      <td>1</td>\n",
       "    </tr>\n",
       "    <tr>\n",
       "      <th>3</th>\n",
       "      <td>1</td>\n",
       "      <td>1</td>\n",
       "      <td>1</td>\n",
       "    </tr>\n",
       "  </tbody>\n",
       "</table>\n",
       "</div>"
      ],
      "text/plain": [
       "   p  q  output\n",
       "0  0  0       0\n",
       "1  0  1       1\n",
       "2  1  0       1\n",
       "3  1  1       1"
      ]
     },
     "execution_count": 13,
     "metadata": {},
     "output_type": "execute_result"
    }
   ],
   "source": [
    "perceptron(df, w1, w2)"
   ]
  },
  {
   "cell_type": "markdown",
   "id": "genuine-camel",
   "metadata": {},
   "source": [
    "## Logical operator XOR\n",
    "\n",
    "What are some possible values for $w$\n",
    "\n",
    "| p | q | p XOR q |\n",
    "|---|---|---------|\n",
    "| 0 | 0 |    0    |\n",
    "| 0 | 1 |    1    |\n",
    "| 1 | 0 |    1    |\n",
    "| 1 | 1 |    0    | "
   ]
  },
  {
   "cell_type": "code",
   "execution_count": null,
   "id": "6c05a01e",
   "metadata": {},
   "outputs": [],
   "source": [
    "nonlinear(w1 * x1 * x2)"
   ]
  },
  {
   "cell_type": "code",
   "execution_count": null,
   "id": "virgin-harvest",
   "metadata": {},
   "outputs": [],
   "source": [
    "w1 = ...\n",
    "w2 = ..."
   ]
  },
  {
   "cell_type": "code",
   "execution_count": null,
   "id": "canadian-fields",
   "metadata": {
    "scrolled": true
   },
   "outputs": [],
   "source": [
    "perceptron(df, w1, w2)"
   ]
  },
  {
   "cell_type": "markdown",
   "id": "inner-toddler",
   "metadata": {},
   "source": [
    "---\n",
    "## Summary\n",
    "\n",
    "Whilst we were able to think of weights for AND & OR, for XOR there is an **inconsistency!** \n",
    "\n",
    "Below, we explain why it is actually impossible to think of weights that can solve the XOR problem for the given perceptron...\n",
    "\n",
    "For some $\\theta$, we needs weights $w_1$ and $w_2$, such that, \n",
    "\n",
    "$$0 * w_1 + 0 *w_2 < \\theta \\rightarrow 0 < \\theta$$\n",
    "\n",
    "$$0 * w_1 + 1 *w_2 > \\theta \\rightarrow w_2 > \\theta$$\n",
    "\n",
    "$$1 * w_1 + 0 *w_2 > \\theta \\rightarrow w_1 > \\theta$$\n",
    "\n",
    "$$1 * w_1 + 1 *w_2 < \\theta \\rightarrow w_1 + w_2 < \\theta$$\n",
    "\n",
    "But this leads to an inconsistency!\n",
    "\n",
    "$$w_1 + w_2 < \\theta$$\n",
    "$$w_1 + w_2 > 2*\\theta$$"
   ]
  },
  {
   "cell_type": "markdown",
   "id": "traditional-claim",
   "metadata": {},
   "source": [
    "Minsky (1969) showed that this problem was impossible to solve for a single-layer perceptron!"
   ]
  }
 ],
 "metadata": {
  "jupytext": {
   "cell_metadata_filter": "-all",
   "notebook_metadata_filter": "-all"
  },
  "kernelspec": {
   "display_name": "Python 3 (ipykernel)",
   "language": "python",
   "name": "python3"
  },
  "language_info": {
   "codemirror_mode": {
    "name": "ipython",
    "version": 3
   },
   "file_extension": ".py",
   "mimetype": "text/x-python",
   "name": "python",
   "nbconvert_exporter": "python",
   "pygments_lexer": "ipython3",
   "version": "3.8.12"
  }
 },
 "nbformat": 4,
 "nbformat_minor": 5
}
